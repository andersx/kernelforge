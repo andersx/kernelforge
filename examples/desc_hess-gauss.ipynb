{
 "cells": [
  {
   "cell_type": "code",
   "execution_count": 30,
   "id": "b38bc0ab-2850-428c-9910-f3fc805d2b33",
   "metadata": {},
   "outputs": [],
   "source": [
    "import gc\n",
    "import sys\n",
    "from time import time\n",
    "\n",
    "import kernelforge\n",
    "import matplotlib.pyplot as plt\n",
    "import numpy as np\n",
    "import rdkit\n",
    "import scipy\n",
    "from kernelforge import (\n",
    "    _kernels,\n",
    "    inverse_distance_upper,\n",
    "    inverse_distance_upper_and_jacobian,\n",
    "    kernel_asymm,\n",
    "    kernel_symm,\n",
    ")\n",
    "from kernelforge._kernels import rbf_hessian_full_tiled_gemm, solve_cholesky\n",
    "from rdkit import Chem\n",
    "from rdkit.Chem import rdFMCS, rdmolops\n",
    "from scipy.stats import pearsonr\n",
    "from tqdm.notebook import tqdm"
   ]
  },
  {
   "cell_type": "code",
   "execution_count": 10,
   "id": "a3f54b10-997d-4cd2-ab6b-55990594f3d4",
   "metadata": {},
   "outputs": [],
   "source": [
    "test = np.load(\"/home/andersx/dev/laptop-qml/kitchen-sink-qml/data/ethanol_ccsd_t-test.npz\")\n"
   ]
  },
  {
   "cell_type": "code",
   "execution_count": 11,
   "id": "da8a46b3-9831-4d6d-a9c3-484950ad2e4c",
   "metadata": {},
   "outputs": [],
   "source": [
    "train = np.load(\"/home/andersx/dev/laptop-qml/kitchen-sink-qml/data/ethanol_ccsd_t-train.npz\")\n",
    "y = train[\"E\"].flatten()\n",
    "offset = y.mean()\n",
    "y -= offset"
   ]
  },
  {
   "cell_type": "code",
   "execution_count": 85,
   "id": "0b86edc5-b502-4700-afde-4a1a2828cddd",
   "metadata": {},
   "outputs": [
    {
     "data": {
      "text/plain": [
       "array([[0, 1, 2, 3, 4, 5, 6, 7, 8]])"
      ]
     },
     "execution_count": 85,
     "metadata": {},
     "output_type": "execute_result"
    }
   ],
   "source": [
    "perms_S3 = [\n",
    "(0, 1, 2, 3, 4, 5, 6, 7, 8),\n",
    "(0, 1, 2, 3, 4, 5, 7, 6, 8),\n",
    "(0, 1, 2, 3, 4, 6, 5, 7, 8),\n",
    "(0, 1, 2, 3, 4, 6, 7, 5, 8),\n",
    "(0, 1, 2, 3, 4, 7, 5, 6, 8),\n",
    "(0, 1, 2, 3, 4, 7, 6, 5, 8),\n",
    "(0, 1, 2, 4, 3, 5, 6, 7, 8),\n",
    "(0, 1, 2, 4, 3, 5, 7, 6, 8),\n",
    "(0, 1, 2, 4, 3, 6, 5, 7, 8),\n",
    "(0, 1, 2, 4, 3, 6, 7, 5, 8),\n",
    "(0, 1, 2, 4, 3, 7, 5, 6, 8),\n",
    "(0, 1, 2, 4, 3, 7, 6, 5, 8),\n",
    "]\n",
    "perms_S3 = np.asarray(perms_S3)\n",
    "perms_S3 = perms_S3[:1]\n",
    "perms_S3"
   ]
  },
  {
   "cell_type": "code",
   "execution_count": 86,
   "id": "cd936796-c100-40ea-a234-22c1fbb073f4",
   "metadata": {},
   "outputs": [],
   "source": [
    "def build_tril_perms_lin(tril_perms):\n",
    "    \"\"\"\n",
    "    tril_perms: (P,D)\n",
    "    returns: tril_perms_lin (P*D,) suitable for np.tile(...)[tril_perms_lin]\n",
    "    \"\"\"\n",
    "    P, D = tril_perms.shape\n",
    "    perm_offsets = np.arange(P)[:, None] * D\n",
    "    tril_perms_lin = (tril_perms + perm_offsets).ravel(order=\"F\")\n",
    "    return tril_perms_lin"
   ]
  },
  {
   "cell_type": "code",
   "execution_count": 87,
   "id": "4940198d-6bbd-4121-a48b-3099555ecf6e",
   "metadata": {},
   "outputs": [],
   "source": [
    "def build_tril_perms(perms):\n",
    "    \"\"\"\n",
    "    perms: (P,N) atom permutations\n",
    "    returns: tril_perms (P,D) index permutations in lower-tri order\n",
    "    \"\"\"\n",
    "    perms = np.asarray(perms, int)\n",
    "    P, N = perms.shape\n",
    "    i, j = np.tril_indices(N, k=-1)\n",
    "    pairs = np.stack((i, j), axis=1)\n",
    "    pair_to_idx = {tuple(p): k for k,p in enumerate(pairs)}\n",
    "\n",
    "    D = pairs.shape[0]\n",
    "    tril_perms = np.empty((P, D), int)\n",
    "    for pidx, perm in enumerate(perms):\n",
    "        for k, (a, b) in enumerate(pairs):\n",
    "            aa, bb = perm[a], perm[b]\n",
    "            if aa > bb:\n",
    "                key = (aa, bb)\n",
    "            else:\n",
    "                key = (bb, aa)\n",
    "            tril_perms[pidx, k] = pair_to_idx[key]\n",
    "    return tril_perms\n"
   ]
  },
  {
   "cell_type": "code",
   "execution_count": 88,
   "id": "6de79532-31f7-4b67-9b04-a0307d8ac09a",
   "metadata": {},
   "outputs": [],
   "source": [
    "def descriptor_packed_jacobian(R):\n",
    "    \"\"\"\n",
    "    R: (N,3) coordinates\n",
    "    Returns:\n",
    "      phi: (D,) inverse distances (i>j, lower-tri order)\n",
    "      r_d_desc: (D,3) packed Jacobian components\n",
    "      pairs: (D,2) index pairs (i>j)\n",
    "    \"\"\"\n",
    "    R = np.asarray(R, float)\n",
    "    N = R.shape[0]\n",
    "\n",
    "    # lower-triangular atom pairs\n",
    "    i, j = np.tril_indices(N, k=-1)\n",
    "    pairs = np.stack((i, j), axis=1)     # (D,2)\n",
    "    D = pairs.shape[0]\n",
    "\n",
    "    # pair differences and distances\n",
    "    pdiff = R[i] - R[j]                  # (D,3)\n",
    "    r = np.linalg.norm(pdiff, axis=1)    # (D,)\n",
    "    if np.any(r == 0.0):\n",
    "        raise ValueError(\"Zero interatomic distance encountered.\")\n",
    "\n",
    "    # descriptor and packed Jacobian\n",
    "    phi = 1.0 / r                        # (D,)\n",
    "    r_d_desc = pdiff / (r**3)[:, None]   # (D,3)\n",
    "\n",
    "    return phi, r_d_desc, pairs"
   ]
  },
  {
   "cell_type": "code",
   "execution_count": 89,
   "id": "95324bca-c6f8-4b87-b75d-c2893bb379af",
   "metadata": {},
   "outputs": [],
   "source": [
    "def expand_full_jacobian(r_d_desc, pairs, N):\n",
    "    \"\"\"Expand packed (D,3) to full (D,3N).\"\"\"\n",
    "    D = r_d_desc.shape[0]\n",
    "    J = np.zeros((D, 3*N), dtype=r_d_desc.dtype)\n",
    "    for k,(i,j) in enumerate(pairs):\n",
    "        g = r_d_desc[k]\n",
    "        J[k, 3*i:3*i+3] -= g\n",
    "        J[k, 3*j:3*j+3] += g\n",
    "    return J"
   ]
  },
  {
   "cell_type": "code",
   "execution_count": 90,
   "id": "310db12d-95f0-4124-8685-a7b165d00bee",
   "metadata": {},
   "outputs": [],
   "source": [
    "# --------- low-level helper (row-by-row accumulation) ---------\n",
    "def accum_row_outer(H, ai, bi, aj, bj, gi, gj, coeff):\n",
    "    \"\"\"\n",
    "    Add coeff * outer(gi, gj) into H blocks corresponding to atom pairs (ai,bi) x (aj,bj).\n",
    "    gi, gj are (3,) packed row vectors.\n",
    "    \"\"\"\n",
    "    for u in range(3):\n",
    "        for v in range(3):\n",
    "            H[3*ai+u, 3*aj+v] += coeff * gi[u] * gj[v]\n",
    "            H[3*ai+u, 3*bj+v] -= coeff * gi[u] * gj[v]\n",
    "            H[3*bi+u, 3*aj+v] -= coeff * gi[u] * gj[v]\n",
    "            H[3*bi+u, 3*bj+v] += coeff * gi[u] * gj[v]\n",
    "\n",
    "# --------- packed JT_v -----------\n",
    "def JT_v_packed(r_d_desc, pairs, v, N):\n",
    "    \"\"\"\n",
    "    v: (D,) in descriptor space\n",
    "    r_d_desc: (D,3), pairs: (D,2)\n",
    "    Returns Cartesian projection: (3N,)\n",
    "    \"\"\"\n",
    "    out = np.zeros(3*N, dtype=float)\n",
    "    for k,(i,j) in enumerate(pairs):\n",
    "        g = r_d_desc[k]   # (3,)\n",
    "        w = v[k]\n",
    "        out[3*i:3*i+3] -= w * g\n",
    "        out[3*j:3*j+3] += w * g\n",
    "    return out\n",
    "\n",
    "# --------- single block, selectable kernel ---------\n",
    "def hessian_block_packed(phi_i, rdi, phi_j, rdj, pairs, tril_perms,\n",
    "                         sigma, kernel=\"matern52\", perm_norm=\"mean\"):\n",
    "    \"\"\"\n",
    "    Hessian block H_ij (3N x 3N) using packed Jacobians.\n",
    "    kernel: \"gaussian\" or \"matern52\"\n",
    "    \"\"\"\n",
    "    D = phi_i.size\n",
    "    N = int(np.max(pairs) + 1)\n",
    "    P = tril_perms.shape[0]\n",
    "    norm = (1.0 / P) if perm_norm == \"mean\" else 1.0\n",
    "\n",
    "    H = np.zeros((3*N, 3*N), dtype=float)\n",
    "\n",
    "    sqrt5 = np.sqrt(5.0)\n",
    "\n",
    "    for p in range(P):\n",
    "        idx = tril_perms[p]\n",
    "        phi_jp  = phi_j[idx]\n",
    "        rdj_p   = rdj[idx]\n",
    "        pairs_p = pairs[idx]\n",
    "\n",
    "        d = phi_i - phi_jp\n",
    "        r2 = np.dot(d,d)\n",
    "        r  = np.sqrt(r2)\n",
    "\n",
    "        if kernel == \"gaussian\":\n",
    "            # Gaussian kernel derivatives\n",
    "            e = np.exp(-0.5*r2/sigma**2)\n",
    "            a = e / sigma**4\n",
    "            b = e / sigma**2\n",
    "\n",
    "        elif kernel == \"matern52\":\n",
    "            if r == 0.0:\n",
    "                e = 1.0\n",
    "                rho = 0.0\n",
    "            else:\n",
    "                rho = sqrt5 * r / sigma\n",
    "                e   = np.exp(-rho)\n",
    "            a = (25.0/(3.0*sigma**4)) * e\n",
    "            b = ( 5.0/(3.0*sigma**2)) * (1.0 + rho) * e\n",
    "\n",
    "        else:\n",
    "            raise ValueError(\"Unknown kernel: %s\" % kernel)\n",
    "\n",
    "        # Term A\n",
    "        delta_cart = JT_v_packed(rdj_p, pairs_p, d, N)\n",
    "        s_i_cart   = JT_v_packed(rdi,   pairs,   a*d, N)\n",
    "        H += norm * np.outer(s_i_cart, delta_cart)\n",
    "\n",
    "        # Term B\n",
    "        coeff = - norm * b\n",
    "        for k in range(D):\n",
    "            ai, bi = pairs[k]\n",
    "            aj, bj = pairs_p[k]\n",
    "            gi = rdi[k]\n",
    "            gj = rdj_p[k]\n",
    "            accum_row_outer(H, ai, bi, aj, bj, gi, gj, coeff)\n",
    "\n",
    "    return H\n",
    "\n",
    "# --------- full symmetric kernel assembly ---------\n",
    "def assemble_training_kernel_packed(PHI, RD, pairs, tril_perms,\n",
    "                                    sigma, kernel=\"matern52\", perm_norm=\"sum\"):\n",
    "    \"\"\"\n",
    "    Build full symmetric training kernel K using packed Jacobians.\n",
    "    kernel: \"gaussian\" or \"matern52\"\n",
    "    \"\"\"\n",
    "    M, D = PHI.shape\n",
    "    N = int(np.max(pairs) + 1)\n",
    "    dim = 3 * N\n",
    "\n",
    "    K = np.zeros((M*dim, M*dim), dtype=float)\n",
    "    for j in tqdm(range(M)):\n",
    "        for i in range(j, M):\n",
    "            Hij = hessian_block_packed(PHI[i], RD[i], PHI[j], RD[j],\n",
    "                                       pairs, tril_perms, sigma,\n",
    "                                       kernel=kernel, perm_norm=perm_norm)\n",
    "            i0, i1 = i*dim, (i+1)*dim\n",
    "            j0, j1 = j*dim, (j+1)*dim\n",
    "            K[i0:i1, j0:j1] = Hij\n",
    "            if i != j:\n",
    "                K[j0:j1, i0:i1] = Hij.T\n",
    "    return K\n",
    "\n"
   ]
  },
  {
   "cell_type": "code",
   "execution_count": 91,
   "id": "75d5778b-b4c2-4599-83d7-2d76a36b4a1a",
   "metadata": {},
   "outputs": [],
   "source": [
    "X = np.asarray([descriptor_packed_jacobian(r)[0] for r in train[\"R\"]])\n",
    "dX = np.asarray([descriptor_packed_jacobian(r)[1] for r in train[\"R\"]])\n",
    "pairs = descriptor_packed_jacobian(train[\"R\"][0])[2]"
   ]
  },
  {
   "cell_type": "code",
   "execution_count": 92,
   "id": "4eff3932-8fd2-49e0-8f19-c0fe1d1c4713",
   "metadata": {},
   "outputs": [],
   "source": [
    "Xp = np.asarray([descriptor_packed_jacobian(r)[0] for r in test[\"R\"]])\n",
    "dXp = np.asarray([descriptor_packed_jacobian(r)[1] for r in test[\"R\"]])"
   ]
  },
  {
   "cell_type": "code",
   "execution_count": 93,
   "id": "44ab231e-cad3-4929-b8c3-08dabae1e581",
   "metadata": {},
   "outputs": [],
   "source": [
    "tril_perms = build_tril_perms(perms_S3)\n",
    "tril_perms_lin = build_tril_perms_lin(tril_perms)"
   ]
  },
  {
   "cell_type": "code",
   "execution_count": 143,
   "id": "bb381b40-6f76-4098-9398-77f9fdfdc1ad",
   "metadata": {},
   "outputs": [
    {
     "data": {
      "application/vnd.jupyter.widget-view+json": {
       "model_id": "d7d8508ccad84797bb4ebb52b675faa0",
       "version_major": 2,
       "version_minor": 0
      },
      "text/plain": [
       "  0%|          | 0/10 [00:00<?, ?it/s]"
      ]
     },
     "metadata": {},
     "output_type": "display_data"
    },
    {
     "data": {
      "text/plain": [
       "array([[-4.03058652e-01, -2.03012168e-02,  3.84583892e-02,  1.29721550e-01,  8.72441083e-02,  2.98628422e-03,  1.50431467e-01, -1.24959212e-01,  6.81662811e-03,  1.94138054e-03,  2.34542813e-02, -2.85266170e-02],\n",
       "       [-2.03012168e-02, -7.57098919e-01,  1.05959980e-02,  8.72441083e-02,  5.86759442e-02,  2.00842269e-03, -1.24959212e-01,  1.03800122e-01, -5.66238231e-03,  2.34542813e-02,  2.83356765e-01, -3.44636863e-01],\n",
       "       [ 3.84583892e-02,  1.05959980e-02, -9.06914687e-01,  2.98628422e-03,  2.00842269e-03,  6.87464298e-05,  6.81662811e-03, -5.66238231e-03,  3.08887627e-04, -2.85266170e-02, -3.44636863e-01,  4.19169690e-01],\n",
       "       [ 1.29721550e-01,  8.72441083e-02,  2.98628422e-03, -9.04098650e-01,  3.12043830e-01,  4.98456682e-02,  3.31095168e-02, -7.38103281e-04,  1.10338763e-03,  1.60401309e-02,  1.87529493e-02, -9.90567718e-03],\n",
       "       [ 8.72441083e-02,  5.86759442e-02,  2.00842269e-03,  3.12043830e-01, -6.74780959e-01,  5.12402231e-02, -7.38103281e-04,  1.64543765e-05, -2.45975813e-05,  1.87529493e-02,  2.19245784e-02, -1.15809941e-02],\n",
       "       [ 2.98628422e-03,  2.00842269e-03,  6.87464298e-05,  4.98456682e-02,  5.12402231e-02, -8.61408833e-01,  1.10338763e-03, -2.45975813e-05,  3.67708256e-05, -9.90567718e-03, -1.15809941e-02,  6.11730922e-03],\n",
       "       [ 1.50431467e-01, -1.24959212e-01,  6.81662811e-03,  3.31095168e-02, -7.38103281e-04,  1.10338763e-03, -8.72991079e-01, -6.76641284e-02,  4.45141647e-01,  1.25308485e-02, -1.94539005e-02,  1.08927934e-02],\n",
       "       [-1.24959212e-01,  1.03800122e-01, -5.66238231e-03, -7.38103281e-04,  1.64543765e-05, -2.45975813e-05, -6.76641284e-02, -2.51088334e-01,  1.69896134e-01, -1.94539005e-02,  3.02018053e-02, -1.69108516e-02],\n",
       "       [ 6.81662811e-03, -5.66238231e-03,  3.08887627e-04,  1.10338763e-03, -2.45975813e-05,  3.67708256e-05,  4.45141647e-01,  1.69896134e-01, -3.70456698e-01,  1.08927934e-02, -1.69108516e-02,  9.46886781e-03],\n",
       "       [ 1.94138054e-03,  2.34542813e-02, -2.85266170e-02,  1.60401309e-02,  1.87529493e-02, -9.90567718e-03,  1.25308485e-02, -1.94539005e-02,  1.08927934e-02, -7.69311426e-02, -2.38374598e-02,  3.53680363e-02],\n",
       "       [ 2.34542813e-02,  2.83356765e-01, -3.44636863e-01,  1.87529493e-02,  2.19245784e-02, -1.15809941e-02, -1.94539005e-02,  3.02018053e-02, -1.69108516e-02, -2.38374598e-02, -3.79449828e-01,  3.88163230e-01],\n",
       "       [-2.85266170e-02, -3.44636863e-01,  4.19169690e-01, -9.90567718e-03, -1.15809941e-02,  6.11730922e-03,  1.08927934e-02, -1.69108516e-02,  9.46886781e-03,  3.53680363e-02,  3.88163230e-01, -5.53369732e-01],\n",
       "       [ 1.69108323e-07,  2.01510481e-04,  2.79531006e-04,  1.59718506e-02,  1.88369901e-02,  1.16032683e-02,  1.53955417e-02, -2.18865422e-02, -1.19136375e-02,  1.20237328e-04,  1.13196710e-04, -3.66049546e-03],\n",
       "       [ 2.01510481e-04,  2.40121084e-01,  3.33090805e-01,  1.88369901e-02,  2.22160978e-02,  1.36847417e-02, -2.18865422e-02,  3.11142496e-02,  1.69366129e-02,  1.13196710e-04,  1.06568363e-04, -3.44615145e-03],\n",
       "       [ 2.79531006e-04,  3.33090805e-01,  4.62056402e-01,  1.16032683e-02,  1.36847417e-02,  8.42957013e-03, -1.19136375e-02,  1.69366129e-02,  9.21921175e-03, -3.66049546e-03, -3.44615145e-03,  1.11439826e-01],\n",
       "       [ 3.70673371e-02,  6.69565056e-03,  9.55900296e-04,  6.45870534e-01, -2.98074322e-01,  1.89891573e-02,  7.80341836e-03, -1.17394001e-03,  2.51116853e-04,  1.50691173e-02,  7.22688465e-03, -5.18344634e-03],\n",
       "       [ 6.69565056e-03,  1.20946741e-03,  1.72668847e-04, -2.98074322e-01,  1.37563640e-01, -8.76364518e-03, -1.17394001e-03,  1.76606596e-04, -3.77778183e-05,  7.22688465e-03,  3.46588727e-03, -2.48589006e-03],\n",
       "       [ 9.55900296e-04,  1.72668847e-04,  2.46509581e-05,  1.89891573e-02, -8.76364518e-03,  5.58297795e-04,  2.51116853e-04, -3.77778183e-05,  8.08103202e-06, -5.18344634e-03, -2.48589006e-03,  1.78299203e-03],\n",
       "       [ 1.16929951e-02,  2.09929164e-02,  9.96154645e-03,  5.10150311e-02, -1.18887946e-01, -1.11924368e-01,  2.77539007e-02,  1.03635686e-02,  1.15223492e-02,  3.58910126e-03,  8.61596620e-03, -2.25537501e-04],\n",
       "       [ 2.09929164e-02,  3.76894487e-02,  1.78843752e-02, -1.18887946e-01,  2.77062334e-01,  2.60834069e-01,  1.03635686e-02,  3.86985436e-03,  4.30255400e-03,  8.61596620e-03,  2.06834158e-02, -5.41423423e-04],\n",
       "       [ 9.96154645e-03,  1.78843752e-02,  8.48648329e-03, -1.11924368e-01,  2.60834069e-01,  2.45556335e-01,  1.15223492e-02,  4.30255400e-03,  4.78363504e-03, -2.25537501e-04, -5.41423423e-04,  1.41726747e-05],\n",
       "       [ 2.13485703e-02,  2.37808531e-02, -1.64505652e-02,  2.51741278e-03, -1.98975306e-02,  3.88771099e-02,  2.23424931e-02,  4.26224872e-03, -8.56264500e-03,  2.31487095e-03,  3.73792260e-03, -3.25556337e-03],\n",
       "       [ 2.37808531e-02,  2.64902503e-02, -1.83248090e-02, -1.98975306e-02,  1.57269291e-01, -3.07283132e-01,  4.26224872e-03,  8.13103715e-04, -1.63348479e-03,  3.73792260e-03,  6.03578587e-03, -5.25689949e-03],\n",
       "       [-1.64505652e-02, -1.83248090e-02,  1.26763100e-02,  3.88771099e-02, -3.07283132e-01,  6.00390085e-01, -8.56264500e-03, -1.63348479e-03,  3.28158944e-03, -3.25556337e-03, -5.25689949e-03,  4.57852429e-03],\n",
       "       [ 5.08551836e-02, -1.71088913e-02, -1.44810971e-02,  9.85262423e-03,  7.20024119e-04, -1.57483068e-03,  6.03623893e-01,  2.21250009e-01, -4.55251639e-01,  2.53254559e-02, -1.86098403e-02,  4.49650713e-03],\n",
       "       [-1.71088913e-02,  5.75583731e-03,  4.87178491e-03,  7.20024119e-04,  5.26189490e-05, -1.15087721e-04,  2.21250009e-01,  8.10961379e-02, -1.66866207e-01, -1.86098403e-02,  1.36750216e-02, -3.30415689e-03],\n",
       "       [-1.44810971e-02,  4.87178491e-03,  4.12351617e-03, -1.57483068e-03, -1.15087721e-04,  2.51718893e-04, -4.55251639e-01, -1.66866207e-01,  3.43349655e-01,  4.49650713e-03, -3.30415689e-03,  7.98349945e-04]])"
      ]
     },
     "execution_count": 143,
     "metadata": {},
     "output_type": "execute_result"
    }
   ],
   "source": [
    "np.set_printoptions(threshold=np.inf, linewidth=999)\n",
    "sigma = 1.0\n",
    "n_train = 10\n",
    "K = assemble_training_kernel_packed(X[:n_train], dX[:n_train], pairs, tril_perms, sigma, kernel=\"gaussian\")\n",
    "K[:27, :12]"
   ]
  },
  {
   "cell_type": "code",
   "execution_count": 145,
   "id": "b432c949-6550-46af-8ba6-4b4f147c8627",
   "metadata": {},
   "outputs": [],
   "source": [
    "np.save(\"K_gdml.npy\", K)"
   ]
  },
  {
   "cell_type": "code",
   "execution_count": 146,
   "id": "4f8cf39c-1445-4540-858d-5baff62553dc",
   "metadata": {
    "scrolled": true
   },
   "outputs": [
    {
     "name": "stdout",
     "output_type": "stream",
     "text": [
      "DID CHOLESKY\n",
      "[ -125.78978721  -115.34656493  -230.33926601    10.02919851  -462.33458351    31.14782605  -119.26384287  -526.56817423   135.17156723  -368.28349429   -31.00374264   -62.28321626   374.76334507  -174.4968223   -111.16864128   530.18434247   649.64299448   -85.13692679   126.25347524   -96.93969854   -80.90413945   130.66212215    61.56321817    89.93105475  -512.61048956   695.48181807   359.53401428   -31.54934019    39.75928928   229.47410181    -8.17300101   -95.37547925    20.69063151   317.53856525  -500.91576523 -1110.53315255  -104.20418966   614.09976433   707.09757045    42.38435864  -251.07460033   591.74965525  -507.48004012   -97.25059923 -1269.11801612   -28.50737101  -797.90404071  1192.22414561   763.75336599   718.74658765   160.96070293  -535.66238681   415.86277672  -522.55298332]\n"
     ]
    },
    {
     "data": {
      "text/plain": [
       "array([  125.78998255,   115.346699  ,   230.33952077,   -10.02874582,   462.33433706,   -31.14763337,   119.26429833,   526.5686395 ,  -135.17098149,   368.28362128,    31.00375014,    62.28336231,  -374.76348567,   174.49710775,   111.16878713,  -530.18401792,  -649.64353348,    85.13688526,  -126.25266101,    96.93942602,    80.90452461,  -130.66168032,   -61.56328384,   -89.93076884,   512.61095598,  -695.48122375,  -359.53335129,    31.54835697,   -39.76028226,  -229.47502266,     8.17282249,    95.37579733,   -20.6919604 ,  -317.53869063,   500.91363208,  1110.53264079,   104.20225486,  -614.10115803,  -707.09839116,   -42.38571672,   251.07376492,  -591.75064156,   507.479349  ,    97.25178433,  1269.116381  ,    28.50798   ,   797.90429108, -1192.22542456,  -763.75279819,  -718.74597376,  -160.96210422,   535.66304091,  -415.86479485,   522.55246046])"
      ]
     },
     "execution_count": 146,
     "metadata": {},
     "output_type": "execute_result"
    }
   ],
   "source": [
    "K_solve = -K.copy()\n",
    "yf = -train[\"F\"][:n_train].flatten()\n",
    "y_std = np.std(yf)\n",
    "yf /= y_std\n",
    "# print(yf)\n",
    "K_solve[np.diag_indices_from(K_solve)] += 1e-10\n",
    "# Cholesky (do not overwrite K in case we need to retry)\n",
    "L, lower = scipy.linalg.cho_factor(\n",
    "    K_solve, overwrite_a=False, check_finite=False\n",
    ")\n",
    "alphas = -scipy.linalg.cho_solve(\n",
    "    (L, lower), yf, overwrite_b=False, check_finite=False\n",
    ")\n",
    "print(\"DID CHOLESKY\")\n",
    "# alpha = np.linalg.solve(K_solve, yf)\n",
    "alpha = solve_cholesky(K_solve, yf)\n",
    "print(alphas[:54])\n",
    "alpha[:54]"
   ]
  },
  {
   "cell_type": "code",
   "execution_count": 109,
   "id": "c5610f94-c513-49e7-9868-36a4bd04f8f6",
   "metadata": {},
   "outputs": [],
   "source": [
    "def pack_alphas(PHI, RD, pairs, alphas):\n",
    "    \"\"\"\n",
    "    Contract alphas (Cartesian) into descriptor space.\n",
    "    \n",
    "    Parameters\n",
    "    ----------\n",
    "    PHI    : (M,D) descriptor array (not used, just to get sizes)\n",
    "    RD     : (M,D,3) packed Jacobians for each sample\n",
    "    pairs  : (D,2) atom index pairs\n",
    "    alphas : (M*3N,) regression weights in Cartesian space\n",
    "    \n",
    "    Returns\n",
    "    -------\n",
    "    RD_ALPHA : (M,D) each row is J_m @ alpha_m\n",
    "    \"\"\"\n",
    "    M, D, _ = RD.shape\n",
    "    N = int(np.max(pairs) + 1)\n",
    "    dim = 3 * N\n",
    "    alphas = alphas.reshape(M, dim)\n",
    "\n",
    "    RD_ALPHA = np.zeros((M, D))\n",
    "    for m in range(M):\n",
    "        v = np.zeros(D)\n",
    "        for k, (i, j) in enumerate(pairs):\n",
    "            g = RD[m, k]        # (3,)\n",
    "            # contribution from atoms i,j\n",
    "            v[k] = (-g @ alphas[m, 3*i:3*i+3]) + (g @ alphas[m, 3*j:3*j+3])\n",
    "        RD_ALPHA[m] = v\n",
    "    return RD_ALPHA"
   ]
  },
  {
   "cell_type": "code",
   "execution_count": 110,
   "id": "14a8e383-def5-46b6-b73e-afa762e74178",
   "metadata": {},
   "outputs": [],
   "source": [
    "# --- packed projection: J^T @ v (v in descriptor space) ---\n",
    "def JT_v_packed(r_d_desc, pairs, v, N):\n",
    "    out = np.zeros(3*N, dtype=float)\n",
    "    for k,(i,j) in enumerate(pairs):\n",
    "        g = r_d_desc[k]  # (3,)\n",
    "        w = v[k]\n",
    "        out[3*i:3*i+3] -= w * g\n",
    "        out[3*j:3*j+3] += w * g\n",
    "    return out\n",
    "\n",
    "\n",
    "def predict_kernel_packed_simple(\n",
    "    phi_q, rd_q, pairs,                # query: (D,), (D,3), (D,2)\n",
    "    PHI, RD_ALPHA,                     # training banks: (M,D), (M,D) with RD_ALPHA[m] = J_m @ alpha_m\n",
    "    tril_perms,                        # (P,D) descriptor row permutations (from atom perms)\n",
    "    sigma, kernel=\"matern52\",          # \"gaussian\" or \"matern52\"\n",
    "    std=1.0, c=0.0,                    # model scale & energy offset\n",
    "    return_energy=True\n",
    "):\n",
    "    \"\"\"\n",
    "    Returns (E, F) or (F,) for the query geometry.\n",
    "\n",
    "    phi_q   : (D,)      query descriptor\n",
    "    rd_q    : (D,3)     query packed Jacobian\n",
    "    pairs   : (D,2)     atom index pairs (i>j)\n",
    "    PHI     : (M,D)     training descriptors\n",
    "    RD_ALPHA: (M,D)     prepacked (J_m @ alpha_m) per training sample\n",
    "    tril_perms : (P,D)  descriptor row permutations\n",
    "    sigma   : kernel length scale\n",
    "    kernel  : \"gaussian\" or \"matern52\"\n",
    "    \"\"\"\n",
    "    phi_q   = np.asarray(phi_q,   float)\n",
    "    rd_q    = np.asarray(rd_q,    float)\n",
    "    PHI     = np.asarray(PHI,     float)\n",
    "    RD_ALPHA= np.asarray(RD_ALPHA,float)\n",
    "    tril    = np.asarray(tril_perms, int)\n",
    "\n",
    "    D = phi_q.size\n",
    "    N = int(np.max(pairs) + 1)\n",
    "    sqrt5 = np.sqrt(5.0)\n",
    "\n",
    "    # descriptor-space accumulator and energy (pre-scale)\n",
    "    F_desc = np.zeros(D, dtype=float)\n",
    "    E_pred = 0.0\n",
    "\n",
    "    sig_inv = 1.0 / sigma\n",
    "    if kernel == \"matern52\":\n",
    "        mat52_base_fact = 5.0 / (3.0 * sigma**3)\n",
    "        diag_scale_fact = 5.0 / sigma\n",
    "\n",
    "    for j in range(PHI.shape[0]):\n",
    "        phi_j_perm  = PHI[j][tril]       # (P,D)\n",
    "        rda_j_perm  = RD_ALPHA[j][tril]  # (P,D)\n",
    "\n",
    "        diff = phi_q[None, :] - phi_j_perm  # (P,D)\n",
    "\n",
    "        if kernel == \"gaussian\":\n",
    "            # squared distances per perm\n",
    "            r2 = np.sum(diff**2, axis=1)       # (P,)\n",
    "            base = np.exp(-0.5 * r2 / sigma**2)\n",
    "            a = base / sigma**4\n",
    "            b = base / sigma**2\n",
    "\n",
    "            a_x2 = np.einsum('pd,pd->p', diff, rda_j_perm)  # (P,)\n",
    "            # F_desc contributions\n",
    "            F_desc += (a_x2 * a).dot(diff)                  # (D,)\n",
    "            F_desc -= b.dot(rda_j_perm)                     # (D,)\n",
    "            E_pred += a_x2.dot(base)                        # energy-like term\n",
    "\n",
    "        elif kernel == \"matern52\":\n",
    "            norm_ab = sqrt5 * np.linalg.norm(diff, axis=1)   # (P,)\n",
    "            base = np.exp(-norm_ab * sig_inv) * mat52_base_fact\n",
    "            a_x2 = np.einsum('pd,pd->p', diff, rda_j_perm)   # (P,)\n",
    "\n",
    "            # first term\n",
    "            F_desc += (a_x2 * base).dot(diff) * diag_scale_fact\n",
    "            # rescale base\n",
    "            base *= (norm_ab + sigma)\n",
    "            # second term\n",
    "            F_desc -= base.dot(rda_j_perm)\n",
    "            # energy\n",
    "            E_pred += a_x2.dot(base)\n",
    "\n",
    "        else:\n",
    "            raise ValueError(f\"Unknown kernel {kernel}\")\n",
    "\n",
    "    # Project to Cartesian: F = J_q^T @ F_desc  (packed)\n",
    "    F = JT_v_packed(rd_q, pairs, F_desc, N)\n",
    "\n",
    "    # Final scaling & energy offset\n",
    "    F *= std\n",
    "    if return_energy:\n",
    "        E = E_pred * std + c\n",
    "        return E, F\n",
    "    else:\n",
    "        return (F,)\n"
   ]
  },
  {
   "cell_type": "code",
   "execution_count": 111,
   "id": "04f1be71-488f-4aae-838b-e4ad57d4996c",
   "metadata": {},
   "outputs": [],
   "source": [
    "# --- helper ---\n",
    "def accum_row_outer(H, ai, bi, aj, bj, gi, gj, coeff):\n",
    "    \"\"\"Accumulate coeff * outer(gi, gj) into Cartesian blocks of H.\"\"\"\n",
    "    for (I, gI) in [(ai, gi), (bi, -gi)]:\n",
    "        for (J, gJ) in [(aj, gj), (bj, -gj)]:\n",
    "            H[3*I:3*I+3, 3*J:3*J+3] += coeff * np.outer(gI, gJ)\n",
    "\n",
    "def predict_kernel_block_packed(\n",
    "    phi_q, rd_q, pairs,             # query descriptor (D,), Jacobian (D,3), pairs (D,2)\n",
    "    PHI, RD,                        # training banks: (M,D), (M,D,3)\n",
    "    tril_perms,                     # (P,D) descriptor row permutations\n",
    "    sigma, kernel=\"matern52\"\n",
    "):\n",
    "    \"\"\"\n",
    "    Construct the kernel block between query and all training samples.\n",
    "\n",
    "    Returns:\n",
    "      Kq : (3N, M*3N)   force-force kernel block (not yet multiplied by alphas)\n",
    "\n",
    "    phi_q   : (D,)\n",
    "    rd_q    : (D,3)\n",
    "    pairs   : (D,2)\n",
    "    PHI     : (M,D)\n",
    "    RD      : (M,D,3)\n",
    "    tril_perms : (P,D)\n",
    "    sigma   : kernel length scale\n",
    "    kernel  : \"gaussian\" or \"matern52\"\n",
    "    \"\"\"\n",
    "    phi_q   = np.asarray(phi_q, float)\n",
    "    rd_q    = np.asarray(rd_q,  float)\n",
    "    PHI     = np.asarray(PHI,   float)\n",
    "    RD      = np.asarray(RD,    float)\n",
    "    tril    = np.asarray(tril_perms, int)\n",
    "\n",
    "    D = phi_q.size\n",
    "    N = int(np.max(pairs) + 1)\n",
    "    dim = 3*N\n",
    "    sqrt5 = np.sqrt(5.0)\n",
    "\n",
    "    Kq = np.zeros((dim, PHI.shape[0]*dim))\n",
    "\n",
    "    sig_inv = 1.0 / sigma\n",
    "    if kernel == \"matern52\":\n",
    "        mat52_base_fact = 5.0 / (3.0 * sigma**3)\n",
    "        diag_scale_fact = 5.0 / sigma\n",
    "\n",
    "    for j in range(PHI.shape[0]):\n",
    "        Hj = np.zeros((dim, dim))\n",
    "        phi_j = PHI[j]\n",
    "        rdj   = RD[j]\n",
    "\n",
    "        for p in range(tril.shape[0]):\n",
    "            idx = tril[p]\n",
    "            phi_jp = phi_j[idx]\n",
    "            rdj_p  = rdj[idx]\n",
    "            pairs_p= pairs[idx]\n",
    "\n",
    "            diff = phi_q - phi_jp\n",
    "\n",
    "            if kernel == \"gaussian\":\n",
    "                r2 = np.dot(diff, diff)\n",
    "                base = np.exp(-0.5 * r2 / sigma**2)\n",
    "                a = base / sigma**4\n",
    "                b = base / sigma**2\n",
    "                # Term A: outer(J_q^T (a d), J_j^T d)\n",
    "                vj = JT_v_packed(rdj_p, pairs_p, diff, N)\n",
    "                vi = JT_v_packed(rd_q, pairs, a*diff, N)\n",
    "                Hj += np.outer(vi, vj)\n",
    "                # Term B: -b * sum_k outer(J_q_row_k, J_j_row_k^p)\n",
    "                for k in range(D):\n",
    "                    ai, bi = pairs[k]\n",
    "                    aj, bj = pairs_p[k]\n",
    "                    gi = rd_q[k]\n",
    "                    gj = rdj_p[k]\n",
    "                    accum_row_outer(Hj, ai, bi, aj, bj, gi, gj, -b)\n",
    "\n",
    "            elif kernel == \"matern52\":\n",
    "                r = np.linalg.norm(diff)\n",
    "                rho = sqrt5 * r * sig_inv\n",
    "                e   = np.exp(-rho)\n",
    "                a = (25.0 / (3.0 * sigma**4)) * e\n",
    "                b = (5.0 / (3.0 * sigma**2)) * (1+rho) * e\n",
    "                # Term A\n",
    "                vj = JT_v_packed(rdj_p, pairs_p, diff, N)\n",
    "                vi = JT_v_packed(rd_q,  pairs, a*diff, N)\n",
    "                Hj += np.outer(vi, vj)\n",
    "                # Term B\n",
    "                for k in range(D):\n",
    "                    ai, bi = pairs[k]\n",
    "                    aj, bj = pairs_p[k]\n",
    "                    gi = rd_q[k]\n",
    "                    gj = rdj_p[k]\n",
    "                    accum_row_outer(Hj, ai, bi, aj, bj, gi, gj, -b)\n",
    "\n",
    "        # Insert Hj into Kq\n",
    "        j0, j1 = j*dim, (j+1)*dim\n",
    "        Kq[:, j0:j1] = Hj\n",
    "\n",
    "    return Kq\n",
    "\n"
   ]
  },
  {
   "cell_type": "code",
   "execution_count": 136,
   "id": "0bf24043-1468-4864-a460-4db1b74a413a",
   "metadata": {},
   "outputs": [
    {
     "data": {
      "text/plain": [
       "array([-41.19176608,  -0.32436201, -23.22942561, -18.40363706,  11.02112527,  21.81045627,  13.6088945 ,   5.53227021,  17.30133714,  11.35173829,   8.40389081,  13.01584554,  16.49699238, -10.44710141, -21.78945421,  20.60539041, -29.58008605,  15.93733555, -32.47267175,  12.8517    ,  -6.38132113,  17.83370386,  15.32507598,  -7.26136608,  12.17135544, -12.78251281,  -9.40340746])"
      ]
     },
     "execution_count": 136,
     "metadata": {},
     "output_type": "execute_result"
    }
   ],
   "source": [
    "pd_alphas = pack_alphas(X[:n_train], dX[:n_train], pairs, alphas)\n",
    "idx_test = 0\n",
    "fp = predict_kernel_packed_simple(\n",
    "    Xp[idx_test], dXp[idx_test], pairs,            # query: (D,), (D,3), (D,2)\n",
    "    X[:n_train], pd_alphas,                 # training: (M,D), (M,D) where RD_ALPHA[m] = (J_m @ alpha_m)\n",
    "    tril_perms,                    # (P,D) descriptor row permutations\n",
    "    sigma,                         # scalar\n",
    "    kernel=\"gaussian\",\n",
    "    return_energy=True\n",
    ")[1] * y_std\n",
    "fp"
   ]
  },
  {
   "cell_type": "code",
   "execution_count": 139,
   "id": "3171c43e-5dfe-46d3-99ff-528543ce3db4",
   "metadata": {
    "scrolled": true
   },
   "outputs": [
    {
     "data": {
      "text/plain": [
       "array([[-9.95192178e+00, -3.73053401e+00, -8.69382193e-01,  3.32445482e+00,  2.22995751e+00,  7.25507511e-02,  3.89717891e+00, -3.22861110e+00,  1.75536594e-01,  1.18585655e-01,  1.42780459e+00, -1.73511994e+00,  3.14766051e-03,  1.89922468e+00,  2.63246725e+00,  5.46162582e-01,  1.02216244e-01,  1.33022274e-02,  5.16412011e-01,  9.35234580e-01,  4.43577124e-01,  6.14633217e-01,  6.80709521e-01, -4.69614216e-01,  9.31346930e-01, -3.16002017e-01, -2.63317595e-01],\n",
       "       [-6.46894324e-01, -1.82606866e+01,  1.25314309e+00,  2.11567397e+00,  1.39835847e+00,  3.21545344e-02, -2.52406170e+00,  2.13269905e+00, -1.18780198e-01,  6.34222193e-01,  7.64199611e+00, -9.28858534e+00,  1.13963852e-02,  5.88199944e+00,  8.15066716e+00,  8.65664515e-01,  1.71171380e-01,  1.90713259e-02,  4.10448626e-02,  1.07361144e-01,  5.00725037e-02,  5.42919488e-01,  5.88352723e-01, -4.01711903e-01, -1.03996539e+00,  3.38748307e-01,  3.03968827e-01],\n",
       "       [ 1.04059945e+00, -9.99042539e-01, -2.35431398e+01, -8.37963726e-02, -7.58253941e-02, -1.50605392e-02,  2.46823901e-01, -1.76440374e-01,  7.68917895e-03, -7.25236458e-01, -8.77777713e+00,  1.06809460e+01,  1.30734035e-02,  9.47035043e+00,  1.31301508e+01, -3.64756755e-01, -5.41428793e-02, -1.19872165e-02, -6.84613913e-02, -9.61947506e-02, -4.63385193e-02,  4.90453292e-01,  5.33301009e-01, -3.64721126e-01, -5.48699074e-01,  1.75771620e-01,  1.62461226e-01],\n",
       "       [ 3.32364132e+00,  2.20770973e+00,  6.27990698e-02,  2.14091254e+00, -1.39872642e+01, -8.99583127e+00,  6.97690951e-01, -2.92982962e-02,  2.83418999e-02,  4.03915381e-01,  4.73243733e-01, -2.56579388e-01,  4.52946352e-01,  5.48880838e-01,  3.53013726e-01, -3.42946193e+00,  1.57840916e+00, -9.68034302e-02, -3.95129815e+00,  9.28944770e+00,  8.74116668e+00,  1.21348896e-02, -1.11867956e-01,  2.32351671e-01,  3.49518649e-01,  3.07392491e-02, -6.84589595e-02],\n",
       "       [ 2.09115812e+00,  1.44707918e+00,  6.83473790e-02, -1.78769765e+01,  6.42283818e+00,  8.92169880e+00,  6.29359827e-02,  1.88504424e-02, -5.40450493e-03,  4.36264216e-01,  5.08552061e-01, -2.58897876e-01,  4.39846924e-01,  4.97115418e-01,  2.84240814e-01,  1.30694408e+01, -6.02529207e+00,  3.78320897e-01,  2.16962722e+00, -5.17577996e+00, -4.86647079e+00, -2.90766238e-01,  2.32171395e+00, -4.55661848e+00, -1.01530520e-01, -1.50771974e-02,  3.47837623e-02],\n",
       "       [-9.89410980e-02, -6.59507272e-02, -1.98356466e-03,  9.89264892e+00, -1.06999579e+01,  1.73112058e+01,  9.94214586e-03,  7.31635343e-05,  2.22131537e-04, -2.40782639e-01, -2.81527251e-01,  1.48849856e-01,  2.64309802e-01,  3.11408597e-01,  1.91502602e-01, -9.43330763e+00,  4.35363807e+00, -2.77433821e-01,  7.26010771e-01, -1.69367179e+00, -1.59437949e+00, -1.02263466e+00,  8.08320592e+00, -1.57937973e+01, -9.72456135e-02, -7.21811183e-03,  1.58136959e-02],\n",
       "       [ 3.88765357e+00, -3.21740622e+00,  1.83677959e-01,  7.50016934e-01, -2.45194477e-02,  1.34814493e-02, -7.08524817e+00,  4.16192659e+00,  2.70874010e-01,  3.61919471e-01, -5.59101060e-01,  3.16679960e-01,  4.96471078e-01, -7.02239520e-01, -3.90572810e-01,  3.07515900e-01, -4.01210732e-02,  7.73759457e-03,  3.23496122e-01,  1.20738582e-01,  1.37559909e-01,  4.65724382e-01,  7.95997379e-02, -1.67900152e-01,  4.92450715e-01,  1.81122412e-01, -3.71537920e-01],\n",
       "       [-2.55172492e+00,  2.09950368e+00, -1.28283661e-01, -1.69199022e-02,  1.35141988e-02,  1.88282512e-02,  1.61011064e+01,  8.26903426e-01, -9.39380716e+00, -5.00605065e-01,  7.72510813e-01, -4.38653772e-01, -6.44268060e-01,  9.09919566e-01,  5.09313226e-01,  1.47164251e-01, -3.24834525e-02,  8.37125138e-03, -2.32869946e-02, -8.59801913e-03, -1.51534226e-02,  5.62772991e-02,  2.63092261e-02, -3.93989661e-02, -1.25677430e+01, -4.60757944e+00,  9.47878425e+00],\n",
       "       [ 2.24529561e-01, -2.00474622e-01,  1.40097571e-03, -6.14245002e-03,  9.24427541e-03,  1.32390499e-02,  1.73704368e+01,  6.50114553e+00, -1.37728376e+01,  2.89371137e-01, -4.52479858e-01,  2.49125447e-01, -3.88703605e-01,  5.48440064e-01,  3.08249072e-01, -7.08363812e-02,  3.48537653e-03,  2.40767762e-04,  4.86822743e-03,  1.88547954e-03, -1.78181169e-03,  1.98927012e-01,  4.87453594e-02, -8.85992306e-02, -1.76224503e+01, -6.45999160e+00,  1.32909633e+01],\n",
       "       [ 1.18672374e-01,  1.42406312e+00, -1.73808271e+00,  4.02875227e-01,  4.76886284e-01, -2.48039066e-01,  3.55318171e-01, -5.61739267e-01,  3.14064854e-01, -1.67491556e+00, -1.77853285e+00,  1.78214112e+00, -3.73846882e-03, -1.77411225e-03,  8.22874113e-02,  1.32847003e-01,  6.02344058e-02, -4.40001041e-02,  1.74667182e-01,  4.10996160e-01, -9.83271922e-03,  1.39110987e-01,  2.27747908e-01, -1.98874555e-01,  3.55163083e-01, -2.57881646e-01,  6.03357713e-02],\n",
       "       [ 6.33292447e-01,  7.63506245e+00, -9.29621834e+00,  4.27548007e-01,  5.09536899e-01, -2.62784292e-01, -5.07411794e-01,  7.71080380e-01, -4.32522641e-01, -4.35503090e-01, -9.99592926e+00,  1.07283400e+01,  7.05264495e-03,  9.51576604e-03, -2.66658144e-01,  2.66854116e-01,  1.22249772e-01, -8.89967669e-02,  7.68479995e-02,  1.70790317e-01, -2.94521793e-03,  1.80051274e-01,  2.95876596e-01, -2.58546049e-01, -6.48731604e-01,  4.81817075e-01, -1.19668547e-01],\n",
       "       [-7.26549952e-01, -8.77943116e+00,  1.06769802e+01, -2.41446170e-01, -2.81180294e-01,  1.49248739e-01,  2.89789371e-01, -4.51788143e-01,  2.52881161e-01,  9.56425906e-01,  9.84474035e+00, -1.40712338e+01, -9.72985081e-02, -9.12739565e-02,  2.95623909e+00, -1.60828292e-01, -7.77820477e-02,  5.56393489e-02, -7.20922921e-02, -1.74621346e-01,  4.74452704e-03,  2.05916559e-02,  3.38348846e-02, -2.95654411e-02,  3.14082809e-02, -2.24982883e-02,  5.06614058e-03],\n",
       "       [ 1.19671402e-03,  1.90284908e+00,  2.63734766e+00,  4.63640072e-01,  5.42238165e-01,  3.32822906e-01,  4.96195854e-01, -6.98115478e-01, -3.81153347e-01, -2.38390791e-03, -2.29781841e-03,  8.04271639e-02, -1.57762446e+00, -2.28266817e+00, -2.86772910e+00,  2.23732536e-01,  1.07324233e-01,  9.54142931e-02,  1.12586899e-01,  2.87162367e-01,  2.09748130e-01,  1.46502598e-01,  2.38809395e-01, -2.56892641e-03,  1.36153700e-01, -9.53017740e-02, -1.04308785e-01],\n",
       "       [ 7.09486813e-03,  5.87161095e+00,  8.15712478e+00,  4.14068502e-01,  5.13114539e-01,  3.22497167e-01, -6.59344539e-01,  8.97880905e-01,  4.94944262e-01,  7.60435134e-03,  7.44885501e-03, -2.74032911e-01, -1.79971215e-01, -8.03721913e+00, -9.11794381e+00,  4.23933371e-01,  1.83889878e-01,  1.77063292e-01,  5.65456011e-02,  1.04463054e-01,  7.52092553e-02,  1.65470178e-01,  2.85622797e-01, -1.53980164e-02, -2.35401117e-01,  1.73188150e-01,  1.80535982e-01],\n",
       "       [ 1.10376596e-02,  9.45290432e+00,  1.31302736e+01,  2.44415394e-01,  3.23739437e-01,  2.08624972e-01, -4.15827807e-01,  5.34630771e-01,  2.99893357e-01, -9.89347490e-02, -9.27264145e-02,  2.95104280e+00,  1.49240561e-01, -1.07862361e+01, -1.67972781e+01,  5.59017031e-02,  5.48805683e-03,  1.97545203e-02,  5.63164438e-02,  8.81554623e-02,  6.28659918e-02,  1.87148113e-01,  3.27006758e-01, -2.05325844e-02, -1.89297318e-01,  1.47037761e-01,  1.45355490e-01],\n",
       "       [ 5.44986322e-01,  1.35781659e-01,  3.39496646e-02, -3.41709699e+00,  1.57151653e+00, -1.30978709e-01,  3.76638770e-01, -2.94397795e-02,  4.80509430e-03,  1.33032881e-01,  6.45707986e-02, -3.63007098e-02,  2.37924027e-01,  9.84252616e-02,  6.97675364e-02,  2.99211216e+00, -2.69949386e+00, -1.99940625e-01, -8.18274333e-01,  7.20796957e-01,  4.19420881e-01, -1.92833999e-01,  1.57053410e-01, -1.63885774e-01,  1.43511164e-01, -1.92109782e-02,  3.16264194e-03],\n",
       "       [ 8.87261128e-01,  1.33732765e-01,  8.74053445e-03,  1.30777278e+01, -6.03156464e+00,  4.06183252e-01,  8.61681488e-02, -3.23102471e-02,  7.97213068e-03,  2.59490073e-01,  1.23899231e-01, -9.59822123e-02,  4.02678554e-01,  1.97521605e-01,  1.92954356e-01, -1.62396844e+01,  6.93255774e+00, -4.87829927e-01,  9.50098240e-01, -8.62911787e-01, -5.02038449e-01,  5.27674830e-01, -4.66490764e-01,  4.89558676e-01,  4.85856110e-02,  5.56610051e-03, -1.95583612e-02],\n",
       "       [-3.53956529e-01, -4.15128405e-02,  2.82061348e-03, -9.41195799e+00,  4.34038906e+00, -2.95044883e-01, -5.08783636e-02,  2.40023710e-02, -6.03058939e-03, -1.59449835e-01, -7.60065761e-02,  6.05284150e-02,  4.45841174e-02,  1.31242436e-02,  2.00466232e-04,  1.19283998e+01, -5.92939795e+00,  1.51898187e+00, -3.24131083e-01,  2.73718231e-01,  1.59307425e-01, -1.54855718e+00,  1.39592900e+00, -1.46683122e+00, -1.24052889e-01, -2.45532980e-04,  2.60679073e-02],\n",
       "       [ 5.24577258e-01,  9.20979835e-01,  4.35892855e-01, -3.99695308e+00,  9.28786935e+00,  8.74801330e+00,  3.14124156e-01,  1.18471567e-01,  1.43553833e-01,  1.69093782e-01,  4.08396846e-01, -1.44822882e-02,  1.10431440e-01,  2.91675635e-01,  2.22231855e-01, -7.60178609e-01,  7.27594520e-01,  4.31854306e-01,  3.67933086e+00, -1.20904398e+01, -1.13529152e+01, -2.32230122e-01,  2.65010864e-01,  1.37987295e+00,  1.91804314e-01,  7.04411427e-02,  5.97838953e-03],\n",
       "       [ 6.52608154e-02,  1.13125762e-01,  5.34610772e-02,  2.21074905e+00, -5.15724509e+00, -4.85436466e+00, -5.57649338e-02, -2.05951881e-02, -2.06010370e-02,  6.97979287e-02,  1.68036013e-01, -5.13451023e-03,  3.82976993e-02,  9.86179395e-02,  7.37874910e-02,  9.22058652e-01, -8.76412436e-01, -5.08102619e-01, -3.39496601e+00,  5.91010165e+00,  6.46415679e+00,  1.96430558e-01, -2.16201997e-01, -1.19610194e+00, -5.18637619e-02, -1.94266619e-02, -7.10059884e-03],\n",
       "       [-5.06278460e-02, -8.23950695e-02, -3.86366827e-02,  7.33057009e-01, -1.69739827e+00, -1.59967529e+00, -3.69938545e-03, -1.86100744e-03, -6.90173431e-03, -7.22625107e-02, -1.74482018e-01,  6.11560932e-03,  3.38370991e-02,  7.75070954e-02,  5.27318398e-02, -3.04015916e-01,  2.87467205e-01,  1.63682916e-01, -5.72164255e-01,  1.93331569e+00,  3.16056243e+00,  2.88563151e-01, -3.22913071e-01, -1.73781453e+00, -5.26873468e-02, -1.92405518e-02, -6.45578146e-05],\n",
       "       [ 6.11367739e-01,  7.00437551e-01, -4.63977859e-01,  3.21097449e-02, -1.37929248e-01,  2.36733117e-01,  4.89569458e-01,  9.69628498e-02, -1.80147246e-01,  1.41156958e-01,  2.26595107e-01, -1.92607169e-01,  1.51480815e-01,  2.37164729e-01, -1.64317640e-02, -2.13586145e-01,  1.90260312e-01, -1.92915612e-01, -2.49457539e-01,  2.46913115e-01,  1.38728278e+00, -1.23869140e+00, -1.62407720e+00, -4.50339152e-01,  2.76050364e-01,  6.36727846e-02, -1.27597092e-01],\n",
       "       [ 5.39563779e-01,  6.02076745e-01, -4.15390211e-01, -2.95909639e-01,  2.34506110e+00, -4.58368930e+00,  6.14041901e-02,  1.19050355e-02, -2.31325034e-02,  1.81049282e-01,  2.92276546e-01, -2.54305655e-01,  1.68096253e-01,  2.76137841e-01, -5.76989081e-03,  5.31071460e-01, -4.82664586e-01,  5.07815677e-01,  1.95882320e-01, -2.18660617e-01, -1.19406120e+00, -1.35352439e+00, -2.81958445e+00,  5.95517282e+00, -2.76332532e-02, -6.54761104e-03,  1.33602651e-02],\n",
       "       [ 4.93931765e-01,  5.03154814e-01, -3.97872491e-01, -1.06126946e+00,  8.10744514e+00, -1.57614663e+01,  1.38358920e-01,  1.77471193e-02, -7.11468086e-02,  1.70884777e-02,  3.08339747e-02, -3.83589516e-02,  1.77385459e-01,  3.21826594e-01,  2.31778570e-02, -1.51610175e+00,  1.38648413e+00, -1.47486666e+00,  3.35675630e-01, -3.00415669e-01, -1.73219819e+00,  1.34492063e+00, -1.00862531e+01,  1.94953288e+01,  7.00103313e-02,  1.91770429e-02, -4.25972836e-02],\n",
       "       [ 9.39826484e-01, -3.43880739e-01, -2.82224446e-01,  3.00040738e-01,  4.12450141e-02, -2.87524853e-02,  4.58531904e-01,  1.69842908e-01, -3.75875692e-01,  3.49595337e-01, -2.60679346e-01,  5.58412465e-02,  1.28961560e-01, -8.86893357e-02, -8.50341006e-02,  2.00856503e-01, -2.64239465e-02, -1.46486491e-02,  2.12536951e-01,  7.91502973e-02,  2.39924253e-02,  2.85649442e-01,  8.70143202e-02, -1.59041847e-01, -2.87599892e+00,  3.42420827e-01,  8.65743548e-01],\n",
       "       [-1.02501192e+00,  3.58495074e-01,  2.99075355e-01, -5.59612861e-02, -1.36136601e-02, -5.23763024e-04, -1.25650318e+01, -4.60641380e+00,  9.49133165e+00, -6.52319888e-01,  4.81209633e-01, -1.12747724e-01, -2.43129186e-01,  1.66391556e-01,  1.79408795e-01,  1.34972285e-02,  6.98377652e-03, -5.71312920e-03, -7.17932453e-02, -2.67657827e-02, -8.76946804e-03, -2.45329987e-02, -1.55980767e-02,  2.30438631e-02,  1.46242831e+01,  3.64931128e+00, -9.86510558e+00],\n",
       "       [-5.40023014e-01,  2.12747825e-01,  1.70157082e-01, -6.55088773e-02, -2.64560848e-02, -1.10716103e-02, -1.75849456e+01, -6.44750943e+00,  1.32962309e+01,  3.37806711e-02, -2.05750788e-02,  1.29846570e-02, -1.96428329e-01,  1.34853075e-01,  1.35026423e-01, -1.34454744e-01,  2.47600443e-02,  5.98827501e-03, -8.60220512e-02, -3.21713031e-02, -1.27823698e-02,  4.05879971e-02, -1.28567130e-02,  6.53258664e-03,  1.85330139e+01,  6.16720766e+00, -1.36030659e+01]])"
      ]
     },
     "execution_count": 139,
     "metadata": {},
     "output_type": "execute_result"
    }
   ],
   "source": [
    "K_block = predict_kernel_block_packed(\n",
    "    Xp[idx_test], dXp[idx_test], pairs,             # query descriptor (D,), Jacobian (D,3), pairs (D,2)\n",
    "    X[:n_train], dX[:n_train],                        # training banks: (M,D), (M,D,3)\n",
    "    tril_perms,                     # (P,D) descriptor row permutations\n",
    "    sigma, kernel=\"gaussian\"\n",
    ") * y_std\n",
    "K_block[:27,:27]"
   ]
  },
  {
   "cell_type": "code",
   "execution_count": 138,
   "id": "c510550f-0d7b-44d9-bcd3-a6e55fb02c55",
   "metadata": {},
   "outputs": [
    {
     "data": {
      "text/plain": [
       "array([-41.19176608,  -0.32436201, -23.22942561, -18.40363706,  11.02112527,  21.81045627,  13.6088945 ,   5.53227021,  17.30133714,  11.35173829,   8.40389081,  13.01584554,  16.49699238, -10.44710141, -21.78945421,  20.60539041, -29.58008605,  15.93733555, -32.47267175,  12.8517    ,  -6.38132113,  17.83370386,  15.32507598,  -7.26136608,  12.17135544, -12.78251281,  -9.40340746])"
      ]
     },
     "execution_count": 138,
     "metadata": {},
     "output_type": "execute_result"
    }
   ],
   "source": [
    "fp2 = K_block @ alphas\n",
    "fp2"
   ]
  },
  {
   "cell_type": "code",
   "execution_count": 132,
   "id": "f7184a49-cf5c-436f-835a-010184790bdb",
   "metadata": {},
   "outputs": [
    {
     "data": {
      "text/plain": [
       "array([ 55.31617014,  -4.52202995, -20.60762845,   7.54793006,  66.50392802,   6.22758247,  -8.71830062,  35.03868224,  62.35370722, -41.07748055,   1.68400551, -17.98601356,   1.35083835, -13.6644941 ,   9.85339488, -39.1708816 , -21.8378942 ,  27.24721386,  -2.67673373, -28.24706192,   9.03465617,   7.08712682,   0.64123329, -26.88285727,  20.34133114, -35.59636889, -49.24005532])"
      ]
     },
     "execution_count": 132,
     "metadata": {},
     "output_type": "execute_result"
    }
   ],
   "source": [
    "fp"
   ]
  },
  {
   "cell_type": "code",
   "execution_count": 133,
   "id": "58017fe8-511d-4780-9f2f-51889230dcad",
   "metadata": {},
   "outputs": [
    {
     "data": {
      "text/plain": [
       "array([ 46.91837923,  -3.73109559,  -5.94115822,   0.61561766,  72.42908142, -11.67441359,   9.22106886,  32.09283234,  75.64856807, -34.57462118,  10.50739625, -21.64424784,  -4.18701497, -26.3018366 ,  -7.9454866 , -30.84474   , -29.022508  ,  31.95702315,  -2.79564777, -22.39369865,   7.6387786 ,   5.07544835,  -2.40971674, -12.61999033,  10.57150982, -31.17045454, -55.41907336])"
      ]
     },
     "execution_count": 133,
     "metadata": {},
     "output_type": "execute_result"
    }
   ],
   "source": [
    "ft = -test[\"F\"][idx_test].flatten()\n",
    "ft"
   ]
  },
  {
   "cell_type": "code",
   "execution_count": 135,
   "id": "84c4c96b-f031-4c67-aeb8-8f44081681b1",
   "metadata": {},
   "outputs": [
    {
     "name": "stdout",
     "output_type": "stream",
     "text": [
      "RMSE = 9.40 kcal/mol/Å\n",
      "PearsonRResult(statistic=np.float64(0.9511626389685304), pvalue=np.float64(2.86262839963102e-14))\n"
     ]
    },
    {
     "data": {
      "text/plain": [
       "Text(0, 0.5, 'Predicted Force [kcal/mol/Å]')"
      ]
     },
     "execution_count": 135,
     "metadata": {},
     "output_type": "execute_result"
    },
    {
     "data": {
      "image/png": "[encoded data removed]",
      "text/plain": [
       "<Figure size 600x600 with 1 Axes>"
      ]
     },
     "metadata": {},
     "output_type": "display_data"
    }
   ],
   "source": [
    "res = pearsonr(ft, fp)\n",
    "rmse = np.sqrt(np.mean(np.square(ft - fp)))\n",
    "print(f\"RMSE = {rmse:.2f} kcal/mol/Å\")\n",
    "print(res)\n",
    "fig = plt.figure(figsize=(6,6))\n",
    "plt.scatter(ft, fp, s=1)\n",
    "plt.scatter(ft, fp2, s=1)\n",
    "plt.xlabel(\"CCSD(T) Force [kcal/mol/Å]\")\n",
    "plt.ylabel(\"Predicted Force [kcal/mol/Å]\")"
   ]
  },
  {
   "cell_type": "code",
   "execution_count": 83,
   "id": "d1c53e8e-becd-4aa0-aa8f-5701ba845196",
   "metadata": {},
   "outputs": [
    {
     "data": {
      "text/plain": [
       "array([[0.64849932, 0.68062606, 0.39522545, 0.92165687, 0.44166493, 0.48421598, 0.94359693, 0.45625876, 0.52636677, 0.58566549, 0.4690378 , 0.89006228, 0.39324637, 0.32383284, 0.38542212, 0.43412363, 0.88747031, 0.28213909, 0.35725009, 0.37353908, 0.51810628, 0.50123893, 0.90475468, 0.36236913, 0.42892328, 0.34053341, 0.55136473, 0.55608217, 0.50406804, 0.36819288, 1.03719451, 0.42434929, 0.36790047, 0.36663724, 0.26293289, 0.38986984]])"
      ]
     },
     "execution_count": 83,
     "metadata": {},
     "output_type": "execute_result"
    }
   ],
   "source": [
    "Xp[:1]"
   ]
  },
  {
   "cell_type": "code",
   "execution_count": null,
   "id": "69950bcf-0ec8-47f5-9d89-0836bb59fd9d",
   "metadata": {},
   "outputs": [],
   "source": []
  },
  {
   "cell_type": "code",
   "execution_count": null,
   "id": "c75afd77-4dac-4ba9-b757-aa9f8c3fb531",
   "metadata": {},
   "outputs": [],
   "source": []
  }
 ],
 "metadata": {
  "kernelspec": {
   "display_name": "Python 3 (ipykernel)",
   "language": "python",
   "name": "python3"
  },
  "language_info": {
   "codemirror_mode": {
    "name": "ipython",
    "version": 3
   },
   "file_extension": ".py",
   "mimetype": "text/x-python",
   "name": "python",
   "nbconvert_exporter": "python",
   "pygments_lexer": "ipython3",
   "version": "3.13.5"
  }
 },
 "nbformat": 4,
 "nbformat_minor": 5
}
