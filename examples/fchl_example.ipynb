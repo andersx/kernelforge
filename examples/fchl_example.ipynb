{
 "cells": [
  {
   "cell_type": "code",
   "execution_count": 1,
   "id": "cee7de35-ad59-47d5-8222-0af1468ffcfe",
   "metadata": {},
   "outputs": [],
   "source": [
    "from kernelforge._fchl19 import flocal_kernel, generate_fchl_acsf, generate_fchl_acsf_and_gradients, flocal_kernel_symm, fatomic_local_gradient_kernel\n",
    "# import kernelforge\n",
    "# help(kernelforge._fchl19)\n",
    "import numpy as np\n",
    "from scipy.stats import pearsonr\n",
    "import matplotlib.pyplot as plt\n",
    "import time\n",
    "from tqdm.notebook import tqdm"
   ]
  },
  {
   "cell_type": "code",
   "execution_count": 2,
   "id": "4071b673-60cb-43f3-9df8-fe1eb3ace36c",
   "metadata": {},
   "outputs": [],
   "source": [
    "train = np.load(\"/home/andersx/dev/laptop-qml/kitchen-sink-qml/data/ethanol_ccsd_t-train.npz\")\n",
    "test = np.load(\"/home/andersx/dev/laptop-qml/kitchen-sink-qml/data/ethanol_ccsd_t-test.npz\")\n",
    "elements=[1, 6, 8]\n",
    "n_test = 100"
   ]
  },
  {
   "cell_type": "code",
   "execution_count": 3,
   "id": "9faaf213-9329-40b1-a401-808b3a5d4937",
   "metadata": {
    "scrolled": true
   },
   "outputs": [],
   "source": [
    "Y = train[\"E\"].flatten()\n",
    "offset = np.mean(Y)\n",
    "Y -= offset\n",
    "Yt = test[\"E\"].flatten()[:n_test] - offset\n",
    "\n",
    "Yft = test[\"F\"][:n_test].flatten()"
   ]
  },
  {
   "cell_type": "code",
   "execution_count": 4,
   "id": "c435d809-7b7b-4bba-8e1b-832fb65e3a5d",
   "metadata": {},
   "outputs": [
    {
     "data": {
      "application/vnd.jupyter.widget-view+json": {
       "model_id": "d0134b4a70714b9f9eeb63e7d62a5515",
       "version_major": 2,
       "version_minor": 0
      },
      "text/plain": [
       "  0%|          | 0/1000 [00:00<?, ?it/s]"
      ]
     },
     "metadata": {},
     "output_type": "display_data"
    },
    {
     "data": {
      "application/vnd.jupyter.widget-view+json": {
       "model_id": "51935d43e4064244b617d470608c360b",
       "version_major": 2,
       "version_minor": 0
      },
      "text/plain": [
       "  0%|          | 0/1000 [00:00<?, ?it/s]"
      ]
     },
     "metadata": {},
     "output_type": "display_data"
    },
    {
     "name": "stdout",
     "output_type": "stream",
     "text": [
      "(1000, 9, 312, 27)\n"
     ]
    }
   ],
   "source": [
    "X = np.asarray([generate_fchl_acsf(r, train[\"z\"], elements=elements) for r in tqdm(train[\"R\"])])\n",
    "dX = np.asarray([generate_fchl_acsf_and_gradients(r, train[\"z\"], elements=elements)[1] for r in tqdm(train[\"R\"])])\n",
    "dX.resize(1000,9,312,27)\n",
    "print(dX.shape)\n",
    "Q = np.asarray([train[\"z\"] for r in train[\"R\"]])\n",
    "N = np.asarray([len(train[\"z\"]) for r in train[\"R\"]])"
   ]
  },
  {
   "cell_type": "code",
   "execution_count": null,
   "id": "3c7e3929-537b-4212-9264-3deeb6423139",
   "metadata": {},
   "outputs": [],
   "source": []
  },
  {
   "cell_type": "code",
   "execution_count": 5,
   "id": "157c9ce6-38a0-4e2f-9325-d2b4c65afdc6",
   "metadata": {},
   "outputs": [
    {
     "data": {
      "application/vnd.jupyter.widget-view+json": {
       "model_id": "0e56fbf229a043b9add08e0f498223c6",
       "version_major": 2,
       "version_minor": 0
      },
      "text/plain": [
       "  0%|          | 0/100 [00:00<?, ?it/s]"
      ]
     },
     "metadata": {},
     "output_type": "display_data"
    },
    {
     "name": "stdout",
     "output_type": "stream",
     "text": [
      "(100, 9, 312)\n"
     ]
    },
    {
     "data": {
      "application/vnd.jupyter.widget-view+json": {
       "model_id": "7be70ac8d8804857b28cc528a54fc299",
       "version_major": 2,
       "version_minor": 0
      },
      "text/plain": [
       "  0%|          | 0/1000 [00:00<?, ?it/s]"
      ]
     },
     "metadata": {},
     "output_type": "display_data"
    },
    {
     "name": "stdout",
     "output_type": "stream",
     "text": [
      "(100, 9, 312, 27)\n"
     ]
    }
   ],
   "source": [
    "Xt = np.asarray([generate_fchl_acsf(r, test[\"z\"], elements=elements) for r in tqdm(test[\"R\"][:n_test])])\n",
    "print(Xt.shape)\n",
    "dXt = np.asarray([generate_fchl_acsf_and_gradients(r, test[\"z\"], elements=elements)[1] for r in tqdm(test[\"R\"])])\n",
    "dXt.resize(n_test,9,312,27)\n",
    "print(dXt.shape)\n",
    "Qt = np.asarray([train[\"z\"] for r in test[\"R\"][:n_test]])\n",
    "Nt = np.asarray([len(train[\"z\"]) for r in test[\"R\"][:n_test]])"
   ]
  },
  {
   "cell_type": "code",
   "execution_count": 6,
   "id": "ff8a4791-4223-47ba-9f2c-8307c834330f",
   "metadata": {},
   "outputs": [
    {
     "name": "stdout",
     "output_type": "stream",
     "text": [
      "(1000, 9)\n"
     ]
    }
   ],
   "source": [
    "print(Q.shape)"
   ]
  },
  {
   "cell_type": "code",
   "execution_count": 7,
   "id": "77534003-0ce2-4154-8fa0-879a2782c02d",
   "metadata": {},
   "outputs": [
    {
     "name": "stdout",
     "output_type": "stream",
     "text": [
      "0.21127920498838648\n"
     ]
    }
   ],
   "source": [
    "sigma = 2\n",
    "t0 = time.perf_counter()\n",
    "# K = flocal_kernel_symm(X, Q, N, sigma)\n",
    "K = flocal_kernel(X, X, Q, Q, N, N, sigma)\n",
    "\n",
    "t1 = time.perf_counter()\n",
    "print(t1-t0)"
   ]
  },
  {
   "cell_type": "code",
   "execution_count": 8,
   "id": "0b9cec99-be1c-40f7-9407-d10ede7d2539",
   "metadata": {},
   "outputs": [
    {
     "name": "stdout",
     "output_type": "stream",
     "text": [
      "[[36.56205673 36.18353264 36.38832142 36.75741247 36.59730816]\n",
      " [36.18353264 36.05427466 36.10143915 36.4471952  36.28464488]\n",
      " [36.38832142 36.10143915 36.40329634 36.60667564 36.42631773]\n",
      " [36.75741247 36.4471952  36.60667564 37.13615363 36.90021563]\n",
      " [36.59730816 36.28464488 36.42631773 36.90021563 36.74719399]]\n"
     ]
    }
   ],
   "source": [
    "print(K[:5, :5])"
   ]
  },
  {
   "cell_type": "code",
   "execution_count": 9,
   "id": "b0f7c927-2ca4-4a4a-9f29-0916ed03592b",
   "metadata": {},
   "outputs": [],
   "source": [
    "from kernelforge._kernels import solve_cholesky"
   ]
  },
  {
   "cell_type": "code",
   "execution_count": 10,
   "id": "444ccb6c-3fa8-4873-bb57-0fcd7f55b6b7",
   "metadata": {
    "scrolled": true
   },
   "outputs": [
    {
     "data": {
      "text/plain": [
       "array([-1.31414514e+05,  4.10049630e+04, -8.71673425e+04, -1.07719889e+05,\n",
       "        1.52984207e+05,  7.31251891e+04,  2.42719188e+05, -6.27990344e+05,\n",
       "        8.76153190e+04, -1.17395821e+05, -8.55332064e+04,  2.37550742e+05,\n",
       "       -7.49724571e+04, -5.60217120e+03,  5.94163365e+04, -1.25270255e+05,\n",
       "        3.47603673e+04, -2.61759177e+05,  1.79847543e+05, -3.30484365e+05,\n",
       "        1.32648865e+05,  3.24797660e+04, -1.15498572e+05,  1.55339720e+05,\n",
       "       -4.18571372e+05, -2.26166439e+05,  1.26713059e+05, -4.59069140e+04,\n",
       "        6.24805922e+04, -3.46104761e+05, -2.87316446e+05,  1.08912952e+04,\n",
       "       -1.15537615e+05, -6.60819057e+04,  4.64332034e+02,  1.11973110e+05,\n",
       "        2.20707422e+05, -2.57719158e+05, -2.89539839e+05, -7.17901954e+04,\n",
       "        1.58779915e+05, -2.73773629e+05,  6.09239548e+04, -5.85520394e+04,\n",
       "        7.29474395e+04,  1.64066613e+05, -7.99282234e+04,  4.88153141e+04,\n",
       "       -9.85416637e+03, -2.64115066e+04,  2.72597984e+05, -6.37952413e+04,\n",
       "        7.80133670e+04, -1.83463967e+05,  1.62829318e+05,  5.10845089e+04,\n",
       "        2.31961796e+05,  1.57321580e+05,  1.73674753e+05,  2.44412040e+04,\n",
       "       -2.53693510e+03,  1.99272340e+05, -1.63045941e+04,  6.82338160e+04,\n",
       "        8.14018275e+05, -1.13956902e+05,  4.41369817e+05,  3.37289499e+05,\n",
       "        4.00536752e+05, -2.06172887e+05,  2.31455107e+05,  1.02412551e+05,\n",
       "        1.20571010e+02,  2.26532252e+05, -9.65439471e+04,  1.72587737e+05,\n",
       "        5.30420919e+03, -9.96567157e+04, -1.14092588e+05, -1.87875405e+05,\n",
       "        2.00100622e+05, -2.60957164e+04, -1.35717223e+05, -1.18313071e+05,\n",
       "       -7.87470966e+04, -3.51848814e+05, -9.47058054e+04, -2.08113877e+04,\n",
       "        1.93943865e+05, -2.91393053e+04,  4.18156727e+05, -4.66904711e+05,\n",
       "       -9.28105406e+04,  5.28332513e+05,  7.15547309e+04,  2.03681781e+05,\n",
       "        1.06339285e+05, -9.63748940e+04, -1.43975387e+05,  1.23538030e+04,\n",
       "        1.53149510e+03,  2.82544703e+05,  1.34026812e+05,  1.51166866e+05,\n",
       "       -4.65730862e+05, -8.98018439e+04, -4.53062959e+05, -3.80798926e+05,\n",
       "       -9.52802452e+04,  3.03936406e+04, -2.63112673e+05, -1.23128477e+05,\n",
       "       -4.58771156e+05,  3.85097238e+05, -9.69215317e+04, -4.84859090e+03,\n",
       "        1.78953879e+05,  7.60317271e+03,  1.02328013e+05, -2.09242438e+05,\n",
       "        6.31336385e+05, -3.16397408e+05, -1.81292033e+05,  4.13905064e+04,\n",
       "        9.19069364e+04, -4.37461435e+04,  1.77093221e+05,  3.52871462e+05,\n",
       "       -6.40480355e+04,  3.26021873e+04, -2.75411048e+05,  1.36633207e+05,\n",
       "       -4.79771736e+04, -1.56043970e+05, -3.33519280e+05, -1.85853960e+05,\n",
       "       -1.37749215e+05,  4.26496504e+03, -3.78281145e+04,  2.32913659e+04,\n",
       "        7.79027893e+04,  2.90836542e+04,  1.15462885e+05,  5.31480132e+04,\n",
       "        1.58680723e+05, -6.91535301e+04,  4.57257389e+04,  1.11125134e+05,\n",
       "        6.50708292e+04, -1.00262974e+05,  4.17152737e+04, -2.70637167e+05,\n",
       "        4.46133815e+05,  9.75948180e+04, -1.01382540e+04,  2.36228757e+05,\n",
       "       -8.10130545e+03, -4.73040265e+04, -1.17905696e+04,  2.18379644e+05,\n",
       "       -8.72278737e+04,  2.29092702e+05,  1.81352432e+05,  1.70493920e+05,\n",
       "       -1.69460901e+05, -2.87418994e+05,  3.68086129e+04, -4.30189613e+04,\n",
       "       -1.20778693e+05, -8.21224464e+04, -5.20985390e+04, -1.28017952e+05,\n",
       "        2.11935927e+04,  4.57816625e+05, -1.22081826e+05,  9.90585234e+04,\n",
       "        3.19475675e+04, -1.02481220e+05, -1.10447154e+05, -1.02157195e+05,\n",
       "       -3.00062183e+04, -4.16086868e+04,  1.66443221e+05,  2.42743592e+05,\n",
       "       -2.62397307e+05, -4.74501477e+05,  2.46256456e+04, -1.14166232e+05,\n",
       "        5.14825414e+04,  1.03270539e+05, -3.51590213e+04,  2.36523862e+05,\n",
       "       -6.61390472e+05,  1.75703077e+05,  3.69212933e+04,  3.45158389e+04,\n",
       "        5.14639839e+05, -7.45895900e+03, -2.24640542e+05,  7.90937984e+04,\n",
       "        9.91687077e+04,  1.56750842e+05, -9.23902427e+04, -2.06117140e+04,\n",
       "       -2.04803778e+04,  6.48775236e+04, -1.00616219e+05,  3.51397362e+05,\n",
       "       -1.10022177e+04,  6.97799247e+03,  1.76161555e+05,  1.87482989e+05,\n",
       "        1.58641735e+05,  1.86456536e+05, -2.67160686e+04,  2.08730364e+04,\n",
       "        1.21812848e+05, -1.38555416e+05, -6.92851280e+04, -1.56742482e+04,\n",
       "        5.44691417e+04, -1.20330550e+05, -8.67711501e+04, -3.24059341e+05,\n",
       "       -4.34576697e+04,  4.03515750e+05, -8.22517850e+04,  5.78959187e+04,\n",
       "       -9.37708740e+04,  2.65763573e+04, -2.06744033e+04,  2.69662412e+05,\n",
       "       -5.85934789e+05,  9.49253604e+03, -7.86961994e+04, -1.04845779e+05,\n",
       "        6.70381583e+05,  3.74498729e+05, -5.62526651e+04,  5.25152587e+04,\n",
       "       -3.15816913e+05, -2.90677155e+04,  2.96900362e+05, -6.17549755e+04,\n",
       "        1.21276594e+05, -3.92888108e+04,  4.23936047e+05, -1.76302997e+05,\n",
       "       -9.59827177e+04, -1.75182881e+05,  3.81369927e+04, -3.55001937e+03,\n",
       "       -1.00427816e+05, -3.59042546e+05, -1.49133079e+05,  2.04170129e+05,\n",
       "        6.35216712e+04, -1.25831833e+03, -3.40551642e+05, -9.34868844e+04,\n",
       "       -6.45103614e+04, -1.26706820e+05,  1.43319188e+05,  2.36306008e+05,\n",
       "       -1.28734728e+05,  1.10648603e+05,  9.27160158e+04, -3.50159506e+05,\n",
       "        3.85927504e+04, -9.85966889e+02,  1.14235416e+05, -2.78477034e+04,\n",
       "       -3.96946673e+04,  1.57897143e+05,  5.78394434e+05,  7.83598531e+04,\n",
       "        2.27905056e+05,  2.28992455e+05, -3.73534048e+04, -7.49634459e+04,\n",
       "        1.69080135e+04, -3.47541543e+05,  6.57148605e+04,  1.43904694e+05,\n",
       "       -4.98696047e+04,  3.44781668e+04,  2.25625927e+05, -5.86892223e+05,\n",
       "       -1.65663476e+05,  7.81823039e+04, -2.89694055e+05,  1.50685662e+03,\n",
       "        7.83024393e+03, -2.37947249e+05,  2.03297702e+05, -1.32283619e+05,\n",
       "        3.87541962e+04,  2.95248658e+05, -1.61737525e+05,  2.61041032e+05,\n",
       "       -5.08460562e+04,  1.37622550e+04,  9.83830546e+05, -6.21449859e+04,\n",
       "        2.54303646e+05,  3.47633766e+04,  1.44760685e+04, -2.70573913e+05,\n",
       "       -5.28976792e+05, -5.95377847e+05, -1.17380742e+04, -3.87739695e+04,\n",
       "       -5.38119917e+04, -6.55055021e+04, -1.94244326e+05,  2.32248611e+05,\n",
       "       -1.59552373e+05,  1.06142491e+05, -4.29287589e+04,  1.52841465e+05,\n",
       "       -1.06387464e+02,  3.69526886e+05, -8.01502997e+04, -1.26400219e+05,\n",
       "        1.59231057e+05,  1.45087795e+04, -8.43881840e+04,  2.03990650e+05,\n",
       "       -1.88944659e+05, -1.87086980e+05,  6.13364532e+04, -1.32924815e+05,\n",
       "        6.34826891e+04, -1.54712539e+05, -3.17744206e+04, -5.03920986e+04,\n",
       "       -2.51285816e+05,  1.56168615e+05,  6.65503895e+04,  6.00775031e+04,\n",
       "       -6.78068050e+04,  5.82282628e+05, -6.55942415e+04, -9.90356258e+04,\n",
       "        4.74290462e+05,  4.51086093e+04, -6.45827833e+04, -7.09475672e+04,\n",
       "        4.18030044e+05,  4.91235459e+04,  1.76442673e+05,  2.08922856e+05,\n",
       "       -1.41333551e+05,  4.03384916e+04, -5.15567901e+04, -1.59799309e+05,\n",
       "       -4.72466877e+05,  1.12326474e+04, -2.37648610e+04, -6.81304154e+04,\n",
       "       -6.40466995e+04,  5.49923822e+04, -3.60114241e+04, -6.09181337e+04,\n",
       "       -8.77457298e+04,  7.80520786e+05, -1.80074114e+05, -3.13644808e+05,\n",
       "       -2.73153685e+04,  1.42526017e+05, -1.72968025e+03,  1.84630616e+05,\n",
       "       -7.77481127e+04,  9.97567104e+04, -5.69903353e+04, -1.78911971e+05,\n",
       "       -4.06518189e+05,  1.01069134e+05,  6.08626232e+03,  1.84712488e+03,\n",
       "       -2.06326359e+05, -2.20396925e+05,  2.59261164e+05, -4.97643867e+03,\n",
       "       -1.92602992e+05, -7.91294420e+04,  1.78763295e+05, -1.33870957e+05,\n",
       "        1.07190888e+05, -3.77535929e+03,  1.09233144e+05, -3.64866626e+05,\n",
       "       -3.71778247e+02, -4.66703584e+04, -1.48947260e+05, -1.44504157e+05,\n",
       "        4.62386957e+04,  2.05637224e+05,  1.20371656e+05,  1.46120188e+05,\n",
       "       -4.73573865e+03,  3.25121480e+05,  6.62438705e+05, -4.69057860e+05,\n",
       "       -1.59199081e+03, -6.78972253e+04,  2.57585313e+05, -1.70254275e+05,\n",
       "        1.92517532e+05, -3.31835643e+04, -2.64280731e+05,  3.51780353e+05,\n",
       "        2.21686054e+04, -3.84176168e+04,  8.38663223e+02, -9.82240840e+04,\n",
       "       -7.67427769e+04, -4.36756994e+05, -8.04278081e+04, -2.67039093e+04,\n",
       "       -1.65120165e+05, -1.24753137e+05, -1.82587740e+05, -4.79738378e+04,\n",
       "        2.97909012e+05,  1.96422164e+05,  3.19226686e+05, -3.24567845e+05,\n",
       "       -1.02449914e+05,  7.29207481e+04, -6.60018869e+03,  1.37720260e+05,\n",
       "       -6.02132415e+04, -2.66476905e+05, -2.41658962e+05, -3.45245984e+04,\n",
       "       -7.61904600e+04,  1.45476326e+05,  1.35061741e+05, -2.14123119e+03,\n",
       "        7.68805493e+04, -3.76151017e+05,  4.75761126e+04, -7.18149997e+03,\n",
       "       -2.84285372e+05, -6.18387257e+04, -1.12739403e+05, -2.73284745e+04,\n",
       "       -1.27478709e+03,  2.14000430e+05, -3.61232870e+05, -1.47919576e+05,\n",
       "        7.31641673e+03,  1.34380230e+05,  8.29855871e+05, -7.06503463e+04,\n",
       "        6.02497890e+04, -1.55469506e+05,  7.09673164e+04,  4.06748562e+04,\n",
       "       -1.05086690e+05,  1.24621292e+05,  2.21229581e+04,  1.22349692e+05,\n",
       "       -2.55991970e+04, -1.82577212e+05, -3.50950465e+04,  1.72570458e+05,\n",
       "        1.47833781e+05, -3.77059357e+05,  9.60139474e+03,  8.40568435e+04,\n",
       "        2.32009111e+04,  1.11520925e+05,  8.86082957e+04,  1.92027915e+05,\n",
       "       -2.52576685e+05, -4.87128668e+05, -2.45499133e+05,  1.30647786e+05,\n",
       "       -6.58941910e+04,  2.62176574e+04, -6.92298747e+04, -1.30771037e+05,\n",
       "        7.53696914e+04,  2.05530203e+05,  7.66250746e+03,  3.20590648e+04,\n",
       "        1.16461150e+04, -2.46762036e+03, -9.07184431e+04,  1.15526367e+05,\n",
       "        1.47106335e+04,  4.78673608e+05, -1.29992763e+04, -4.18779926e+05,\n",
       "        1.28240350e+04,  9.55795993e+04,  2.18905035e+05, -2.11140490e+04,\n",
       "       -3.67050047e+05,  2.49386198e+05,  4.09933442e+05,  2.48841611e+04,\n",
       "       -2.29261270e+04,  3.29373225e+05,  1.78682587e+04,  5.44694074e+04,\n",
       "       -1.87494655e+05,  2.97275524e+05, -1.20086037e+05, -3.26650310e+04,\n",
       "       -1.00842727e+05, -1.41355163e+05, -6.28885164e+05, -1.17053529e+05,\n",
       "        1.62963388e+04, -8.94849023e+03, -3.17371611e+04,  9.74982904e+04,\n",
       "       -1.35432305e+05, -3.74102062e+03,  2.82577136e+05,  6.79895548e+05,\n",
       "       -1.05670118e+04, -1.19891590e+05, -1.62502255e+05, -9.82770817e+04,\n",
       "       -7.93393621e+03,  5.37671285e+04,  2.27529370e+04, -7.07082209e+03,\n",
       "       -1.34848490e+05, -3.90036855e+04, -3.09714355e+03,  1.29598875e+05,\n",
       "        2.58237137e+05,  2.93041839e+04,  1.98573820e+04,  1.66714117e+05,\n",
       "        7.42063167e+04,  2.67954525e+04,  2.35153354e+05, -9.65607027e+04,\n",
       "       -2.76935339e+05,  4.71999511e+04, -2.34499988e+04,  1.55394584e+05,\n",
       "       -2.27154129e+05,  1.51209906e+05,  1.07883627e+05, -8.54949778e+04,\n",
       "       -8.87184567e+04, -5.23251122e+04,  1.42184312e+05, -7.72287306e+04,\n",
       "        4.58072453e+04, -2.04742183e+05, -1.26115482e+05,  1.74067242e+05,\n",
       "       -1.38912372e+05,  1.69485912e+05, -5.59457434e+05, -6.81387744e+05,\n",
       "       -4.19915743e+04, -3.19660224e+05, -2.64400411e+05,  2.39479341e+04,\n",
       "       -1.42680549e+05,  4.93325753e+05,  3.25012320e+05,  8.51178149e+04,\n",
       "       -3.17225792e+05,  2.76977182e+04, -2.09972221e+05,  2.64597513e+04,\n",
       "       -5.29264486e+03, -2.39556491e+05,  6.48915000e+04, -2.50679990e+05,\n",
       "        2.64849485e+04,  1.73554584e+04, -1.73918632e+05,  3.18066122e+05,\n",
       "        1.60543369e+05, -4.75507736e+05, -8.52936354e+04,  1.00327451e+05,\n",
       "        3.79596165e+05, -3.98362805e+05, -6.19801553e+05,  1.62137707e+05,\n",
       "       -9.95060922e+04, -2.60822522e+04, -2.41141154e+05,  6.87753323e+04,\n",
       "       -9.19070216e+01, -2.76769269e+05,  2.18934629e+05, -1.83653809e+05,\n",
       "        5.39100590e+05,  2.04282739e+05, -4.66061830e+05,  7.53865385e+04,\n",
       "        3.28745401e+04, -1.68396515e+05,  2.71320527e+04, -3.94513838e+04,\n",
       "        2.15832112e+05,  1.30557797e+05, -4.53442547e+05, -5.32826426e+04,\n",
       "       -2.18157975e+05,  1.88687154e+05, -3.02844532e+05, -1.34891245e+05,\n",
       "        8.35824106e+04,  1.80584890e+03,  5.73076232e+05, -7.99367302e+04,\n",
       "       -2.25052337e+05,  1.25160072e+05,  1.54768474e+04, -4.44149528e+04,\n",
       "        1.22858061e+05, -6.18654896e+04,  7.91450457e+04,  2.81491295e+05,\n",
       "        1.22384093e+05, -7.19578550e+03, -2.88617752e+05,  5.74168676e+04,\n",
       "       -1.37622081e+05, -4.72304364e+04, -5.11829216e+05,  2.69796794e+05,\n",
       "        1.83498297e+05, -7.49301058e+04, -3.09196069e+04, -1.76979159e+05,\n",
       "       -1.10356044e+05,  2.91628524e+05, -2.81241342e+04,  3.35330952e+05,\n",
       "        2.33815564e+03, -7.09435298e+04,  7.16968939e+03,  8.19538542e+04,\n",
       "       -5.67440099e+04,  7.36786167e+04, -5.87365708e+04, -6.83765953e+04,\n",
       "       -4.58403213e+04,  7.15479176e+04,  5.98052692e+03, -1.15991500e+05,\n",
       "        2.21738198e+05,  1.72921828e+04,  1.02805450e+05, -9.09229327e+04,\n",
       "        5.13386131e+04,  3.77076152e+04, -2.08561798e+04,  8.10764165e+04,\n",
       "        1.15402405e+05, -8.87005487e+04, -9.11497707e+04,  2.43343410e+05,\n",
       "        5.48447147e+04,  4.60561478e+04, -1.32575831e+05, -1.74371316e+05,\n",
       "       -4.02330925e+04,  1.57789454e+05, -2.59433113e+03,  7.30334979e+04,\n",
       "        9.61945492e+04,  3.28311432e+05, -3.60693827e+04, -5.45052910e+04,\n",
       "       -9.36304722e+04, -5.79255801e+04,  2.21614611e+05,  1.71507998e+05,\n",
       "        1.21451992e+05, -2.50089347e+05,  1.64090566e+05,  1.10844944e+05,\n",
       "        1.15147522e+05, -5.25654157e+04,  3.05707859e+05,  1.94967605e+05,\n",
       "        2.82443374e+04,  3.09281525e+05,  1.01509986e+06,  2.71929213e+04,\n",
       "        1.88545151e+05,  6.74040136e+04, -2.84876659e+04,  1.73177331e+05,\n",
       "        1.95495539e+04,  3.06405703e+04,  2.28545275e+04,  7.62157785e+04,\n",
       "        7.38606970e+04, -5.24074524e+04, -1.93162677e+03,  1.62935224e+05,\n",
       "        6.13139523e+03,  5.36283837e+04, -1.14283137e+05,  2.42669643e+05,\n",
       "       -7.84586772e+04, -2.08728726e+05, -1.52928097e+05, -2.29738311e+05,\n",
       "        5.38264218e+03, -4.81318116e+04, -2.84004202e+05, -7.37284482e+04,\n",
       "       -1.01675336e+05,  4.63965588e+04,  1.71440055e+04, -2.62763151e+05,\n",
       "        2.26948977e+05, -1.97772349e+04, -1.59552888e+05, -2.96351316e+05,\n",
       "       -1.04060543e+04, -4.56831934e+05, -1.04513655e+04, -2.02061879e+05,\n",
       "       -6.65444522e+04, -1.96533260e+05, -3.00586188e+04,  6.48439777e+04,\n",
       "        1.69052475e+04, -4.25540390e+05,  1.35829778e+05,  4.12385922e+05,\n",
       "        1.99660443e+05, -1.28145847e+05,  3.00352650e+04, -2.59829967e+04,\n",
       "       -1.52381564e+04,  1.48799042e+05, -3.22132177e+05, -4.87920708e+05,\n",
       "        2.90044335e+04, -5.86988007e+04,  8.60651265e+04,  6.38901190e+04,\n",
       "       -2.68916522e+05,  1.68135408e+05,  9.03991621e+04, -3.88559329e+05,\n",
       "        2.32235570e+05, -2.05482053e+04,  3.69659783e+05,  6.03351065e+04,\n",
       "        8.94674738e+04, -5.02321988e+05, -1.78342892e+05,  5.62196515e+05,\n",
       "        1.39303892e+04,  2.35473552e+05, -1.10898986e+05, -7.92232474e+04,\n",
       "        3.39909258e+04,  1.01562725e+05, -2.54984050e+05, -4.58375308e+04,\n",
       "        3.16961101e+05, -8.97495400e+04,  4.15694906e+05,  3.50084339e+05,\n",
       "        1.06117789e+05,  4.28968034e+05, -9.18641627e+04,  6.35024967e+04,\n",
       "       -6.26907848e+04, -7.09054887e+04, -4.90851056e+05, -6.32751923e+05,\n",
       "       -9.30437921e+03, -1.12192174e+05,  5.72897111e+03, -1.25407054e+05,\n",
       "        1.05801747e+05, -1.95007442e+04,  2.43714292e+05, -5.59634027e+04,\n",
       "        2.12364390e+05,  8.11028832e+04, -1.14362991e+05,  9.55602802e+04,\n",
       "       -1.05033388e+05, -1.99195408e+04,  1.56108489e+05,  1.98055482e+05,\n",
       "       -1.17685935e+05, -4.17216924e+05,  3.33019292e+05,  1.15653081e+04,\n",
       "        2.69429416e+05,  4.38467233e+04,  5.10047996e+05, -3.66726356e+04,\n",
       "       -2.02660047e+05, -1.65449894e+05, -6.46642552e+04, -1.95016965e+05,\n",
       "       -2.06269937e+04,  2.91132090e+05, -8.05021867e+04,  1.49203721e+05,\n",
       "       -1.00767340e+05,  2.57308553e+04,  2.10868647e+05,  2.91019357e+05,\n",
       "       -1.06040296e+05,  1.28630025e+05, -5.85795495e+04, -1.48472991e+05,\n",
       "        6.90409324e+04, -2.37221206e+04, -8.97489204e+04, -1.82605389e+05,\n",
       "        1.51151377e+05,  5.93569946e+04, -1.35027675e+05, -6.78851853e+04,\n",
       "       -1.33297658e+05,  2.85050460e+05,  1.20001783e+05,  5.23071571e+04,\n",
       "       -9.19488787e+04, -4.44352613e+04, -4.91121695e+05, -8.31062106e+04,\n",
       "       -1.11533844e+04, -2.74188287e+05,  1.23707583e+05, -8.07723247e+04,\n",
       "       -2.90348569e+05, -1.78363568e+05,  2.72352374e+05,  1.51687606e+05,\n",
       "       -1.24123621e+05, -1.20075170e+05,  3.92422273e+04,  3.91280158e+05,\n",
       "       -6.45078288e+05,  1.82782251e+05, -3.61679272e+04, -1.45408812e+05,\n",
       "        1.43331652e+05, -9.76214509e+04,  5.83639349e+04, -3.19265676e+04,\n",
       "        3.50159244e+05, -5.57054499e+05, -1.19927801e+05,  4.06036856e+04,\n",
       "        1.53960235e+05, -2.39611601e+05,  1.01876980e+05,  4.91993025e+04,\n",
       "        8.55305004e+04, -3.81080645e+05, -4.52821871e+04,  1.02652163e+05,\n",
       "        2.12543622e+05, -1.54738378e+05, -1.54552021e+05, -1.60313270e+05,\n",
       "        1.25665142e+05, -6.40187239e+04,  1.52349570e+05, -2.65066070e+05,\n",
       "       -1.10098259e+05, -1.58354109e+05, -1.03567093e+05, -3.11018485e+05,\n",
       "        1.05876167e+05, -4.01213907e+05,  2.83777074e+05,  9.44281981e+04,\n",
       "        2.88425812e+04, -8.43106208e+04,  2.57127014e+05, -2.68773741e+05,\n",
       "        2.44338833e+04,  6.55960985e+02, -4.14062615e+04, -3.90143009e+05,\n",
       "        2.79983693e+05,  1.73105693e+05, -1.94979111e+05, -3.60202356e+04,\n",
       "       -2.68779971e+05,  7.13399679e+04,  3.23124211e+04, -2.44280498e+05,\n",
       "       -1.59231111e+05,  3.04888833e+05,  1.35331152e+05,  1.69143146e+05,\n",
       "        1.28547800e+05,  9.25621064e+03,  3.54987362e+05,  9.69689809e+04,\n",
       "        1.44772543e+05,  1.21437317e+05, -2.67307973e+05,  3.62828797e+05,\n",
       "       -3.77893752e+04,  2.38338168e+05,  3.42498482e+05, -3.74474856e+05,\n",
       "        1.82969205e+04,  1.27011331e+04,  1.04240455e+05,  2.52703310e+05,\n",
       "       -2.37289047e+04, -7.69711669e+04, -2.15346731e+05, -5.45476743e+05,\n",
       "        3.44823186e+05,  6.52448222e+04,  2.65993451e+05, -7.20285917e+04,\n",
       "       -3.37305173e+03,  3.56321163e+04,  1.48502121e+05, -2.18449773e+04,\n",
       "        6.70384162e+04, -5.36234861e+04,  3.09853251e+05, -3.07280459e+05,\n",
       "       -1.88037033e+05,  4.53203529e+03, -2.06776264e+05, -2.82942994e+04,\n",
       "       -1.09798683e+05, -1.22433532e+05,  4.21881794e+05,  1.68351272e+05,\n",
       "        4.38283498e+02,  4.59108452e+04,  2.78581740e+04, -1.76458545e+05,\n",
       "        1.53936625e+05, -3.10248716e+05,  5.63151409e+05, -2.00830251e+04,\n",
       "        4.17771625e+04, -4.23356781e+05, -2.23226213e+05,  6.58290572e+04,\n",
       "        1.37077381e+04,  2.62465605e+05, -7.34203473e+04,  1.79992354e+05,\n",
       "        1.50103676e+04, -1.18618238e+05,  1.53546307e+05, -2.44024780e+05,\n",
       "        1.39538909e+05, -5.75935158e+05, -1.51272222e+05, -1.51214045e+05,\n",
       "       -2.15469155e+05, -2.78288837e+05,  3.98296320e+05,  1.29957900e+05,\n",
       "        2.88366075e+05, -1.01045021e+05,  7.57557010e+04, -5.78046977e+03,\n",
       "        5.65836006e+04, -2.94532984e+04, -3.18471772e+03, -1.47993005e+05,\n",
       "        1.44306044e+05,  1.48861740e+05,  2.98191182e+05, -9.28838794e+04,\n",
       "        7.30391113e+04,  1.02554156e+05, -2.87943567e+04, -1.67100124e+05,\n",
       "        8.75157265e+04,  4.12625541e+04, -1.80474272e+05,  1.14606637e+05,\n",
       "       -4.15208716e+04,  2.96420311e+05,  2.75902238e+05,  9.29671914e+04])"
      ]
     },
     "execution_count": 10,
     "metadata": {},
     "output_type": "execute_result"
    }
   ],
   "source": [
    "K_solve = K.copy()\n",
    "for i in range(K_solve.shape[0]):\n",
    "    K_solve[i,i] += 1e-8\n",
    "alphas = solve_cholesky(K_solve, Y)\n",
    "alphas"
   ]
  },
  {
   "cell_type": "code",
   "execution_count": 11,
   "id": "18418bdf-1abf-414f-9860-b6fadfe4ffd1",
   "metadata": {},
   "outputs": [
    {
     "name": "stdout",
     "output_type": "stream",
     "text": [
      "0.0641219739918597\n"
     ]
    }
   ],
   "source": [
    "t0 = time.perf_counter()\n",
    "Kt = flocal_kernel(Xt, X, Qt, Q, Nt, N, sigma)\n",
    "t1 = time.perf_counter()\n",
    "print(t1-t0)"
   ]
  },
  {
   "cell_type": "code",
   "execution_count": 12,
   "id": "80fcda47-f9a8-4f0f-9077-46f834cf8110",
   "metadata": {},
   "outputs": [],
   "source": [
    "Yp = Kt @ alphas"
   ]
  },
  {
   "cell_type": "code",
   "execution_count": 13,
   "id": "293f5599-9472-4848-9e77-e15618fde80d",
   "metadata": {},
   "outputs": [
    {
     "name": "stdout",
     "output_type": "stream",
     "text": [
      "RMSE = 0.23526487913624997\n",
      "PearsonRResult(statistic=np.float64(0.9986700456734897), pvalue=np.float64(5.129785856239704e-128))\n"
     ]
    },
    {
     "data": {
      "text/plain": [
       "<matplotlib.collections.PathCollection at 0x7daa702b23c0>"
      ]
     },
     "execution_count": 13,
     "metadata": {},
     "output_type": "execute_result"
    },
    {
     "data": {
      "image/png": "[encoded data removed]",
      "text/plain": [
       "<Figure size 600x600 with 1 Axes>"
      ]
     },
     "metadata": {},
     "output_type": "display_data"
    }
   ],
   "source": [
    "rmse = np.sqrt(np.mean(np.square(Yt - Yp)))\n",
    "res = pearsonr(Yp, Yt)\n",
    "print(f\"RMSE = {rmse}\")\n",
    "print(res)\n",
    "fig = plt.figure(figsize=(6,6))\n",
    "plt.xlabel(\"CCSD(T) Energy [kcal/mol]\")\n",
    "plt.ylabel(\"Predicted Energy [kcal/mol]\")\n",
    "plt.title(\"kernelforge cpp FHCL19 Energy learning from Enery\")\n",
    "plt.scatter(Yt, Yp, s=1)"
   ]
  },
  {
   "cell_type": "code",
   "execution_count": 14,
   "id": "b0d86883-9e3c-4d84-8f5e-117f22849196",
   "metadata": {
    "scrolled": true
   },
   "outputs": [
    {
     "name": "stdout",
     "output_type": "stream",
     "text": [
      "1.5108015229925513\n"
     ]
    }
   ],
   "source": [
    "t0 = time.perf_counter()\n",
    "Kd = fatomic_local_gradient_kernel(X, Xt, dXt, Q, Qt, N, Nt, sigma).T\n",
    "t1 = time.perf_counter()\n",
    "print(t1-t0)"
   ]
  },
  {
   "cell_type": "code",
   "execution_count": 15,
   "id": "47a5d5a9-d227-4d98-b2a3-4b9f5a4a3025",
   "metadata": {},
   "outputs": [
    {
     "data": {
      "text/plain": [
       "(2700, 1000)"
      ]
     },
     "execution_count": 15,
     "metadata": {},
     "output_type": "execute_result"
    }
   ],
   "source": [
    "Kd.shape"
   ]
  },
  {
   "cell_type": "code",
   "execution_count": 16,
   "id": "e2eae55d-7d96-4490-ad2b-ad1d3711c186",
   "metadata": {
    "scrolled": true
   },
   "outputs": [
    {
     "data": {
      "text/plain": [
       "(2700,)"
      ]
     },
     "execution_count": 16,
     "metadata": {},
     "output_type": "execute_result"
    }
   ],
   "source": [
    "Yfp = Kd @ alphas\n",
    "Yfp.shape"
   ]
  },
  {
   "cell_type": "code",
   "execution_count": 17,
   "id": "aceabcf4-c2da-4118-bace-889c608b668e",
   "metadata": {},
   "outputs": [
    {
     "data": {
      "text/plain": [
       "(2700,)"
      ]
     },
     "execution_count": 17,
     "metadata": {},
     "output_type": "execute_result"
    }
   ],
   "source": [
    "Yft.shape"
   ]
  },
  {
   "cell_type": "code",
   "execution_count": 18,
   "id": "7f1c5d68-a95a-41a4-b602-91df6054016f",
   "metadata": {},
   "outputs": [
    {
     "name": "stdout",
     "output_type": "stream",
     "text": [
      "RMSE = 1.536321548795515\n",
      "PearsonRResult(statistic=np.float64(0.9983916248723087), pvalue=np.float64(0.0))\n"
     ]
    },
    {
     "data": {
      "text/plain": [
       "<matplotlib.collections.PathCollection at 0x7daa70383ed0>"
      ]
     },
     "execution_count": 18,
     "metadata": {},
     "output_type": "execute_result"
    },
    {
     "data": {
      "image/png": "[encoded data removed]",
      "text/plain": [
       "<Figure size 600x600 with 1 Axes>"
      ]
     },
     "metadata": {},
     "output_type": "display_data"
    }
   ],
   "source": [
    "rmse = np.sqrt(np.mean(np.square(Yft - Yfp)))\n",
    "res = pearsonr(Yfp, Yft)\n",
    "print(f\"RMSE = {rmse}\")\n",
    "print(res)\n",
    "fig = plt.figure(figsize=(6,6))\n",
    "plt.xlabel(\"CCSD(T) Force [kcal/mol/Å]\")\n",
    "plt.ylabel(\"Predicted Force [kcal/mol/Å]\")\n",
    "plt.title(\"kernelforge cpp FHCL19 Force learning from Enery\")\n",
    "plt.scatter(Yft, Yfp, s=1)"
   ]
  },
  {
   "cell_type": "code",
   "execution_count": null,
   "id": "ddb8d71e-a0f5-433c-b765-dbf0be76776b",
   "metadata": {},
   "outputs": [],
   "source": []
  },
  {
   "cell_type": "code",
   "execution_count": null,
   "id": "6bd20c9e-6dca-4f84-85e4-d7e857478aa3",
   "metadata": {},
   "outputs": [],
   "source": []
  },
  {
   "cell_type": "code",
   "execution_count": null,
   "id": "4c7352d5-44e1-4bc3-8e6c-1cc0e6cd2f23",
   "metadata": {},
   "outputs": [],
   "source": []
  }
 ],
 "metadata": {
  "kernelspec": {
   "display_name": "Python 3 (ipykernel)",
   "language": "python",
   "name": "python3"
  },
  "language_info": {
   "codemirror_mode": {
    "name": "ipython",
    "version": 3
   },
   "file_extension": ".py",
   "mimetype": "text/x-python",
   "name": "python",
   "nbconvert_exporter": "python",
   "pygments_lexer": "ipython3",
   "version": "3.13.5"
  }
 },
 "nbformat": 4,
 "nbformat_minor": 5
}
