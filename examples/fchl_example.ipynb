{
 "cells": [
  {
   "cell_type": "code",
   "execution_count": 1,
   "id": "cee7de35-ad59-47d5-8222-0af1468ffcfe",
   "metadata": {},
   "outputs": [],
   "source": [
    "from kernelforge._fchl19 import flocal_kernel, generate_fchl_acsf, generate_fchl_acsf_and_gradients, flocal_kernel_symm, fatomic_local_gradient_kernel\n",
    "# import kernelforge\n",
    "# help(kernelforge._fchl19)\n",
    "import numpy as np\n",
    "from scipy.stats import pearsonr\n",
    "import matplotlib.pyplot as plt\n",
    "import time\n",
    "from tqdm.notebook import tqdm"
   ]
  },
  {
   "cell_type": "code",
   "execution_count": 32,
   "id": "4071b673-60cb-43f3-9df8-fe1eb3ace36c",
   "metadata": {},
   "outputs": [],
   "source": [
    "train = np.load(\"/home/andersx/dev/laptop-qml/kitchen-sink-qml/data/ethanol_ccsd_t-train.npz\")\n",
    "test = np.load(\"/home/andersx/dev/laptop-qml/kitchen-sink-qml/data/ethanol_ccsd_t-test.npz\")\n",
    "elements=[1, 6, 8]\n",
    "n_test = 1000\n",
    "n_train = 500"
   ]
  },
  {
   "cell_type": "code",
   "execution_count": 33,
   "id": "9faaf213-9329-40b1-a401-808b3a5d4937",
   "metadata": {
    "scrolled": true
   },
   "outputs": [],
   "source": [
    "Y = train[\"E\"][:n_train].flatten()\n",
    "offset = np.mean(Y)\n",
    "Y -= offset\n",
    "Yt = test[\"E\"][:n_test].flatten() - offset\n",
    "\n",
    "Yft = test[\"F\"][:n_test].flatten()"
   ]
  },
  {
   "cell_type": "code",
   "execution_count": 34,
   "id": "c435d809-7b7b-4bba-8e1b-832fb65e3a5d",
   "metadata": {},
   "outputs": [
    {
     "data": {
      "application/vnd.jupyter.widget-view+json": {
       "model_id": "224cba5d97b34f0b9fc17bf681f29b7a",
       "version_major": 2,
       "version_minor": 0
      },
      "text/plain": [
       "  0%|          | 0/500 [00:00<?, ?it/s]"
      ]
     },
     "metadata": {},
     "output_type": "display_data"
    },
    {
     "data": {
      "application/vnd.jupyter.widget-view+json": {
       "model_id": "4fe82a911924460b94af5203822629c6",
       "version_major": 2,
       "version_minor": 0
      },
      "text/plain": [
       "  0%|          | 0/500 [00:00<?, ?it/s]"
      ]
     },
     "metadata": {},
     "output_type": "display_data"
    }
   ],
   "source": [
    "X = np.asarray([generate_fchl_acsf(r, train[\"z\"], elements=elements) for r in tqdm(train[\"R\"][:n_train])])\n",
    "dX = np.asarray([generate_fchl_acsf_and_gradients(r, train[\"z\"], elements=elements)[1] for r in tqdm(train[\"R\"][:n_train])])\n",
    "Q = np.asarray([train[\"z\"] for r in train[\"R\"][:n_train]])\n",
    "N = np.asarray([len(train[\"z\"]) for r in train[\"R\"][:n_train]])"
   ]
  },
  {
   "cell_type": "code",
   "execution_count": null,
   "id": "3c7e3929-537b-4212-9264-3deeb6423139",
   "metadata": {},
   "outputs": [],
   "source": []
  },
  {
   "cell_type": "code",
   "execution_count": 35,
   "id": "157c9ce6-38a0-4e2f-9325-d2b4c65afdc6",
   "metadata": {},
   "outputs": [
    {
     "data": {
      "application/vnd.jupyter.widget-view+json": {
       "model_id": "3646f962fd0341f8934edb99659dba8b",
       "version_major": 2,
       "version_minor": 0
      },
      "text/plain": [
       "  0%|          | 0/1000 [00:00<?, ?it/s]"
      ]
     },
     "metadata": {},
     "output_type": "display_data"
    },
    {
     "data": {
      "application/vnd.jupyter.widget-view+json": {
       "model_id": "9a8be7e9847e4d7ab2f0a2d79b93a9d1",
       "version_major": 2,
       "version_minor": 0
      },
      "text/plain": [
       "  0%|          | 0/1000 [00:00<?, ?it/s]"
      ]
     },
     "metadata": {},
     "output_type": "display_data"
    }
   ],
   "source": [
    "Xt = np.asarray([generate_fchl_acsf(r, test[\"z\"], elements=elements) for r in tqdm(test[\"R\"][:n_test])])\n",
    "dXt = np.asarray([generate_fchl_acsf_and_gradients(r, test[\"z\"], elements=elements)[1] for r in tqdm(test[\"R\"])])\n",
    "Qt = np.asarray([test[\"z\"] for r in test[\"R\"][:n_test]])\n",
    "Nt = np.asarray([len(test[\"z\"]) for r in test[\"R\"][:n_test]])"
   ]
  },
  {
   "cell_type": "code",
   "execution_count": null,
   "id": "86548dbd-2699-4084-9144-3228abab2491",
   "metadata": {},
   "outputs": [],
   "source": []
  },
  {
   "cell_type": "code",
   "execution_count": 36,
   "id": "ff8a4791-4223-47ba-9f2c-8307c834330f",
   "metadata": {},
   "outputs": [
    {
     "name": "stdout",
     "output_type": "stream",
     "text": [
      "(500, 9)\n"
     ]
    }
   ],
   "source": [
    "print(Q.shape)"
   ]
  },
  {
   "cell_type": "code",
   "execution_count": 37,
   "id": "77534003-0ce2-4154-8fa0-879a2782c02d",
   "metadata": {},
   "outputs": [
    {
     "name": "stdout",
     "output_type": "stream",
     "text": [
      "0.07398286901297979\n"
     ]
    }
   ],
   "source": [
    "sigma = 2\n",
    "t0 = time.perf_counter()\n",
    "# K = flocal_kernel_symm(X, Q, N, sigma)\n",
    "K = flocal_kernel(X, X, Q, Q, N, N, sigma)\n",
    "\n",
    "t1 = time.perf_counter()\n",
    "print(t1-t0)"
   ]
  },
  {
   "cell_type": "code",
   "execution_count": 38,
   "id": "0b9cec99-be1c-40f7-9407-d10ede7d2539",
   "metadata": {},
   "outputs": [
    {
     "name": "stdout",
     "output_type": "stream",
     "text": [
      "[[36.56205673 36.18353264 36.38832142 36.75741247 36.59730816]\n",
      " [36.18353264 36.05427466 36.10143915 36.4471952  36.28464488]\n",
      " [36.38832142 36.10143915 36.40329634 36.60667564 36.42631773]\n",
      " [36.75741247 36.4471952  36.60667564 37.13615363 36.90021563]\n",
      " [36.59730816 36.28464488 36.42631773 36.90021563 36.74719399]]\n"
     ]
    }
   ],
   "source": [
    "print(K[:5, :5])"
   ]
  },
  {
   "cell_type": "code",
   "execution_count": 39,
   "id": "b0f7c927-2ca4-4a4a-9f29-0916ed03592b",
   "metadata": {},
   "outputs": [],
   "source": [
    "from kernelforge._kernels import solve_cholesky"
   ]
  },
  {
   "cell_type": "code",
   "execution_count": 40,
   "id": "444ccb6c-3fa8-4873-bb57-0fcd7f55b6b7",
   "metadata": {
    "scrolled": true
   },
   "outputs": [
    {
     "data": {
      "text/plain": [
       "array([-7.65709493e+03, -8.67602675e+03, -1.02669233e+05, -7.78255680e+03,\n",
       "       -2.32087197e+04,  6.48973018e+04,  2.26695057e+04, -2.77572100e+05,\n",
       "        1.10633526e+04, -7.03311750e+04, -1.60650491e+03,  1.31049810e+05,\n",
       "       -7.60764243e+04, -7.96671899e+04,  1.31122730e+04, -4.40333490e+04,\n",
       "       -5.89045527e+03, -9.93559961e+04,  9.55273136e+04, -8.06338542e+04,\n",
       "        1.37720444e+04,  1.61523523e+04,  3.12207137e+04,  2.61650890e+04,\n",
       "        6.89683032e+04, -9.58679127e+04,  6.11154754e+04, -1.34186028e+04,\n",
       "        7.23104314e+04, -1.26991210e+05, -1.12424481e+05,  1.20299428e+05,\n",
       "        3.48249368e+04, -4.26583232e+04,  2.12007300e+04, -1.71643818e+03,\n",
       "        1.34672784e+04, -7.66135852e+03, -1.16899756e+05, -6.30967879e+04,\n",
       "        4.39352954e+04, -1.16775523e+04,  7.35776423e+04, -4.04290598e+04,\n",
       "        9.49954454e+04, -3.34654173e+04,  7.79029307e+03,  6.85780132e+04,\n",
       "        2.31328342e+04, -4.09281410e+04,  9.11966409e+04,  6.70752808e+03,\n",
       "       -2.57537188e+04, -7.25700178e+04, -1.45783252e+02, -3.13902442e+04,\n",
       "       -4.19741937e+04,  6.10397273e+04,  8.55065701e+04,  1.46571032e+03,\n",
       "       -9.54770028e+03, -5.53350486e+03,  6.46438595e+03, -2.91279085e+03,\n",
       "        1.01079586e+05, -4.42504077e+03,  7.72847120e+04,  1.80262895e+05,\n",
       "        1.43645787e+04, -5.27350584e+04, -2.82322059e+03,  2.63265856e+04,\n",
       "        4.37703820e+04,  8.40061167e+04,  4.04327985e+04,  6.71348820e+04,\n",
       "        1.79912704e+04,  4.41272472e+04, -5.31116192e+04, -3.77826095e+04,\n",
       "        5.93534998e+04, -1.46452309e+04, -2.81694007e+04, -2.13795224e+04,\n",
       "        1.26451201e+04, -1.25240879e+05, -1.86513686e+04,  1.07287888e+04,\n",
       "        1.09986513e+05, -3.07537110e+04, -3.80676655e+04, -1.27352989e+05,\n",
       "       -2.19955811e+04,  3.94623802e+03, -3.46646186e+04,  1.64950179e+04,\n",
       "        3.33521691e+04,  8.44686145e+04, -1.28773628e+05, -3.50399156e+04,\n",
       "        1.53892103e+04, -5.80457230e+04,  2.63381376e+04, -2.36489666e+04,\n",
       "       -7.31068234e+02, -7.66733603e+04, -1.62794795e+05, -5.12454588e+04,\n",
       "       -6.35330815e+04, -4.38419577e+04, -4.35897925e+04, -4.21431299e+04,\n",
       "        2.04229245e+04,  4.15507655e+04, -7.83251661e+04, -1.45090871e+04,\n",
       "        2.63852009e+04, -4.22105067e+04, -3.28454941e+03, -7.28686399e+04,\n",
       "        1.09170018e+05, -1.33089631e+05, -9.65887929e+04,  2.83200239e+04,\n",
       "        7.66963830e+04, -4.42968007e+04,  1.54124656e+05,  5.73712188e+04,\n",
       "        7.63426285e+03, -2.15343656e+04, -1.15607100e+05,  5.71677800e+04,\n",
       "       -2.59950865e+04, -7.71699656e+04, -2.16088817e+04,  4.12722769e+04,\n",
       "       -2.19689017e+04, -4.36215029e+04, -3.45926778e+04, -5.24683924e+03,\n",
       "       -6.27281951e+04, -6.86974723e+04,  1.00754673e+05, -1.40536529e+04,\n",
       "        5.78030944e+04, -1.25006426e+04,  6.28450924e+03, -7.02717903e+03,\n",
       "        6.76198676e+03,  2.58264708e+04,  3.66830052e+03, -1.35026303e+04,\n",
       "        6.64867649e+04,  3.89574639e+04, -1.65056410e+04,  9.48984867e+04,\n",
       "        5.77374046e+04, -7.19210577e+04,  3.67336613e+04,  1.09668888e+04,\n",
       "        1.32243695e+05,  2.22639149e+04,  3.97941167e+04,  5.30489812e+03,\n",
       "       -7.48212142e+04, -3.28080031e+04,  4.48827793e+04,  1.35495535e+04,\n",
       "       -7.60690743e+04,  8.69503701e+03,  6.41921258e+04, -2.79113369e+04,\n",
       "       -4.35674563e+04,  4.15376438e+04,  4.23372056e+04, -5.64275159e+03,\n",
       "        7.18325691e+02, -7.89297160e+04, -2.35305737e+04, -8.06742995e+04,\n",
       "        1.17669242e+04, -1.26472069e+05,  3.07859987e+04, -5.75284847e+04,\n",
       "       -1.83258957e+05,  1.12888241e+04,  2.84604470e+04, -4.60561091e+04,\n",
       "        1.19642219e+05,  7.64230403e+04, -1.29753701e+04,  3.35701795e+04,\n",
       "        6.53690686e+04,  4.87662304e+04,  2.81933556e+04, -5.14047565e+04,\n",
       "       -2.38548295e+04, -1.82576021e+04,  7.52547804e+04,  6.15998947e+04,\n",
       "       -3.31257715e+04, -1.65983910e+04,  1.44113172e+04,  1.77003840e+03,\n",
       "        2.56822007e+04, -1.82072284e+04, -1.71983444e+05, -1.14102096e+05,\n",
       "       -6.38113660e+03,  1.85992251e+04,  1.60019751e+04, -8.22175571e+03,\n",
       "        5.04610718e+04, -2.68094740e+04, -6.08279863e+03, -9.82577431e+04,\n",
       "       -3.01467620e+03, -7.97507930e+03,  8.70757895e+03, -8.36047573e+04,\n",
       "       -1.03889733e+05, -7.16209077e+04, -8.57887441e+03, -2.86874523e+04,\n",
       "        1.11258190e+05,  1.89740948e+05,  3.64444024e+04,  2.34340599e+04,\n",
       "       -9.56755880e+03, -3.07592632e+04, -1.23151614e+03,  8.36729858e+04,\n",
       "       -5.57884855e+04,  1.07382286e+04, -2.44371867e+04,  1.15899683e+04,\n",
       "       -4.97287352e+04, -7.37921015e+04, -4.47672470e+04,  7.01829180e+04,\n",
       "        1.31235485e+04,  2.23235326e+04,  1.36813203e+04, -2.37771089e+04,\n",
       "        4.95676829e+04,  2.58804036e+04,  1.11505487e+05, -3.31431892e+04,\n",
       "       -3.88933189e+04, -9.47990721e+04, -2.81962414e+04, -2.10249958e+04,\n",
       "       -1.17787121e+04, -2.17759197e+04,  6.96406645e+04,  6.68762396e+04,\n",
       "        1.61952726e+04, -7.53629169e+04, -1.70308662e+04, -1.63925076e+05,\n",
       "       -3.18423582e+04, -9.70964015e+03,  2.68994399e+04,  2.00167073e+04,\n",
       "        5.64284428e+03, -4.70290176e+03,  3.43658306e+04, -1.91212029e+05,\n",
       "        7.18485919e+02, -1.24866155e+05,  9.17936651e+04,  1.89662244e+04,\n",
       "       -4.47300157e+04,  1.54820871e+05,  1.17439226e+05,  3.67946085e+04,\n",
       "        6.42378286e+04, -5.51391949e+04, -7.51801148e+03,  2.57818502e+04,\n",
       "        1.24019851e+04, -1.17489831e+05,  1.62845294e+04,  6.86584610e+04,\n",
       "       -5.83065520e+03,  6.92670032e+03, -2.56910504e+04, -8.41810584e+04,\n",
       "       -7.62840675e+03,  1.52450351e+04,  6.08020178e+04,  7.72054600e+03,\n",
       "       -1.16666839e+04, -6.75239834e+04,  3.71578066e+04, -5.66491571e+04,\n",
       "       -2.52119503e+03,  7.13260121e+04,  3.96668464e+03,  5.52900383e+04,\n",
       "        2.57555749e+04, -6.06810335e+03, -4.18119728e+04, -9.88860009e+03,\n",
       "       -1.30549430e+05,  5.99303208e+03, -4.93307783e+04,  1.39901409e+04,\n",
       "        8.61816351e+04, -1.08342470e+05,  9.87246533e+04, -7.18870772e+04,\n",
       "       -4.63462957e+04, -1.69814980e+04, -2.23325994e+04,  9.60674683e+04,\n",
       "        7.70132377e+03, -9.28003588e+04, -1.21308286e+03,  8.79232280e+04,\n",
       "       -6.21900451e+03,  1.36194449e+05,  1.39106003e+04,  6.08922902e+04,\n",
       "        3.29634277e+04, -1.10835680e+04,  5.69130411e+04, -3.03998252e+02,\n",
       "       -2.38153973e+04, -1.35273742e+05, -2.18476104e+04, -3.22484499e+04,\n",
       "        7.78869665e+04, -1.04176573e+05, -4.38003287e+03, -5.94284229e+04,\n",
       "       -6.30362459e+04, -3.96071055e+04,  5.40427942e+04,  3.34272427e+04,\n",
       "       -3.37305491e+04,  6.91324209e+04, -1.27382391e+04, -1.55731758e+04,\n",
       "        5.98124735e+04,  7.67186460e+04,  9.85053582e+03, -2.58819180e+04,\n",
       "        1.71321792e+05, -5.63778225e+04,  3.25808135e+04,  8.22763395e+04,\n",
       "       -6.21266102e+03, -6.50247809e+03, -2.66923359e+04, -2.05918086e+04,\n",
       "        3.22723036e+05,  3.10059034e+04,  4.84894605e+04,  1.40263179e+05,\n",
       "        2.35627920e+03, -1.13138518e+04,  3.43051264e+03, -7.63007369e+02,\n",
       "       -1.96635303e+04,  2.70168851e+03, -1.40460142e+04, -3.60556959e+04,\n",
       "       -2.41835389e+04,  1.44627033e+04,  1.84249145e+05,  1.11547829e+05,\n",
       "       -4.56719427e+04,  3.70241356e+04,  3.63987268e+04, -1.75964015e+04,\n",
       "       -1.90145978e+04,  6.56562688e+04,  2.17633287e+04, -1.22686800e+04,\n",
       "        5.14852815e+04,  6.01160348e+03,  2.55380859e+04, -4.70707256e+04,\n",
       "       -2.73628768e+04,  4.74496922e+04, -8.44891502e+04, -4.76398661e+04,\n",
       "        4.75931283e+04, -5.14340957e+04,  5.15229040e+04, -1.13028733e+05,\n",
       "        3.56197071e+03,  4.54823897e+04,  4.76798064e+04, -8.37224916e+04,\n",
       "        2.66531826e+04,  6.47873145e+04, -2.06620651e+04, -1.48567803e+03,\n",
       "       -1.85794265e+04,  6.81207726e+03,  1.68398183e+04,  6.51472476e+04,\n",
       "       -2.26918666e+04, -7.96496062e+04,  3.80361040e+04, -3.93419159e+04,\n",
       "        9.03980387e+04, -1.83903231e+04, -3.88682950e+04,  9.65677327e+04,\n",
       "        1.04479991e+04,  1.71164556e+04,  2.04573021e+05, -7.78371506e+04,\n",
       "       -6.38817593e+04, -6.54058683e+04, -2.55240356e+04,  3.04934432e+04,\n",
       "       -1.01855182e+05, -2.60148384e+04, -9.80341662e+04,  1.07815733e+05,\n",
       "        8.08045192e+04,  1.54570042e+05, -2.97208142e+02, -2.18956784e+03,\n",
       "        1.69260155e+04,  1.83284852e+05,  2.94917237e+04,  3.23425487e+04,\n",
       "       -6.94082075e+04, -8.73426851e+03,  1.01334019e+04, -1.86169908e+04,\n",
       "       -6.17113512e+04,  3.47615288e+04, -1.46202941e+04, -9.93266672e+04,\n",
       "       -2.21677519e+04, -1.17832340e+05,  6.26748107e+04, -7.94401559e+03,\n",
       "       -1.01441840e+04,  1.96844215e+04,  1.17945728e+05,  1.47694317e+04,\n",
       "        9.52187611e+04,  2.32241790e+04, -4.29751625e+04, -5.09611969e+04,\n",
       "       -6.10309952e+04,  2.58789498e+04,  2.01109459e+04,  2.09493984e+04,\n",
       "        6.47719126e+04,  3.37456392e+04, -2.50605412e+04, -4.54531923e+04,\n",
       "       -3.40081759e+04, -1.79018888e+04, -9.27070701e+03,  2.96499815e+04,\n",
       "       -8.52890966e+03, -5.72991720e+04, -8.58312693e+01, -5.78649463e+04,\n",
       "       -1.49925168e+04, -4.44839727e+04, -8.52785448e+02, -2.22472985e+04,\n",
       "       -4.06873400e+04,  5.99299756e+04, -7.39759944e+03,  1.16934543e+05,\n",
       "       -9.26708503e+04, -8.95086583e+04,  6.49531391e+04,  9.54117623e+04,\n",
       "       -2.64552167e+04,  2.97637346e+04,  2.71231189e+04, -3.73502993e+04,\n",
       "        2.32751875e+04, -5.01848182e+04, -3.17681657e+04,  4.36905356e+04,\n",
       "        3.23743265e+04, -1.57795727e+04,  1.84826624e+03,  7.72658857e+03,\n",
       "       -2.67302062e+03, -5.59922844e+04, -7.76611853e+03, -1.08719425e+05,\n",
       "       -1.32403814e+03,  1.06936006e+05,  5.01033155e+04, -1.11651867e+04])"
      ]
     },
     "execution_count": 40,
     "metadata": {},
     "output_type": "execute_result"
    }
   ],
   "source": [
    "K_solve = K.copy()\n",
    "for i in range(K_solve.shape[0]):\n",
    "    K_solve[i,i] += 1e-8\n",
    "alphas = solve_cholesky(K_solve, Y)\n",
    "alphas"
   ]
  },
  {
   "cell_type": "code",
   "execution_count": 41,
   "id": "18418bdf-1abf-414f-9860-b6fadfe4ffd1",
   "metadata": {},
   "outputs": [
    {
     "name": "stdout",
     "output_type": "stream",
     "text": [
      "0.11277155898278579\n"
     ]
    }
   ],
   "source": [
    "t0 = time.perf_counter()\n",
    "Kt = flocal_kernel(Xt, X, Qt, Q, Nt, N, sigma)\n",
    "t1 = time.perf_counter()\n",
    "print(t1-t0)"
   ]
  },
  {
   "cell_type": "code",
   "execution_count": 42,
   "id": "80fcda47-f9a8-4f0f-9077-46f834cf8110",
   "metadata": {},
   "outputs": [],
   "source": [
    "Yp = Kt @ alphas"
   ]
  },
  {
   "cell_type": "code",
   "execution_count": 43,
   "id": "293f5599-9472-4848-9e77-e15618fde80d",
   "metadata": {},
   "outputs": [
    {
     "name": "stdout",
     "output_type": "stream",
     "text": [
      "RMSE = 0.395003292893571\n",
      "PearsonRResult(statistic=np.float64(0.9965244966194298), pvalue=np.float64(0.0))\n"
     ]
    },
    {
     "data": {
      "text/plain": [
       "<matplotlib.collections.PathCollection at 0x7daa65130e10>"
      ]
     },
     "execution_count": 43,
     "metadata": {},
     "output_type": "execute_result"
    },
    {
     "data": {
      "image/png": "[encoded data removed]",
      "text/plain": [
       "<Figure size 600x600 with 1 Axes>"
      ]
     },
     "metadata": {},
     "output_type": "display_data"
    }
   ],
   "source": [
    "rmse = np.sqrt(np.mean(np.square(Yt - Yp)))\n",
    "res = pearsonr(Yp, Yt)\n",
    "print(f\"RMSE = {rmse}\")\n",
    "print(res)\n",
    "fig = plt.figure(figsize=(6,6))\n",
    "plt.xlabel(\"CCSD(T) Energy [kcal/mol]\")\n",
    "plt.ylabel(\"Predicted Energy [kcal/mol]\")\n",
    "plt.title(\"kernelforge cpp FHCL19 Energy learning from Enery\")\n",
    "plt.scatter(Yt, Yp, s=1)"
   ]
  },
  {
   "cell_type": "code",
   "execution_count": 44,
   "id": "e3d9d273-68f1-46af-88c8-31c0b5a2297e",
   "metadata": {},
   "outputs": [
    {
     "name": "stdout",
     "output_type": "stream",
     "text": [
      "/home/andersx/dev/laptop-qml/libfakeintel.so\n"
     ]
    }
   ],
   "source": [
    "import os\n",
    "print(os.environ[\"LD_PRELOAD\"])"
   ]
  },
  {
   "cell_type": "code",
   "execution_count": 45,
   "id": "b0d86883-9e3c-4d84-8f5e-117f22849196",
   "metadata": {
    "scrolled": true
   },
   "outputs": [
    {
     "name": "stdout",
     "output_type": "stream",
     "text": [
      "7.247923364018789\n"
     ]
    }
   ],
   "source": [
    "t0 = time.perf_counter()\n",
    "Kd = fatomic_local_gradient_kernel(X, Xt, dXt, Q, Qt, N, Nt, sigma).T\n",
    "t1 = time.perf_counter()\n",
    "print(t1-t0)"
   ]
  },
  {
   "cell_type": "code",
   "execution_count": 46,
   "id": "47a5d5a9-d227-4d98-b2a3-4b9f5a4a3025",
   "metadata": {},
   "outputs": [
    {
     "data": {
      "text/plain": [
       "(27000, 500)"
      ]
     },
     "execution_count": 46,
     "metadata": {},
     "output_type": "execute_result"
    }
   ],
   "source": [
    "Kd.shape"
   ]
  },
  {
   "cell_type": "code",
   "execution_count": 47,
   "id": "e2eae55d-7d96-4490-ad2b-ad1d3711c186",
   "metadata": {
    "scrolled": true
   },
   "outputs": [
    {
     "data": {
      "text/plain": [
       "(27000,)"
      ]
     },
     "execution_count": 47,
     "metadata": {},
     "output_type": "execute_result"
    }
   ],
   "source": [
    "Yfp = Kd @ alphas\n",
    "Yfp.shape"
   ]
  },
  {
   "cell_type": "code",
   "execution_count": 48,
   "id": "aceabcf4-c2da-4118-bace-889c608b668e",
   "metadata": {},
   "outputs": [
    {
     "data": {
      "text/plain": [
       "(27000,)"
      ]
     },
     "execution_count": 48,
     "metadata": {},
     "output_type": "execute_result"
    }
   ],
   "source": [
    "Yft.shape"
   ]
  },
  {
   "cell_type": "code",
   "execution_count": 49,
   "id": "7f1c5d68-a95a-41a4-b602-91df6054016f",
   "metadata": {},
   "outputs": [
    {
     "name": "stdout",
     "output_type": "stream",
     "text": [
      "RMSE = 2.4441422603789538\n",
      "PearsonRResult(statistic=np.float64(0.9960379323411013), pvalue=np.float64(0.0))\n"
     ]
    },
    {
     "data": {
      "text/plain": [
       "<matplotlib.collections.PathCollection at 0x7daa65197890>"
      ]
     },
     "execution_count": 49,
     "metadata": {},
     "output_type": "execute_result"
    },
    {
     "data": {
      "image/png": "[encoded data removed]",
      "text/plain": [
       "<Figure size 600x600 with 1 Axes>"
      ]
     },
     "metadata": {},
     "output_type": "display_data"
    }
   ],
   "source": [
    "rmse = np.sqrt(np.mean(np.square(Yft - Yfp)))\n",
    "res = pearsonr(Yfp, Yft)\n",
    "print(f\"RMSE = {rmse}\")\n",
    "print(res)\n",
    "fig = plt.figure(figsize=(6,6))\n",
    "plt.xlabel(\"CCSD(T) Force [kcal/mol/Å]\")\n",
    "plt.ylabel(\"Predicted Force [kcal/mol/Å]\")\n",
    "plt.title(\"kernelforge cpp FHCL19 Force learning from Enery\")\n",
    "plt.scatter(Yft, Yfp, s=1)"
   ]
  },
  {
   "cell_type": "code",
   "execution_count": null,
   "id": "ddb8d71e-a0f5-433c-b765-dbf0be76776b",
   "metadata": {},
   "outputs": [],
   "source": []
  },
  {
   "cell_type": "code",
   "execution_count": null,
   "id": "6bd20c9e-6dca-4f84-85e4-d7e857478aa3",
   "metadata": {},
   "outputs": [],
   "source": []
  },
  {
   "cell_type": "code",
   "execution_count": null,
   "id": "4c7352d5-44e1-4bc3-8e6c-1cc0e6cd2f23",
   "metadata": {},
   "outputs": [],
   "source": []
  }
 ],
 "metadata": {
  "kernelspec": {
   "display_name": "Python 3 (ipykernel)",
   "language": "python",
   "name": "python3"
  },
  "language_info": {
   "codemirror_mode": {
    "name": "ipython",
    "version": 3
   },
   "file_extension": ".py",
   "mimetype": "text/x-python",
   "name": "python",
   "nbconvert_exporter": "python",
   "pygments_lexer": "ipython3",
   "version": "3.13.5"
  }
 },
 "nbformat": 4,
 "nbformat_minor": 5
}
