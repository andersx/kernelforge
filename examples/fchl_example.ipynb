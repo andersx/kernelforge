{
 "cells": [
  {
   "cell_type": "code",
   "execution_count": 1,
   "id": "cee7de35-ad59-47d5-8222-0af1468ffcfe",
   "metadata": {},
   "outputs": [],
   "source": [
    "from kernelforge._fchl19 import flocal_kernel, generate_fchl_acsf, generate_fchl_acsf_and_gradients, flocal_kernel_symm, fatomic_local_gradient_kernel\n",
    "# import kernelforge\n",
    "# help(kernelforge._fchl19)\n",
    "import numpy as np\n",
    "from scipy.stats import pearsonr\n",
    "import matplotlib.pyplot as plt\n",
    "import time\n",
    "from tqdm.notebook import tqdm"
   ]
  },
  {
   "cell_type": "code",
   "execution_count": 2,
   "id": "4071b673-60cb-43f3-9df8-fe1eb3ace36c",
   "metadata": {},
   "outputs": [],
   "source": [
    "train = np.load(\"/home/andersx/dev/laptop-qml/kitchen-sink-qml/data/ethanol_ccsd_t-train.npz\")\n",
    "test = np.load(\"/home/andersx/dev/laptop-qml/kitchen-sink-qml/data/ethanol_ccsd_t-test.npz\")\n",
    "elements=[1, 6, 8]\n",
    "n_test = 100"
   ]
  },
  {
   "cell_type": "code",
   "execution_count": 3,
   "id": "9faaf213-9329-40b1-a401-808b3a5d4937",
   "metadata": {
    "scrolled": true
   },
   "outputs": [],
   "source": [
    "Y = train[\"E\"].flatten()\n",
    "offset = np.mean(Y)\n",
    "Y -= offset\n",
    "Yt = test[\"E\"].flatten()[:n_test] - offset\n",
    "\n",
    "Yft = test[\"F\"][:n_test].flatten()"
   ]
  },
  {
   "cell_type": "code",
   "execution_count": 5,
   "id": "c435d809-7b7b-4bba-8e1b-832fb65e3a5d",
   "metadata": {},
   "outputs": [
    {
     "data": {
      "application/vnd.jupyter.widget-view+json": {
       "model_id": "6f39fb2207b347ffb280851fe5093854",
       "version_major": 2,
       "version_minor": 0
      },
      "text/plain": [
       "  0%|          | 0/1000 [00:00<?, ?it/s]"
      ]
     },
     "metadata": {},
     "output_type": "display_data"
    },
    {
     "data": {
      "application/vnd.jupyter.widget-view+json": {
       "model_id": "44463f734dbc422ab6b8a75531d960e8",
       "version_major": 2,
       "version_minor": 0
      },
      "text/plain": [
       "  0%|          | 0/1000 [00:00<?, ?it/s]"
      ]
     },
     "metadata": {},
     "output_type": "display_data"
    },
    {
     "name": "stdout",
     "output_type": "stream",
     "text": [
      "(1000, 9, 312, 27)\n"
     ]
    }
   ],
   "source": [
    "X = np.asarray([generate_fchl_acsf(r, train[\"z\"], elements=elements) for r in tqdm(train[\"R\"])])\n",
    "dX = np.asarray([generate_fchl_acsf_and_gradients(r, train[\"z\"], elements=elements)[1] for r in tqdm(train[\"R\"])])\n",
    "dX.resize(1000,9,312,27)\n",
    "print(dX.shape)\n",
    "Q = np.asarray([train[\"z\"] for r in train[\"R\"]])\n",
    "N = np.asarray([len(train[\"z\"]) for r in train[\"R\"]])"
   ]
  },
  {
   "cell_type": "code",
   "execution_count": null,
   "id": "3c7e3929-537b-4212-9264-3deeb6423139",
   "metadata": {},
   "outputs": [],
   "source": []
  },
  {
   "cell_type": "code",
   "execution_count": 6,
   "id": "157c9ce6-38a0-4e2f-9325-d2b4c65afdc6",
   "metadata": {},
   "outputs": [
    {
     "data": {
      "application/vnd.jupyter.widget-view+json": {
       "model_id": "cf5222326bb1403381d76743b742103c",
       "version_major": 2,
       "version_minor": 0
      },
      "text/plain": [
       "  0%|          | 0/100 [00:00<?, ?it/s]"
      ]
     },
     "metadata": {},
     "output_type": "display_data"
    },
    {
     "name": "stdout",
     "output_type": "stream",
     "text": [
      "(100, 9, 312)\n"
     ]
    },
    {
     "data": {
      "application/vnd.jupyter.widget-view+json": {
       "model_id": "ec17af6408b64615aeb7f3b24579690f",
       "version_major": 2,
       "version_minor": 0
      },
      "text/plain": [
       "  0%|          | 0/1000 [00:00<?, ?it/s]"
      ]
     },
     "metadata": {},
     "output_type": "display_data"
    },
    {
     "name": "stdout",
     "output_type": "stream",
     "text": [
      "(100, 9, 312, 27)\n"
     ]
    }
   ],
   "source": [
    "Xt = np.asarray([generate_fchl_acsf(r, test[\"z\"], elements=elements) for r in tqdm(test[\"R\"][:n_test])])\n",
    "print(Xt.shape)\n",
    "dXt = np.asarray([generate_fchl_acsf_and_gradients(r, test[\"z\"], elements=elements)[1] for r in tqdm(test[\"R\"])])\n",
    "dXt.resize(n_test,9,312,27)\n",
    "print(dXt.shape)\n",
    "Qt = np.asarray([train[\"z\"] for r in test[\"R\"][:n_test]])\n",
    "Nt = np.asarray([len(train[\"z\"]) for r in test[\"R\"][:n_test]])"
   ]
  },
  {
   "cell_type": "code",
   "execution_count": 7,
   "id": "ff8a4791-4223-47ba-9f2c-8307c834330f",
   "metadata": {},
   "outputs": [
    {
     "name": "stdout",
     "output_type": "stream",
     "text": [
      "(1000, 9)\n"
     ]
    }
   ],
   "source": [
    "print(Q.shape)"
   ]
  },
  {
   "cell_type": "code",
   "execution_count": 8,
   "id": "77534003-0ce2-4154-8fa0-879a2782c02d",
   "metadata": {},
   "outputs": [
    {
     "name": "stdout",
     "output_type": "stream",
     "text": [
      "0.19720519302063622\n"
     ]
    }
   ],
   "source": [
    "sigma = 2\n",
    "t0 = time.perf_counter()\n",
    "# K = flocal_kernel_symm(X, Q, N, sigma)\n",
    "K = flocal_kernel(X, X, Q, Q, N, N, sigma)\n",
    "\n",
    "t1 = time.perf_counter()\n",
    "print(t1-t0)"
   ]
  },
  {
   "cell_type": "code",
   "execution_count": 9,
   "id": "0b9cec99-be1c-40f7-9407-d10ede7d2539",
   "metadata": {},
   "outputs": [
    {
     "name": "stdout",
     "output_type": "stream",
     "text": [
      "[[36.56205673 36.18353264 36.38832142 36.75741247 36.59730816]\n",
      " [36.18353264 36.05427466 36.10143915 36.4471952  36.28464488]\n",
      " [36.38832142 36.10143915 36.40329634 36.60667564 36.42631773]\n",
      " [36.75741247 36.4471952  36.60667564 37.13615363 36.90021563]\n",
      " [36.59730816 36.28464488 36.42631773 36.90021563 36.74719399]]\n"
     ]
    }
   ],
   "source": [
    "print(K[:5, :5])"
   ]
  },
  {
   "cell_type": "code",
   "execution_count": 10,
   "id": "b0f7c927-2ca4-4a4a-9f29-0916ed03592b",
   "metadata": {},
   "outputs": [],
   "source": [
    "from kernelforge._kernels import solve_cholesky"
   ]
  },
  {
   "cell_type": "code",
   "execution_count": 11,
   "id": "444ccb6c-3fa8-4873-bb57-0fcd7f55b6b7",
   "metadata": {
    "scrolled": true
   },
   "outputs": [
    {
     "data": {
      "text/plain": [
       "array([-1.31414412e+05,  4.10049342e+04, -8.71672311e+04, -1.07719808e+05,\n",
       "        1.52983994e+05,  7.31251870e+04,  2.42718973e+05, -6.27991800e+05,\n",
       "        8.76152819e+04, -1.17395717e+05, -8.55331106e+04,  2.37550035e+05,\n",
       "       -7.49724138e+04, -5.60236766e+03,  5.94161559e+04, -1.25270205e+05,\n",
       "        3.47603320e+04, -2.61758930e+05,  1.79847659e+05, -3.30484372e+05,\n",
       "        1.32649210e+05,  3.24798414e+04, -1.15498152e+05,  1.55339889e+05,\n",
       "       -4.18562236e+05, -2.26166530e+05,  1.26712829e+05, -4.59071417e+04,\n",
       "        6.24808902e+04, -3.46105150e+05, -2.87316308e+05,  1.08915201e+04,\n",
       "       -1.15537640e+05, -6.60817344e+04,  4.64264443e+02,  1.11972940e+05,\n",
       "        2.20707512e+05, -2.57719368e+05, -2.89539668e+05, -7.17896709e+04,\n",
       "        1.58779880e+05, -2.73773435e+05,  6.09238251e+04, -5.85517929e+04,\n",
       "        7.29473216e+04,  1.64066969e+05, -7.99282046e+04,  4.88153413e+04,\n",
       "       -9.85437495e+03, -2.64115401e+04,  2.72597843e+05, -6.37952347e+04,\n",
       "        7.80135296e+04, -1.83463958e+05,  1.62829353e+05,  5.10844880e+04,\n",
       "        2.31963182e+05,  1.57321560e+05,  1.73674412e+05,  2.44412112e+04,\n",
       "       -2.53662777e+03,  1.99271856e+05, -1.63047771e+04,  6.82337895e+04,\n",
       "        8.14018490e+05, -1.13956826e+05,  4.41369456e+05,  3.37290329e+05,\n",
       "        4.00536462e+05, -2.06174149e+05,  2.31455179e+05,  1.02412547e+05,\n",
       "        1.20695343e+02,  2.26531885e+05, -9.65439159e+04,  1.72587923e+05,\n",
       "        5.30452195e+03, -9.96569432e+04, -1.14092414e+05, -1.87875441e+05,\n",
       "        2.00100707e+05, -2.60958436e+04, -1.35717245e+05, -1.18313002e+05,\n",
       "       -7.87469414e+04, -3.51848817e+05, -9.47059694e+04, -2.08113691e+04,\n",
       "        1.93944444e+05, -2.91397552e+04,  4.18156164e+05, -4.66905150e+05,\n",
       "       -9.28104307e+04,  5.28332348e+05,  7.15551214e+04,  2.03681630e+05,\n",
       "        1.06339310e+05, -9.63748198e+04, -1.43974722e+05,  1.23539284e+04,\n",
       "        1.53142611e+03,  2.82545361e+05,  1.34026532e+05,  1.51166219e+05,\n",
       "       -4.65730810e+05, -8.98025395e+04, -4.53063769e+05, -3.80798543e+05,\n",
       "       -9.52805663e+04,  3.03934718e+04, -2.63112348e+05, -1.23129277e+05,\n",
       "       -4.58769886e+05,  3.85097924e+05, -9.69216696e+04, -4.84870888e+03,\n",
       "        1.78953314e+05,  7.60312106e+03,  1.02328032e+05, -2.09242413e+05,\n",
       "        6.31336765e+05, -3.16397368e+05, -1.81292054e+05,  4.13907112e+04,\n",
       "        9.19069924e+04, -4.37463689e+04,  1.77092666e+05,  3.52871644e+05,\n",
       "       -6.40472673e+04,  3.26025562e+04, -2.75410353e+05,  1.36633559e+05,\n",
       "       -4.79771856e+04, -1.56043933e+05, -3.33519302e+05, -1.85853480e+05,\n",
       "       -1.37749578e+05,  4.26457299e+03, -3.78274512e+04,  2.32911760e+04,\n",
       "        7.79026275e+04,  2.90834377e+04,  1.15462634e+05,  5.31478605e+04,\n",
       "        1.58680789e+05, -6.91535054e+04,  4.57257956e+04,  1.11125275e+05,\n",
       "        6.50709150e+04, -1.00263525e+05,  4.17152005e+04, -2.70636834e+05,\n",
       "        4.46134046e+05,  9.75950922e+04, -1.01381925e+04,  2.36228982e+05,\n",
       "       -8.10223361e+03, -4.73045336e+04, -1.17901532e+04,  2.18379841e+05,\n",
       "       -8.72268759e+04,  2.29092545e+05,  1.81352891e+05,  1.70493732e+05,\n",
       "       -1.69460658e+05, -2.87418578e+05,  3.68087430e+04, -4.30190895e+04,\n",
       "       -1.20778996e+05, -8.21226363e+04, -5.20982922e+04, -1.28018239e+05,\n",
       "        2.11932060e+04,  4.57816093e+05, -1.22083147e+05,  9.90588020e+04,\n",
       "        3.19479502e+04, -1.02481508e+05, -1.10446754e+05, -1.02157024e+05,\n",
       "       -3.00060570e+04, -4.16089725e+04,  1.66443103e+05,  2.42743437e+05,\n",
       "       -2.62395888e+05, -4.74501719e+05,  2.46258268e+04, -1.14165693e+05,\n",
       "        5.14823892e+04,  1.03270407e+05, -3.51590946e+04,  2.36523818e+05,\n",
       "       -6.61390570e+05,  1.75702830e+05,  3.69219027e+04,  3.45158774e+04,\n",
       "        5.14640436e+05, -7.45924322e+03, -2.24640286e+05,  7.90939730e+04,\n",
       "        9.91683871e+04,  1.56750779e+05, -9.23900233e+04, -2.06118046e+04,\n",
       "       -2.04805604e+04,  6.48776868e+04, -1.00617086e+05,  3.51396191e+05,\n",
       "       -1.10023473e+04,  6.97817560e+03,  1.76161081e+05,  1.87481979e+05,\n",
       "        1.58642442e+05,  1.86456483e+05, -2.67151493e+04,  2.08715091e+04,\n",
       "        1.21812235e+05, -1.38555447e+05, -6.92855876e+04, -1.56746390e+04,\n",
       "        5.44692545e+04, -1.20330561e+05, -8.67711125e+04, -3.24059162e+05,\n",
       "       -4.34570984e+04,  4.03516085e+05, -8.22517246e+04,  5.78958542e+04,\n",
       "       -9.37706330e+04,  2.65767471e+04, -2.06741382e+04,  2.69662519e+05,\n",
       "       -5.85935622e+05,  9.49252560e+03, -7.86964636e+04, -1.04846008e+05,\n",
       "        6.70381054e+05,  3.74498558e+05, -5.62527247e+04,  5.25151158e+04,\n",
       "       -3.15817299e+05, -2.90676920e+04,  2.96899573e+05, -6.17551492e+04,\n",
       "        1.21276579e+05, -3.92889165e+04,  4.23935807e+05, -1.76303118e+05,\n",
       "       -9.59830393e+04, -1.75183166e+05,  3.81368239e+04, -3.55057036e+03,\n",
       "       -1.00427831e+05, -3.59043370e+05, -1.49132421e+05,  2.04169605e+05,\n",
       "        6.35215236e+04, -1.25797946e+03, -3.40551435e+05, -9.34874394e+04,\n",
       "       -6.45096261e+04, -1.26707253e+05,  1.43319060e+05,  2.36306210e+05,\n",
       "       -1.28735624e+05,  1.10648425e+05,  9.27161152e+04, -3.50158981e+05,\n",
       "        3.85927588e+04, -9.85392409e+02,  1.14235755e+05, -2.78474006e+04,\n",
       "       -3.96944801e+04,  1.57898699e+05,  5.78393984e+05,  7.83597223e+04,\n",
       "        2.27904794e+05,  2.28992343e+05, -3.73531299e+04, -7.49639269e+04,\n",
       "        1.69129849e+04, -3.47541730e+05,  6.57151319e+04,  1.43904663e+05,\n",
       "       -4.98697479e+04,  3.44780761e+04,  2.25625653e+05, -5.86892257e+05,\n",
       "       -1.65663283e+05,  7.81822066e+04, -2.89694166e+05,  1.50692135e+03,\n",
       "        7.83022323e+03, -2.37947056e+05,  2.03297000e+05, -1.32283931e+05,\n",
       "        3.87540465e+04,  2.95250652e+05, -1.61737001e+05,  2.61041278e+05,\n",
       "       -5.08461068e+04,  1.37620886e+04,  9.83829324e+05, -6.21448711e+04,\n",
       "        2.54302674e+05,  3.47634221e+04,  1.44756823e+04, -2.70573986e+05,\n",
       "       -5.28976107e+05, -5.95376848e+05, -1.17379948e+04, -3.87738740e+04,\n",
       "       -5.38118786e+04, -6.55058796e+04, -1.94244246e+05,  2.32248018e+05,\n",
       "       -1.59552143e+05,  1.06142648e+05, -4.29286301e+04,  1.52842027e+05,\n",
       "       -1.06352977e+02,  3.69527090e+05, -8.01502648e+04, -1.26400475e+05,\n",
       "        1.59230977e+05,  1.45087187e+04, -8.43873220e+04,  2.03990602e+05,\n",
       "       -1.88944257e+05, -1.87085916e+05,  6.13362351e+04, -1.32924544e+05,\n",
       "        6.34823800e+04, -1.54712069e+05, -3.17744345e+04, -5.03922378e+04,\n",
       "       -2.51285751e+05,  1.56168604e+05,  6.65505050e+04,  6.00779115e+04,\n",
       "       -6.78070335e+04,  5.82281217e+05, -6.55941741e+04, -9.90349507e+04,\n",
       "        4.74290114e+05,  4.51086483e+04, -6.45830252e+04, -7.09477771e+04,\n",
       "        4.18029378e+05,  4.91235401e+04,  1.76442740e+05,  2.08922733e+05,\n",
       "       -1.41333487e+05,  4.03385239e+04, -5.15563885e+04, -1.59799448e+05,\n",
       "       -4.72469576e+05,  1.12325864e+04, -2.37649428e+04, -6.81304094e+04,\n",
       "       -6.40469020e+04,  5.49925574e+04, -3.60112004e+04, -6.09180388e+04,\n",
       "       -8.77455460e+04,  7.80521117e+05, -1.80073621e+05, -3.13644942e+05,\n",
       "       -2.73157370e+04,  1.42525696e+05, -1.72969260e+03,  1.84630746e+05,\n",
       "       -7.77476759e+04,  9.97566566e+04, -5.69895462e+04, -1.78912099e+05,\n",
       "       -4.06518001e+05,  1.01070182e+05,  6.08596467e+03,  1.84701308e+03,\n",
       "       -2.06326981e+05, -2.20396782e+05,  2.59261728e+05, -4.97642988e+03,\n",
       "       -1.92603129e+05, -7.91297210e+04,  1.78763523e+05, -1.33871141e+05,\n",
       "        1.07190992e+05, -3.77537848e+03,  1.09233763e+05, -3.64866576e+05,\n",
       "       -3.71793529e+02, -4.66711043e+04, -1.48947264e+05, -1.44504077e+05,\n",
       "        4.62382266e+04,  2.05637179e+05,  1.20371415e+05,  1.46119248e+05,\n",
       "       -4.73589214e+03,  3.25121894e+05,  6.62439021e+05, -4.69058131e+05,\n",
       "       -1.59202097e+03, -6.78976939e+04,  2.57585622e+05, -1.70254056e+05,\n",
       "        1.92517157e+05, -3.31838635e+04, -2.64280377e+05,  3.51780861e+05,\n",
       "        2.21682857e+04, -3.84173790e+04,  8.39022682e+02, -9.82243290e+04,\n",
       "       -7.67427751e+04, -4.36756614e+05, -8.04276962e+04, -2.67042821e+04,\n",
       "       -1.65120017e+05, -1.24752526e+05, -1.82587814e+05, -4.79743814e+04,\n",
       "        2.97909008e+05,  1.96421171e+05,  3.19227088e+05, -3.24567051e+05,\n",
       "       -1.02450083e+05,  7.29203792e+04, -6.60035057e+03,  1.37720362e+05,\n",
       "       -6.02134159e+04, -2.66477560e+05, -2.41658519e+05, -3.45245803e+04,\n",
       "       -7.61905320e+04,  1.45476664e+05,  1.35061877e+05, -2.13966949e+03,\n",
       "        7.68803844e+04, -3.76150900e+05,  4.75764107e+04, -7.18135207e+03,\n",
       "       -2.84285657e+05, -6.18392330e+04, -1.12739003e+05, -2.73287202e+04,\n",
       "       -1.27494555e+03,  2.14000023e+05, -3.61231709e+05, -1.47919922e+05,\n",
       "        7.31649102e+03,  1.34379827e+05,  8.29855739e+05, -7.06503757e+04,\n",
       "        6.02499000e+04, -1.55469594e+05,  7.09671394e+04,  4.06757608e+04,\n",
       "       -1.05085353e+05,  1.24621286e+05,  2.21231101e+04,  1.22349618e+05,\n",
       "       -2.56001745e+04, -1.82577904e+05, -3.50950891e+04,  1.72570731e+05,\n",
       "        1.47833556e+05, -3.77056572e+05,  9.60141245e+03,  8.40569601e+04,\n",
       "        2.32004013e+04,  1.11520512e+05,  8.86086667e+04,  1.92028672e+05,\n",
       "       -2.52576825e+05, -4.87129109e+05, -2.45499073e+05,  1.30647434e+05,\n",
       "       -6.58941544e+04,  2.62174117e+04, -6.92301866e+04, -1.30770658e+05,\n",
       "        7.53701742e+04,  2.05530384e+05,  7.66276850e+03,  3.20589779e+04,\n",
       "        1.16462987e+04, -2.46752732e+03, -9.07185739e+04,  1.15526498e+05,\n",
       "        1.47106215e+04,  4.78672153e+05, -1.29993814e+04, -4.18780436e+05,\n",
       "        1.28239799e+04,  9.55798992e+04,  2.18904807e+05, -2.11139012e+04,\n",
       "       -3.67050206e+05,  2.49385488e+05,  4.09933545e+05,  2.48831261e+04,\n",
       "       -2.29268007e+04,  3.29362986e+05,  1.78680598e+04,  5.44693197e+04,\n",
       "       -1.87494490e+05,  2.97275873e+05, -1.20086268e+05, -3.26652321e+04,\n",
       "       -1.00842776e+05, -1.41355137e+05, -6.28885697e+05, -1.17053450e+05,\n",
       "        1.62964568e+04, -8.94850577e+03, -3.17372770e+04,  9.74990518e+04,\n",
       "       -1.35432142e+05, -3.74100140e+03,  2.82576720e+05,  6.79895193e+05,\n",
       "       -1.05677441e+04, -1.19891704e+05, -1.62502675e+05, -9.82771924e+04,\n",
       "       -7.93336845e+03,  5.37669291e+04,  2.27531536e+04, -7.07042950e+03,\n",
       "       -1.34848430e+05, -3.90035632e+04, -3.09695617e+03,  1.29599027e+05,\n",
       "        2.58236432e+05,  2.93039207e+04,  1.98569752e+04,  1.66714053e+05,\n",
       "        7.42062344e+04,  2.67953696e+04,  2.35153740e+05, -9.65604388e+04,\n",
       "       -2.76934798e+05,  4.71999378e+04, -2.34498255e+04,  1.55394454e+05,\n",
       "       -2.27154938e+05,  1.51210159e+05,  1.07883813e+05, -8.54948525e+04,\n",
       "       -8.87179981e+04, -5.23252355e+04,  1.42183701e+05, -7.72287605e+04,\n",
       "        4.58070478e+04, -2.04742635e+05, -1.26114655e+05,  1.74067789e+05,\n",
       "       -1.38912261e+05,  1.69486125e+05, -5.59458021e+05, -6.81387120e+05,\n",
       "       -4.19916301e+04, -3.19660148e+05, -2.64400290e+05,  2.39480091e+04,\n",
       "       -1.42680242e+05,  4.93326057e+05,  3.25011891e+05,  8.51181255e+04,\n",
       "       -3.17226609e+05,  2.76977993e+04, -2.09972192e+05,  2.64594883e+04,\n",
       "       -5.29393677e+03, -2.39556709e+05,  6.48915514e+04, -2.50680850e+05,\n",
       "        2.64850819e+04,  1.73558896e+04, -1.73918706e+05,  3.18065847e+05,\n",
       "        1.60544086e+05, -4.75507465e+05, -8.52937569e+04,  1.00327468e+05,\n",
       "        3.79592720e+05, -3.98362543e+05, -6.19802278e+05,  1.62137590e+05,\n",
       "       -9.95058014e+04, -2.60826582e+04, -2.41141126e+05,  6.87751576e+04,\n",
       "       -9.15432639e+01, -2.76768901e+05,  2.18934994e+05, -1.83653769e+05,\n",
       "        5.39101193e+05,  2.04282201e+05, -4.66062640e+05,  7.53866123e+04,\n",
       "        3.28748033e+04, -1.68396376e+05,  2.71320866e+04, -3.94509137e+04,\n",
       "        2.15832125e+05,  1.30558275e+05, -4.53443282e+05, -5.32824809e+04,\n",
       "       -2.18157820e+05,  1.88687187e+05, -3.02844255e+05, -1.34891325e+05,\n",
       "        8.35826331e+04,  1.80593898e+03,  5.73076450e+05, -7.99368701e+04,\n",
       "       -2.25052318e+05,  1.25158847e+05,  1.54770520e+04, -4.44148794e+04,\n",
       "        1.22858463e+05, -6.18654008e+04,  7.91450559e+04,  2.81491316e+05,\n",
       "        1.22384127e+05, -7.19559582e+03, -2.88617561e+05,  5.74168480e+04,\n",
       "       -1.37622411e+05, -4.72296147e+04, -5.11828617e+05,  2.69796752e+05,\n",
       "        1.83498704e+05, -7.49307850e+04, -3.09196006e+04, -1.76977859e+05,\n",
       "       -1.10356422e+05,  2.91628556e+05, -2.81243715e+04,  3.35330337e+05,\n",
       "        2.33833782e+03, -7.09429150e+04,  7.16969408e+03,  8.19527157e+04,\n",
       "       -5.67442683e+04,  7.36786167e+04, -5.87367528e+04, -6.83765952e+04,\n",
       "       -4.58400866e+04,  7.15481146e+04,  5.98039378e+03, -1.15991115e+05,\n",
       "        2.21739414e+05,  1.72925526e+04,  1.02805729e+05, -9.09229065e+04,\n",
       "        5.13386427e+04,  3.77073278e+04, -2.08561575e+04,  8.10767594e+04,\n",
       "        1.15402293e+05, -8.87004667e+04, -9.11495036e+04,  2.43342923e+05,\n",
       "        5.48446777e+04,  4.60562114e+04, -1.32575844e+05, -1.74371325e+05,\n",
       "       -4.02329364e+04,  1.57789041e+05, -2.59405262e+03,  7.30334166e+04,\n",
       "        9.61942398e+04,  3.28311774e+05, -3.60705062e+04, -5.45054456e+04,\n",
       "       -9.36308049e+04, -5.79257414e+04,  2.21614492e+05,  1.71508415e+05,\n",
       "        1.21452337e+05, -2.50088984e+05,  1.64090747e+05,  1.10844862e+05,\n",
       "        1.15147742e+05, -5.25652662e+04,  3.05708706e+05,  1.94967265e+05,\n",
       "        2.82444845e+04,  3.09282669e+05,  1.01510123e+06,  2.71930353e+04,\n",
       "        1.88544911e+05,  6.74034060e+04, -2.84874161e+04,  1.73177587e+05,\n",
       "        1.95495936e+04,  3.06407034e+04,  2.28544259e+04,  7.62160677e+04,\n",
       "        7.38608522e+04, -5.24076928e+04, -1.93153398e+03,  1.62935398e+05,\n",
       "        6.13133559e+03,  5.36286677e+04, -1.14281940e+05,  2.42670153e+05,\n",
       "       -7.84587573e+04, -2.08728244e+05, -1.52927723e+05, -2.29738320e+05,\n",
       "        5.38296345e+03, -4.81322005e+04, -2.84004040e+05, -7.37286836e+04,\n",
       "       -1.01675463e+05,  4.63965440e+04,  1.71445244e+04, -2.62763396e+05,\n",
       "        2.26948914e+05, -1.97770066e+04, -1.59552217e+05, -2.96350844e+05,\n",
       "       -1.04061731e+04, -4.56832534e+05, -1.04517604e+04, -2.02061817e+05,\n",
       "       -6.65446438e+04, -1.96533055e+05, -3.00585137e+04,  6.48441698e+04,\n",
       "        1.68995396e+04, -4.25540303e+05,  1.35829953e+05,  4.12385426e+05,\n",
       "        1.99660465e+05, -1.28146553e+05,  3.00359788e+04, -2.59829970e+04,\n",
       "       -1.52378221e+04,  1.48798458e+05, -3.22134501e+05, -4.87922634e+05,\n",
       "        2.90043798e+04, -5.86986830e+04,  8.60650838e+04,  6.38900757e+04,\n",
       "       -2.68915705e+05,  1.68135422e+05,  9.03992554e+04, -3.88559085e+05,\n",
       "        2.32235691e+05, -2.05483748e+04,  3.69660023e+05,  6.03351013e+04,\n",
       "        8.94686982e+04, -5.02321612e+05, -1.78342754e+05,  5.62196396e+05,\n",
       "        1.39305673e+04,  2.35472260e+05, -1.10898919e+05, -7.92224688e+04,\n",
       "        3.39909828e+04,  1.01562660e+05, -2.54983722e+05, -4.58370812e+04,\n",
       "        3.16961425e+05, -8.97564272e+04,  4.15694522e+05,  3.50084407e+05,\n",
       "        1.06118009e+05,  4.28968268e+05, -9.18641144e+04,  6.35018119e+04,\n",
       "       -6.26905092e+04, -7.09055021e+04, -4.90850617e+05, -6.32751389e+05,\n",
       "       -9.30442100e+03, -1.12192275e+05,  5.72898500e+03, -1.25407229e+05,\n",
       "        1.05801719e+05, -1.95006783e+04,  2.43714152e+05, -5.59631864e+04,\n",
       "        2.12364203e+05,  8.11037895e+04, -1.14362624e+05,  9.55601971e+04,\n",
       "       -1.05032974e+05, -1.99190985e+04,  1.56108419e+05,  1.98055584e+05,\n",
       "       -1.17686079e+05, -4.17216518e+05,  3.33019624e+05,  1.15653883e+04,\n",
       "        2.69427442e+05,  4.38464506e+04,  5.10048733e+05, -3.66726698e+04,\n",
       "       -2.02659566e+05, -1.65449552e+05, -6.46645022e+04, -1.95016958e+05,\n",
       "       -2.06266729e+04,  2.91131326e+05, -8.05023974e+04,  1.49203521e+05,\n",
       "       -1.00767034e+05,  2.57309905e+04,  2.10868451e+05,  2.91018880e+05,\n",
       "       -1.06040556e+05,  1.28630950e+05, -5.85802724e+04, -1.48473404e+05,\n",
       "        6.90406468e+04, -2.37221984e+04, -8.97416067e+04, -1.82606047e+05,\n",
       "        1.51151383e+05,  5.93569450e+04, -1.35027928e+05, -6.78851140e+04,\n",
       "       -1.33298153e+05,  2.85050639e+05,  1.20001825e+05,  5.23070980e+04,\n",
       "       -9.19469007e+04, -4.44353146e+04, -4.91121524e+05, -8.31064760e+04,\n",
       "       -1.11538128e+04, -2.74187603e+05,  1.23708025e+05, -8.07726013e+04,\n",
       "       -2.90348515e+05, -1.78363690e+05,  2.72352226e+05,  1.51686606e+05,\n",
       "       -1.24123560e+05, -1.20075500e+05,  3.92423119e+04,  3.91279409e+05,\n",
       "       -6.45078190e+05,  1.82782256e+05, -3.61678683e+04, -1.45409491e+05,\n",
       "        1.43331384e+05, -9.76214385e+04,  5.83636795e+04, -3.19258837e+04,\n",
       "        3.50159496e+05, -5.57056393e+05, -1.19927312e+05,  4.06036536e+04,\n",
       "        1.53960264e+05, -2.39611429e+05,  1.01876928e+05,  4.91992650e+04,\n",
       "        8.55308058e+04, -3.81080630e+05, -4.52824384e+04,  1.02652284e+05,\n",
       "        2.12544382e+05, -1.54737904e+05, -1.54552554e+05, -1.60313473e+05,\n",
       "        1.25664879e+05, -6.40185892e+04,  1.52349183e+05, -2.65066288e+05,\n",
       "       -1.10099247e+05, -1.58355030e+05, -1.03567277e+05, -3.11018580e+05,\n",
       "        1.05876402e+05, -4.01214283e+05,  2.83777185e+05,  9.44292098e+04,\n",
       "        2.88425362e+04, -8.43102812e+04,  2.57126636e+05, -2.68773788e+05,\n",
       "        2.44342098e+04,  6.55592741e+02, -4.14066592e+04, -3.90143706e+05,\n",
       "        2.79983049e+05,  1.73105681e+05, -1.94978881e+05, -3.60198588e+04,\n",
       "       -2.68780089e+05,  7.13394839e+04,  3.23125058e+04, -2.44279888e+05,\n",
       "       -1.59230975e+05,  3.04887908e+05,  1.35330825e+05,  1.69143459e+05,\n",
       "        1.28548041e+05,  9.25597501e+03,  3.54989941e+05,  9.69689620e+04,\n",
       "        1.44772908e+05,  1.21437249e+05, -2.67307091e+05,  3.62829048e+05,\n",
       "       -3.77893066e+04,  2.38339547e+05,  3.42498039e+05, -3.74473629e+05,\n",
       "        1.82968328e+04,  1.27006209e+04,  1.04240431e+05,  2.52702996e+05,\n",
       "       -2.37287837e+04, -7.69711170e+04, -2.15346329e+05, -5.45475802e+05,\n",
       "        3.44822132e+05,  6.52447956e+04,  2.65993317e+05, -7.20284798e+04,\n",
       "       -3.37263124e+03,  3.56308563e+04,  1.48502930e+05, -2.18449111e+04,\n",
       "        6.70385306e+04, -5.36229820e+04,  3.09854090e+05, -3.07280345e+05,\n",
       "       -1.88036580e+05,  4.53194261e+03, -2.06775998e+05, -2.82940941e+04,\n",
       "       -1.09798591e+05, -1.22433481e+05,  4.21881791e+05,  1.68351424e+05,\n",
       "        4.38331014e+02,  4.59106391e+04,  2.78579568e+04, -1.76458565e+05,\n",
       "        1.53936290e+05, -3.10248184e+05,  5.63151905e+05, -2.00831298e+04,\n",
       "        4.17770460e+04, -4.23355470e+05, -2.23226239e+05,  6.58289065e+04,\n",
       "        1.37082123e+04,  2.62467829e+05, -7.34204520e+04,  1.79991928e+05,\n",
       "        1.50105402e+04, -1.18618194e+05,  1.53546439e+05, -2.44025150e+05,\n",
       "        1.39538875e+05, -5.75936982e+05, -1.51272280e+05, -1.51214116e+05,\n",
       "       -2.15468713e+05, -2.78289304e+05,  3.98296464e+05,  1.29957689e+05,\n",
       "        2.88366172e+05, -1.01045138e+05,  7.57548721e+04, -5.78091935e+03,\n",
       "        5.65837760e+04, -2.94530687e+04, -3.18430086e+03, -1.47992877e+05,\n",
       "        1.44305831e+05,  1.48862055e+05,  2.98191540e+05, -9.28839839e+04,\n",
       "        7.30389629e+04,  1.02554006e+05, -2.87945393e+04, -1.67100140e+05,\n",
       "        8.75156663e+04,  4.12633532e+04, -1.80474415e+05,  1.14606178e+05,\n",
       "       -4.15211876e+04,  2.96419881e+05,  2.75901693e+05,  9.29670317e+04])"
      ]
     },
     "execution_count": 11,
     "metadata": {},
     "output_type": "execute_result"
    }
   ],
   "source": [
    "K_solve = K.copy()\n",
    "for i in range(K_solve.shape[0]):\n",
    "    K_solve[i,i] += 1e-8\n",
    "alphas = solve_cholesky(K_solve, Y)\n",
    "alphas"
   ]
  },
  {
   "cell_type": "code",
   "execution_count": 12,
   "id": "dea0087e-a43e-4a39-b049-4db008551927",
   "metadata": {},
   "outputs": [],
   "source": [
    "import os\n",
    "os.environ[\"OMP_NUM_THREADS\"] = \"1\""
   ]
  },
  {
   "cell_type": "code",
   "execution_count": 13,
   "id": "18418bdf-1abf-414f-9860-b6fadfe4ffd1",
   "metadata": {},
   "outputs": [
    {
     "name": "stdout",
     "output_type": "stream",
     "text": [
      "0.045360224990872666\n"
     ]
    }
   ],
   "source": [
    "t0 = time.perf_counter()\n",
    "Kt = flocal_kernel(Xt, X, Qt, Q, Nt, N, sigma)\n",
    "t1 = time.perf_counter()\n",
    "print(t1-t0)"
   ]
  },
  {
   "cell_type": "code",
   "execution_count": 14,
   "id": "80fcda47-f9a8-4f0f-9077-46f834cf8110",
   "metadata": {},
   "outputs": [],
   "source": [
    "Yp = Kt @ alphas"
   ]
  },
  {
   "cell_type": "code",
   "execution_count": 15,
   "id": "293f5599-9472-4848-9e77-e15618fde80d",
   "metadata": {},
   "outputs": [
    {
     "name": "stdout",
     "output_type": "stream",
     "text": [
      "RMSE = 0.2352648605293976\n",
      "PearsonRResult(statistic=np.float64(0.9986700458476816), pvalue=np.float64(5.129752955330032e-128))\n"
     ]
    },
    {
     "data": {
      "text/plain": [
       "<matplotlib.collections.PathCollection at 0x720434177230>"
      ]
     },
     "execution_count": 15,
     "metadata": {},
     "output_type": "execute_result"
    },
    {
     "data": {
      "image/png": "[encoded data removed]",
      "text/plain": [
       "<Figure size 600x600 with 1 Axes>"
      ]
     },
     "metadata": {},
     "output_type": "display_data"
    }
   ],
   "source": [
    "rmse = np.sqrt(np.mean(np.square(Yt - Yp)))\n",
    "res = pearsonr(Yp, Yt)\n",
    "print(f\"RMSE = {rmse}\")\n",
    "print(res)\n",
    "fig = plt.figure(figsize=(6,6))\n",
    "plt.xlabel(\"CCSD(T) Energy [kcal/mol]\")\n",
    "plt.ylabel(\"Predicted Energy [kcal/mol]\")\n",
    "plt.title(\"kernelforge cpp FHCL19 energy learning\")\n",
    "plt.scatter(Yt, Yp, s=1)"
   ]
  },
  {
   "cell_type": "code",
   "execution_count": 16,
   "id": "b0d86883-9e3c-4d84-8f5e-117f22849196",
   "metadata": {
    "scrolled": true
   },
   "outputs": [
    {
     "name": "stdout",
     "output_type": "stream",
     "text": [
      "5.183936773013556\n"
     ]
    }
   ],
   "source": [
    "os.environ[\"OMP_NUM_THREADS\"] = \"\"\n",
    "os.environ[\"MKL_NUM_THREADS\"] = \"\"\n",
    "t0 = time.perf_counter()\n",
    "\n",
    "Kd = fatomic_local_gradient_kernel(X, Xt, dXt, Q, Qt, N, Nt, sigma).T\n",
    "t1 = time.perf_counter()\n",
    "print(t1-t0)"
   ]
  },
  {
   "cell_type": "code",
   "execution_count": null,
   "id": "47a5d5a9-d227-4d98-b2a3-4b9f5a4a3025",
   "metadata": {},
   "outputs": [],
   "source": [
    "Kd.shape"
   ]
  },
  {
   "cell_type": "code",
   "execution_count": null,
   "id": "e2eae55d-7d96-4490-ad2b-ad1d3711c186",
   "metadata": {
    "scrolled": true
   },
   "outputs": [],
   "source": [
    "Yfp = Kd @ alphas\n",
    "Yfp.shape"
   ]
  },
  {
   "cell_type": "code",
   "execution_count": null,
   "id": "aceabcf4-c2da-4118-bace-889c608b668e",
   "metadata": {},
   "outputs": [],
   "source": [
    "Yft.shape"
   ]
  },
  {
   "cell_type": "code",
   "execution_count": null,
   "id": "7f1c5d68-a95a-41a4-b602-91df6054016f",
   "metadata": {},
   "outputs": [],
   "source": [
    "rmse = np.sqrt(np.mean(np.square(Yft - Yfp)))\n",
    "res = pearsonr(Yfp, Yft)\n",
    "print(f\"RMSE = {rmse}\")\n",
    "print(res)\n",
    "fig = plt.figure(figsize=(6,6))\n",
    "plt.xlabel(\"CCSD(T) Energy [kcal/mol/Å]\")\n",
    "plt.ylabel(\"Predicted Energy [kcal/mol/Å]\")\n",
    "plt.title(\"kernelforge cpp FHCL19 energy learning\")\n",
    "plt.scatter(Yft, Yfp, s=1)"
   ]
  },
  {
   "cell_type": "code",
   "execution_count": null,
   "id": "ddb8d71e-a0f5-433c-b765-dbf0be76776b",
   "metadata": {},
   "outputs": [],
   "source": []
  },
  {
   "cell_type": "code",
   "execution_count": null,
   "id": "6bd20c9e-6dca-4f84-85e4-d7e857478aa3",
   "metadata": {},
   "outputs": [],
   "source": []
  },
  {
   "cell_type": "code",
   "execution_count": null,
   "id": "4c7352d5-44e1-4bc3-8e6c-1cc0e6cd2f23",
   "metadata": {},
   "outputs": [],
   "source": []
  }
 ],
 "metadata": {
  "kernelspec": {
   "display_name": "Python 3 (ipykernel)",
   "language": "python",
   "name": "python3"
  },
  "language_info": {
   "codemirror_mode": {
    "name": "ipython",
    "version": 3
   },
   "file_extension": ".py",
   "mimetype": "text/x-python",
   "name": "python",
   "nbconvert_exporter": "python",
   "pygments_lexer": "ipython3",
   "version": "3.13.5"
  }
 },
 "nbformat": 4,
 "nbformat_minor": 5
}
