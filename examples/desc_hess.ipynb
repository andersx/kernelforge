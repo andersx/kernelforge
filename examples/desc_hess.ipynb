{
 "cells": [
  {
   "cell_type": "code",
   "execution_count": 1,
   "id": "b38bc0ab-2850-428c-9910-f3fc805d2b33",
   "metadata": {},
   "outputs": [],
   "source": [
    "import gc\n",
    "import sys\n",
    "from time import time\n",
    "\n",
    "import kernelforge\n",
    "import matplotlib.pyplot as plt\n",
    "import numpy as np\n",
    "import rdkit\n",
    "import scipy\n",
    "from kernelforge import (\n",
    "    _kernels,\n",
    "    inverse_distance_upper,\n",
    "    inverse_distance_upper_and_jacobian,\n",
    "    kernel_asymm,\n",
    "    kernel_symm,\n",
    ")\n",
    "from kernelforge._kernels import rbf_hessian_full_tiled_gemm, solve_cholesky\n",
    "from rdkit import Chem\n",
    "from rdkit.Chem import rdFMCS, rdmolops\n",
    "from scipy.stats import pearsonr\n",
    "from tqdm.notebook import tqdm"
   ]
  },
  {
   "cell_type": "code",
   "execution_count": 2,
   "id": "a3f54b10-997d-4cd2-ab6b-55990594f3d4",
   "metadata": {},
   "outputs": [],
   "source": [
    "test = np.load(\"/home/andersx/dev/laptop-qml/kitchen-sink-qml/data/ethanol_ccsd_t-test.npz\")\n"
   ]
  },
  {
   "cell_type": "code",
   "execution_count": 3,
   "id": "da8a46b3-9831-4d6d-a9c3-484950ad2e4c",
   "metadata": {},
   "outputs": [],
   "source": [
    "train = np.load(\"/home/andersx/dev/laptop-qml/kitchen-sink-qml/data/ethanol_ccsd_t-train.npz\")\n",
    "y = train[\"E\"].flatten()\n",
    "offset = y.mean()\n",
    "y -= offset"
   ]
  },
  {
   "cell_type": "code",
   "execution_count": 4,
   "id": "0b86edc5-b502-4700-afde-4a1a2828cddd",
   "metadata": {},
   "outputs": [
    {
     "data": {
      "text/plain": [
       "array([[0, 1, 2, 3, 4, 5, 6, 7, 8],\n",
       "       [0, 1, 2, 3, 4, 5, 7, 6, 8],\n",
       "       [0, 1, 2, 3, 4, 6, 5, 7, 8],\n",
       "       [0, 1, 2, 3, 4, 6, 7, 5, 8],\n",
       "       [0, 1, 2, 3, 4, 7, 5, 6, 8],\n",
       "       [0, 1, 2, 3, 4, 7, 6, 5, 8],\n",
       "       [0, 1, 2, 4, 3, 5, 6, 7, 8],\n",
       "       [0, 1, 2, 4, 3, 5, 7, 6, 8],\n",
       "       [0, 1, 2, 4, 3, 6, 5, 7, 8],\n",
       "       [0, 1, 2, 4, 3, 6, 7, 5, 8],\n",
       "       [0, 1, 2, 4, 3, 7, 5, 6, 8],\n",
       "       [0, 1, 2, 4, 3, 7, 6, 5, 8]])"
      ]
     },
     "execution_count": 4,
     "metadata": {},
     "output_type": "execute_result"
    }
   ],
   "source": [
    "perms_S3 = [\n",
    "(0, 1, 2, 3, 4, 5, 6, 7, 8),\n",
    "(0, 1, 2, 3, 4, 5, 7, 6, 8),\n",
    "(0, 1, 2, 3, 4, 6, 5, 7, 8),\n",
    "(0, 1, 2, 3, 4, 6, 7, 5, 8),\n",
    "(0, 1, 2, 3, 4, 7, 5, 6, 8),\n",
    "(0, 1, 2, 3, 4, 7, 6, 5, 8),\n",
    "(0, 1, 2, 4, 3, 5, 6, 7, 8),\n",
    "(0, 1, 2, 4, 3, 5, 7, 6, 8),\n",
    "(0, 1, 2, 4, 3, 6, 5, 7, 8),\n",
    "(0, 1, 2, 4, 3, 6, 7, 5, 8),\n",
    "(0, 1, 2, 4, 3, 7, 5, 6, 8),\n",
    "(0, 1, 2, 4, 3, 7, 6, 5, 8),\n",
    "]\n",
    "perms_S3 = np.asarray(perms_S3)\n",
    "perms_S3"
   ]
  },
  {
   "cell_type": "code",
   "execution_count": 5,
   "id": "cd936796-c100-40ea-a234-22c1fbb073f4",
   "metadata": {},
   "outputs": [],
   "source": [
    "def build_tril_perms_lin(tril_perms):\n",
    "    \"\"\"\n",
    "    tril_perms: (P,D)\n",
    "    returns: tril_perms_lin (P*D,) suitable for np.tile(...)[tril_perms_lin]\n",
    "    \"\"\"\n",
    "    P, D = tril_perms.shape\n",
    "    perm_offsets = np.arange(P)[:, None] * D\n",
    "    tril_perms_lin = (tril_perms + perm_offsets).ravel(order=\"F\")\n",
    "    return tril_perms_lin"
   ]
  },
  {
   "cell_type": "code",
   "execution_count": 6,
   "id": "4940198d-6bbd-4121-a48b-3099555ecf6e",
   "metadata": {},
   "outputs": [],
   "source": [
    "def build_tril_perms(perms):\n",
    "    \"\"\"\n",
    "    perms: (P,N) atom permutations\n",
    "    returns: tril_perms (P,D) index permutations in lower-tri order\n",
    "    \"\"\"\n",
    "    perms = np.asarray(perms, int)\n",
    "    P, N = perms.shape\n",
    "    i, j = np.tril_indices(N, k=-1)\n",
    "    pairs = np.stack((i, j), axis=1)\n",
    "    pair_to_idx = {tuple(p): k for k,p in enumerate(pairs)}\n",
    "\n",
    "    D = pairs.shape[0]\n",
    "    tril_perms = np.empty((P, D), int)\n",
    "    for pidx, perm in enumerate(perms):\n",
    "        for k, (a, b) in enumerate(pairs):\n",
    "            aa, bb = perm[a], perm[b]\n",
    "            if aa > bb:\n",
    "                key = (aa, bb)\n",
    "            else:\n",
    "                key = (bb, aa)\n",
    "            tril_perms[pidx, k] = pair_to_idx[key]\n",
    "    return tril_perms\n"
   ]
  },
  {
   "cell_type": "code",
   "execution_count": 7,
   "id": "6de79532-31f7-4b67-9b04-a0307d8ac09a",
   "metadata": {},
   "outputs": [],
   "source": [
    "def descriptor_packed_jacobian(R):\n",
    "    \"\"\"\n",
    "    R: (N,3) coordinates\n",
    "    Returns:\n",
    "      phi: (D,) inverse distances (i>j, lower-tri order)\n",
    "      r_d_desc: (D,3) packed Jacobian components\n",
    "      pairs: (D,2) index pairs (i>j)\n",
    "    \"\"\"\n",
    "    R = np.asarray(R, float)\n",
    "    N = R.shape[0]\n",
    "\n",
    "    # lower-triangular atom pairs\n",
    "    i, j = np.tril_indices(N, k=-1)\n",
    "    pairs = np.stack((i, j), axis=1)     # (D,2)\n",
    "    D = pairs.shape[0]\n",
    "\n",
    "    # pair differences and distances\n",
    "    pdiff = R[i] - R[j]                  # (D,3)\n",
    "    r = np.linalg.norm(pdiff, axis=1)    # (D,)\n",
    "    if np.any(r == 0.0):\n",
    "        raise ValueError(\"Zero interatomic distance encountered.\")\n",
    "\n",
    "    # descriptor and packed Jacobian\n",
    "    phi = 1.0 / r                        # (D,)\n",
    "    r_d_desc = pdiff / (r**3)[:, None]   # (D,3)\n",
    "\n",
    "    return phi, r_d_desc, pairs"
   ]
  },
  {
   "cell_type": "code",
   "execution_count": 8,
   "id": "95324bca-c6f8-4b87-b75d-c2893bb379af",
   "metadata": {},
   "outputs": [],
   "source": [
    "def expand_full_jacobian(r_d_desc, pairs, N):\n",
    "    \"\"\"Expand packed (D,3) to full (D,3N).\"\"\"\n",
    "    D = r_d_desc.shape[0]\n",
    "    J = np.zeros((D, 3*N), dtype=r_d_desc.dtype)\n",
    "    for k,(i,j) in enumerate(pairs):\n",
    "        g = r_d_desc[k]\n",
    "        J[k, 3*i:3*i+3] -= g\n",
    "        J[k, 3*j:3*j+3] += g\n",
    "    return J"
   ]
  },
  {
   "cell_type": "code",
   "execution_count": 9,
   "id": "310db12d-95f0-4124-8685-a7b165d00bee",
   "metadata": {},
   "outputs": [],
   "source": [
    "import numpy as np\n",
    "\n",
    "# --------- helpers on packed (D,3) + pairs (D,2) ---------\n",
    "\n",
    "def JT_v_packed(r_d_desc, pairs, v, N):\n",
    "    \"\"\"\n",
    "    Compute J^T @ v using packed rows:\n",
    "      r_d_desc[k] = g_k (3,), pairs[k]=(i>j)\n",
    "      full row k has [-g_k at atom i, +g_k at atom j], others 0.\n",
    "    \"\"\"\n",
    "    v = np.asarray(v, float)\n",
    "    out = np.zeros(3*N, dtype=float)\n",
    "    for k, (i, j) in enumerate(pairs):\n",
    "        g = r_d_desc[k]              # (3,)\n",
    "        w = v[k]\n",
    "        out[3*i:3*i+3] -= w * g\n",
    "        out[3*j:3*j+3] += w * g\n",
    "    return out  # (3N,)\n",
    "\n",
    "def accum_row_outer(H, ai, bi, aj, bj, gi, gj, coeff):\n",
    "    \"\"\"\n",
    "    Add coeff * outer(row_i, row_j) into H, where:\n",
    "      row_i has -gi at atom ai, +gi at atom bi; row_j has -gj at aj, +gj at bj.\n",
    "    gi, gj are (3,) packed components; each outer is 3x3.\n",
    "    \"\"\"\n",
    "    GiGj = np.outer(gi, gj) * coeff  # (3,3)\n",
    "\n",
    "    # block (ai, aj): (-gi) ⊗ (-gj) = +GiGj\n",
    "    H[3*ai:3*ai+3, 3*aj:3*aj+3] +=  GiGj\n",
    "    # block (ai, bj): (-gi) ⊗ (+gj) = -GiGj\n",
    "    H[3*ai:3*ai+3, 3*bj:3*bj+3] += -GiGj\n",
    "    # block (bi, aj): (+gi) ⊗ (-gj) = -GiGj\n",
    "    H[3*bi:3*bi+3, 3*aj:3*aj+3] += -GiGj\n",
    "    # block (bi, bj): (+gi) ⊗ (+gj) = +GiGj\n",
    "    H[3*bi:3*bi+3, 3*bj:3*bj+3] +=  GiGj\n",
    "\n",
    "# --------- single block: Matérn-5/2 using packed inputs ---------\n",
    "\n",
    "def matern52_block_packed(phi_i, rdi, phi_j, rdj, pairs, tril_perms, sigma, perm_norm=\"mean\"):\n",
    "    \"\"\"\n",
    "    Matérn-5/2 Hessian block H_ij (3N x 3N) using packed (D,3) Jacobians.\n",
    "\n",
    "    phi_i, phi_j : (D,)\n",
    "    rdi, rdj     : (D,3)   packed rows g_k for samples i and j (lower-tri order)\n",
    "    pairs        : (D,2)   atom index pairs (i>j) matching the row order\n",
    "    tril_perms   : (P,D)   descriptor row permutations derived from atom perms\n",
    "    sigma        : float\n",
    "    perm_norm    : \"mean\" or \"sum\"  (match your training convention)\n",
    "    \"\"\"\n",
    "    D = phi_i.size\n",
    "    N = int(np.max(pairs) + 1)\n",
    "    P = tril_perms.shape[0]\n",
    "    norm = (1.0 / P) if perm_norm == \"mean\" else 1.0\n",
    "\n",
    "    H = np.zeros((3*N, 3*N), dtype=float)\n",
    "    sqrt5 = np.sqrt(5.0)\n",
    "\n",
    "    # Precompute once for i-side (used in term A): for each perm we need J_i^T @ (a_p * d_p)\n",
    "    # We'll compute it per-permutation because weights depend on d_p.\n",
    "    for p in range(P):\n",
    "        idx = tril_perms[p]             # (D,)\n",
    "        # Permute j-side descriptor and packed rows\n",
    "        phi_jp  = phi_j[idx]            # (D,)\n",
    "        rdj_p   = rdj[idx]              # (D,3)\n",
    "        pairs_p = pairs[idx]            # (D,2) row-wise pair mapping for permuted rows\n",
    "\n",
    "        # Descriptor diff and Matérn weights\n",
    "        d = phi_i - phi_jp              # (D,)\n",
    "        r = np.linalg.norm(d)           # scalar ||d||\n",
    "        if r == 0.0:\n",
    "            # In that rare case, e^{-rho}=1, rho=0: a=25/(3σ^4), b=5/(3σ^2)\n",
    "            e = 1.0\n",
    "            rho = 0.0\n",
    "        else:\n",
    "            rho = sqrt5 * r / sigma\n",
    "            e   = np.exp(-rho)\n",
    "\n",
    "        a = (25.0 / (3.0 * sigma**4)) * e\n",
    "        b = ( 5.0 / (3.0 * sigma**2)) * (1.0 + rho) * e\n",
    "\n",
    "        # ---- term A: J_i^T [ a * ( d ⊗ (J_j^T d) )_rowwise ] = outer( a*J_i^T d , J_j^T d )\n",
    "        # Compute descriptor->Cartesian projections using packed:\n",
    "        delta_cart = JT_v_packed(rdj_p, pairs_p, d, N)        # = (J_j^T @ d)\n",
    "        s_i_cart   = JT_v_packed(rdi,   pairs,   a*d, N)      # = a * (J_i^T @ d)\n",
    "\n",
    "        H += norm * np.outer(s_i_cart, delta_cart)\n",
    "\n",
    "        # ---- term B: - b * sum_k outer(J_i_row_k, J_j_row_k^(p))\n",
    "        # Accumulate row-by-row using sparsity (two atoms per row).\n",
    "        coeff = - norm * b\n",
    "        for k in range(D):\n",
    "            ai, bi = pairs[k]\n",
    "            aj, bj = pairs_p[k]\n",
    "            gi = rdi[k]      # (3,)\n",
    "            gj = rdj_p[k]    # (3,)\n",
    "            accum_row_outer(H, ai, bi, aj, bj, gi, gj, coeff)\n",
    "\n",
    "    return H\n",
    "\n",
    "# --------- full training kernel (symmetric) with packed inputs ---------\n",
    "\n",
    "def assemble_training_kernel_matern52_packed(PHI, RD, pairs, tril_perms, sigma, perm_norm=\"sum\"):\n",
    "    \"\"\"\n",
    "    Build full symmetric training kernel K using packed Jacobians.\n",
    "\n",
    "    PHI   : (M, D)      descriptors for all M training samples\n",
    "    RD    : (M, D, 3)   packed jacobians for all samples (same row order as PHI)\n",
    "    pairs : (D, 2)      lower-tri pairs used for all samples (same topology)\n",
    "    tril_perms : (P, D) descriptor row permutations\n",
    "    sigma : float\n",
    "    perm_norm : \"mean\" or \"sum\"\n",
    "    \"\"\"\n",
    "    M, D = PHI.shape\n",
    "    N = int(np.max(pairs) + 1)\n",
    "    dim = 3 * N\n",
    "\n",
    "    K = np.zeros((M*dim, M*dim), dtype=float)\n",
    "    for j in tqdm(range(M)):\n",
    "        for i in range(j, M):\n",
    "            Hij = matern52_block_packed(PHI[i], RD[i], PHI[j], RD[j], pairs, tril_perms, sigma, perm_norm)\n",
    "            i0, i1 = i*dim, (i+1)*dim\n",
    "            j0, j1 = j*dim, (j+1)*dim\n",
    "            K[i0:i1, j0:j1] = Hij\n",
    "            if i != j:\n",
    "                K[j0:j1, i0:i1] = Hij.T\n",
    "    return K\n"
   ]
  },
  {
   "cell_type": "code",
   "execution_count": 10,
   "id": "75d5778b-b4c2-4599-83d7-2d76a36b4a1a",
   "metadata": {},
   "outputs": [],
   "source": [
    "X = np.asarray([descriptor_packed_jacobian(r)[0] for r in train[\"R\"]])\n",
    "dX = np.asarray([descriptor_packed_jacobian(r)[1] for r in train[\"R\"]])\n",
    "pairs = descriptor_packed_jacobian(train[\"R\"][0])[2]"
   ]
  },
  {
   "cell_type": "code",
   "execution_count": 11,
   "id": "4eff3932-8fd2-49e0-8f19-c0fe1d1c4713",
   "metadata": {},
   "outputs": [],
   "source": [
    "Xp = np.asarray([descriptor_packed_jacobian(r)[0] for r in test[\"R\"]])\n",
    "dXp = np.asarray([descriptor_packed_jacobian(r)[1] for r in test[\"R\"]])"
   ]
  },
  {
   "cell_type": "code",
   "execution_count": 12,
   "id": "44ab231e-cad3-4929-b8c3-08dabae1e581",
   "metadata": {},
   "outputs": [],
   "source": [
    "tril_perms = build_tril_perms(perms_S3)\n",
    "tril_perms_lin = build_tril_perms_lin(tril_perms)"
   ]
  },
  {
   "cell_type": "code",
   "execution_count": 137,
   "id": "89dc9405-d327-4493-8e82-053abcfa9afd",
   "metadata": {},
   "outputs": [],
   "source": []
  },
  {
   "cell_type": "code",
   "execution_count": 211,
   "id": "e086f3d2-9a52-4bc7-bb71-b3582368df00",
   "metadata": {
    "scrolled": true
   },
   "outputs": [
    {
     "data": {
      "application/vnd.jupyter.widget-view+json": {
       "model_id": "6d7c18bfd5b046469ce35edb0a2dff1c",
       "version_major": 2,
       "version_minor": 0
      },
      "text/plain": [
       "  0%|          | 0/200 [00:00<?, ?it/s]"
      ]
     },
     "metadata": {},
     "output_type": "display_data"
    },
    {
     "data": {
      "text/plain": [
       "array([[-7.95858947e-02, -5.23904752e-03,  1.25270362e-03,  2.59059248e-02,  1.74214242e-02,  5.95743448e-04,  3.00407736e-02, -2.49537202e-02,  1.36127951e-03,  1.95560960e-04,  2.36406283e-03, -2.87522752e-03,  1.98776787e-06,  2.17574400e-03,  3.01793785e-03,  5.72619033e-03,  1.03473656e-03,  1.47438354e-04,  3.21470902e-03,  5.77343805e-03,  2.73983906e-03,  4.34505810e-03,  4.83991616e-03, -3.34797582e-03,  1.01556901e-02, -3.41655412e-03, -2.89173850e-03],\n",
       "       [-5.23904752e-03, -1.48166413e-01, -3.13721629e-03,  1.74202793e-02,  1.17191281e-02,  4.02507366e-04, -2.49542765e-02,  2.07281446e-02, -1.13081337e-03,  4.49795897e-03,  5.43376442e-02, -6.60891906e-02,  4.16209758e-05,  5.00200212e-02,  6.93871727e-02,  5.01849239e-03,  9.05844269e-04,  1.29923073e-04,  2.82170802e-03,  5.06168855e-03,  2.40146459e-03,  3.81006982e-03,  4.24457632e-03, -2.93654155e-03, -3.41680547e-03,  1.14936591e-03,  9.72694075e-04],\n",
       "       [ 1.25270362e-03, -3.13721629e-03, -1.04187656e-03,  5.95617820e-04,  4.01727621e-04,  1.32713498e-05,  1.36126400e-03, -1.13074611e-03,  6.16978802e-05,  1.41405785e-04,  1.70866206e-03, -2.07814576e-03,  1.33814017e-06,  1.58926962e-03,  2.20451046e-03, -1.98004439e-04, -3.64418364e-05, -5.12882665e-06, -1.11256231e-04, -1.99586313e-04, -9.50926233e-05, -1.51243943e-04, -1.68535440e-04,  1.17299558e-04, -2.89182476e-03,  9.72866676e-04,  8.23464528e-04],\n",
       "       [ 2.59059248e-02,  1.74202793e-02,  5.95617820e-04, -5.94704171e-02, -4.42591311e-02,  8.16083425e-03,  6.60929779e-03, -1.49842368e-04,  2.18376128e-04,  3.20141242e-03,  3.74022565e-03, -1.97653673e-03,  3.19064462e-03,  3.76442267e-03,  2.32095513e-03,  2.82680900e-02, -1.30483876e-02,  8.34038337e-04, -7.90847313e-03,  1.84583075e-02,  1.73772946e-02, -1.76238932e-03,  1.39307939e-02, -2.72145718e-02,  1.96590993e-03,  1.43331984e-04, -3.16007746e-04],\n",
       "       [ 1.74214242e-02,  1.17191281e-02,  4.01727621e-04, -4.42591311e-02, -4.08794127e-02,  8.59629818e-03, -1.45195292e-04,  5.40270209e-06, -3.19467560e-06,  3.75586492e-03,  4.39334182e-03, -2.31989634e-03,  3.75124537e-03,  4.42295609e-03,  2.72263884e-03,  2.94949996e-02, -1.36100683e-02,  8.64719966e-04, -8.32079737e-03,  1.93669220e-02,  1.82324259e-02, -1.84359204e-03,  1.45708284e-02, -2.84730437e-02,  1.45181713e-04,  1.09019404e-05, -2.16758413e-05],\n",
       "       [ 5.95743448e-04,  4.02507366e-04,  1.32713498e-05,  8.16083425e-03,  8.59629818e-03, -4.48327422e-03,  2.22476663e-04, -2.99768443e-06,  8.05634776e-06,  1.69663401e-04,  2.01461471e-04, -1.05478214e-04,  1.74818621e-04,  2.04292680e-04,  1.23144952e-04, -1.36914004e-02,  6.32101133e-03, -4.08875408e-04,  3.82439684e-03, -8.93278406e-03, -8.40943711e-03,  8.56274029e-04, -6.76708902e-03,  1.32106576e-02, -3.12806818e-04, -2.27002560e-05,  5.19346940e-05],\n",
       "       [ 3.00407736e-02, -2.49542765e-02,  1.36126400e-03,  6.60929779e-03, -1.45195292e-04,  2.22476663e-04, -1.73643079e-01, -1.29143163e-02,  8.89034067e-02,  2.63833979e-03, -4.09559592e-03,  2.29305421e-03,  2.92362741e-03, -4.15715884e-03, -2.26249642e-03,  2.37813927e-03, -3.58429621e-04,  7.71516717e-05,  4.48757355e-03,  1.67343104e-03,  1.86086222e-03,  4.02423011e-03,  7.68829174e-04, -1.54345211e-03,  1.20541097e-01,  4.41827122e-02, -9.09122670e-02],\n",
       "       [-2.49537202e-02,  2.07281446e-02, -1.13074611e-03, -1.49842368e-04,  5.40270209e-06, -2.99768443e-06, -1.29143163e-02, -4.95700341e-02,  3.44271627e-02, -3.91370314e-03,  6.07627480e-03, -3.40244088e-03, -4.33878352e-03,  6.16729834e-03,  3.35743161e-03,  4.55685651e-04, -6.92192495e-05,  1.52461625e-05,  8.61380383e-04,  3.19531198e-04,  3.55489658e-04,  7.70779323e-04,  1.48080086e-04, -2.96379504e-04,  4.41825201e-02,  1.61945216e-02, -3.33227660e-02],\n",
       "       [ 1.36127951e-03, -1.13081337e-03,  6.16978802e-05,  2.18376128e-04, -3.19467560e-06,  8.05634776e-06,  8.89034067e-02,  3.44271627e-02, -6.86500386e-02,  1.47155690e-05, -2.28306015e-05,  1.27645525e-05,  1.55828191e-05, -2.23536929e-05, -1.20907651e-05,  8.80452522e-05, -1.39443425e-05,  3.19341834e-06,  1.64666772e-04,  6.01960388e-05,  6.66618097e-05,  1.46040081e-04,  2.83845935e-05, -5.58171339e-05, -9.09121129e-02, -3.33226067e-02,  6.85655725e-02],\n",
       "       [ 1.95560960e-04,  4.49795897e-03,  1.41405785e-04,  3.20141242e-03,  3.75586492e-03,  1.69663401e-04,  2.63833979e-03, -3.91370314e-03,  1.47155690e-05, -7.37374119e-03, -2.58990543e-03,  3.90530218e-03, -6.50670453e-03, -3.29773846e-03, -3.45389844e-03,  1.88154193e-03,  8.91841391e-04,  7.29758383e-05,  7.26405472e-04,  1.77362554e-03,  4.59371854e-04,  1.11733725e-03,  1.82712806e-03, -5.41175173e-04,  4.11984789e-03, -2.94507186e-03, -7.68361017e-04],\n",
       "       [ 2.36406283e-03,  5.43376442e-02,  1.70866206e-03,  3.74022565e-03,  4.39334182e-03,  2.01461471e-04, -4.09559592e-03,  6.07627480e-03, -2.28306015e-05, -2.58990543e-03, -3.75054934e-02,  3.93395764e-02, -9.20640249e-04, -3.49238053e-02, -4.17781973e-02,  2.28534000e-03,  1.08236586e-03,  8.97239092e-05,  8.85695421e-04,  2.15347001e-03,  5.56547553e-04,  1.35804460e-03,  2.22213484e-03, -6.59766890e-04, -3.02722690e-03,  2.16406703e-03,  5.64823489e-04],\n",
       "       [-2.87522752e-03, -6.60891906e-02, -2.07814576e-03, -1.97653673e-03, -2.31989634e-03, -1.05478214e-04,  2.29305421e-03, -3.40244088e-03,  1.27645525e-05,  3.90530218e-03,  3.93395764e-02, -6.61789546e-02, -2.42956996e-04,  3.52071504e-02,  6.84816307e-02, -9.26636480e-04, -4.39103732e-04, -3.61177041e-05, -3.58019722e-04, -8.73054607e-04, -2.26042226e-04, -5.50308017e-04, -9.00161230e-04,  2.66933970e-04,  7.31329073e-04, -5.22879358e-04, -1.36590743e-04],\n",
       "       [ 1.98776787e-06,  4.16209758e-05,  1.33814017e-06,  3.19064462e-03,  3.75124537e-03,  1.74818621e-04,  2.92362741e-03, -4.33878352e-03,  1.55828191e-05, -6.50670453e-03, -9.20640249e-04, -2.42956996e-04, -6.31393597e-03, -1.63422594e-03,  5.49529368e-04,  2.07538272e-03,  9.82368449e-04,  8.23245615e-05,  8.05468086e-04,  1.95236227e-03,  5.03960560e-04,  1.23276178e-03,  2.01840875e-03, -6.00199136e-04,  2.59076811e-03, -1.85235610e-03, -4.84397938e-04],\n",
       "       [ 2.17574400e-03,  5.00200212e-02,  1.58926962e-03,  3.76442267e-03,  4.42295609e-03,  2.04292680e-04, -4.15715884e-03,  6.16729834e-03, -2.23536929e-05, -3.29773846e-03, -3.49238053e-02,  3.52071504e-02, -1.63422594e-03, -3.28791119e-02, -3.72937545e-02,  2.48212298e-03,  1.17535740e-03,  9.79283295e-05,  9.62265232e-04,  2.33763682e-03,  6.04017592e-04,  1.47503466e-03,  2.41410568e-03, -7.16938285e-04, -1.77046630e-03,  1.26554162e-03,  3.30387834e-04],\n",
       "       [ 3.01793785e-03,  6.93871727e-02,  2.20451046e-03,  2.32095513e-03,  2.72263884e-03,  1.23144952e-04, -2.26249642e-03,  3.35743161e-03, -1.20907651e-05, -3.45389844e-03, -4.17781973e-02,  6.84816307e-02,  5.49529368e-04, -3.72937545e-02, -7.11646682e-02,  9.15331725e-04,  4.34047095e-04,  3.54016165e-05,  3.52898437e-04,  8.63624902e-04,  2.24125726e-04,  5.43666166e-04,  8.88608561e-04, -2.62829941e-04, -1.98392382e-03,  1.41842812e-03,  3.70775481e-04],\n",
       "       [ 5.72619033e-03,  5.01849239e-03, -1.98004439e-04,  2.82680900e-02,  2.94949996e-02, -1.36914004e-02,  2.37813927e-03,  4.55685651e-04,  8.80452522e-05,  1.88154193e-03,  2.28534000e-03, -9.26636480e-04,  2.07538272e-03,  2.48212298e-03,  9.15331725e-04, -5.82468880e-02,  2.78384191e-02, -4.02382032e-03,  1.44472774e-02, -3.88851705e-02, -3.92803993e-02,  2.52507898e-03, -2.89023519e-02,  5.72435222e-02,  9.45187336e-04,  2.12462680e-04, -1.26638273e-04],\n",
       "       [ 1.03473656e-03,  9.05844269e-04, -3.64418364e-05, -1.30483876e-02, -1.36100683e-02,  6.32101133e-03, -3.58429621e-04, -6.92192495e-05, -1.39443425e-05,  8.91841391e-04,  1.08236586e-03, -4.39103732e-04,  9.82368449e-04,  1.17535740e-03,  4.34047095e-04,  2.78384191e-02, -1.83229306e-02,  2.97502691e-03, -1.15215477e-02,  1.71446578e-02,  2.17546496e-02, -5.76776801e-03,  1.17055556e-02, -3.10015850e-02, -5.12325633e-05, -1.15627169e-05,  6.34004841e-06],\n",
       "       [ 1.47438354e-04,  1.29923073e-04, -5.12882665e-06,  8.34038337e-04,  8.64719966e-04, -4.08875408e-04,  7.71516717e-05,  1.52461625e-05,  3.19341834e-06,  7.29758383e-05,  8.97239092e-05, -3.61177041e-05,  8.23245615e-05,  9.79283295e-05,  3.54016165e-05, -4.02382032e-03,  2.97502691e-03, -7.38544442e-04,  1.85820493e-03, -2.49214777e-03, -3.63582488e-03,  1.05978526e-03, -1.65607654e-03,  4.77071121e-03, -1.08098628e-04, -2.43440352e-05,  1.51850213e-05],\n",
       "       [ 3.21470902e-03,  2.82170802e-03, -1.11256231e-04, -7.90847313e-03, -8.32079737e-03,  3.82439684e-03,  4.48757355e-03,  8.61380383e-04,  1.64666772e-04,  7.26405472e-04,  8.85695421e-04, -3.58019722e-04,  8.05468086e-04,  9.62265232e-04,  3.52898437e-04,  1.44472774e-02, -1.15215477e-02,  1.85820493e-03, -1.06213885e-02,  8.30358595e-03,  1.21116501e-02, -6.86524833e-03,  5.62238133e-03, -1.76138012e-02,  1.71367639e-03,  3.85328766e-04, -2.28739956e-04],\n",
       "       [ 5.77343805e-03,  5.06168855e-03, -1.99586313e-04,  1.84583075e-02,  1.93669220e-02, -8.93278406e-03,  1.67343104e-03,  3.19531198e-04,  6.01960388e-05,  1.77362554e-03,  2.15347001e-03, -8.73054607e-04,  1.95236227e-03,  2.33763682e-03,  8.63624902e-04, -3.88851705e-02,  1.71446578e-02, -2.49214777e-03,  8.30358595e-03, -2.65382933e-02, -2.55966292e-02,  3.15430288e-04, -1.99884570e-02,  3.72570531e-02,  6.34989839e-04,  1.42843937e-04, -8.66721642e-05],\n",
       "       [ 2.73983906e-03,  2.40146459e-03, -9.50926233e-05,  1.73772946e-02,  1.82324259e-02, -8.40943711e-03,  1.86086222e-03,  3.55489658e-04,  6.66618097e-05,  4.59371854e-04,  5.56547553e-04, -2.26042226e-04,  5.03960560e-04,  6.04017592e-04,  2.24125726e-04, -3.92803993e-02,  2.17546496e-02, -3.63582488e-03,  1.21116501e-02, -2.55966292e-02, -2.87801149e-02,  4.06963287e-03, -1.83434536e-02,  4.08781275e-02,  1.57787975e-04,  3.54878520e-05, -2.24032857e-05],\n",
       "       [ 4.34505810e-03,  3.81006982e-03, -1.51243943e-04, -1.76238932e-03, -1.84359204e-03,  8.56274029e-04,  4.02423011e-03,  7.70779323e-04,  1.46040081e-04,  1.11733725e-03,  1.35804460e-03, -5.50308017e-04,  1.23276178e-03,  1.47503466e-03,  5.43666166e-04,  2.52507898e-03, -5.76776801e-03,  1.05978526e-03, -6.86524833e-03,  3.15430288e-04,  4.06963287e-03, -5.80995867e-03, -3.86144840e-04, -5.81335643e-03,  1.19313010e-03,  2.68146202e-04, -1.60490013e-04],\n",
       "       [ 4.83991616e-03,  4.24457632e-03, -1.68535440e-04,  1.39307939e-02,  1.45708284e-02, -6.76708902e-03,  7.68829174e-04,  1.48080086e-04,  2.83845935e-05,  1.82712806e-03,  2.22213484e-03, -9.00161230e-04,  2.01840875e-03,  2.41410568e-03,  8.88608561e-04, -2.89023519e-02,  1.17055556e-02, -1.65607654e-03,  5.62238133e-03, -1.99884570e-02, -1.83434536e-02, -3.86144840e-04, -1.53798723e-02,  2.69549569e-02,  2.81039343e-04,  6.30483158e-05, -3.66342412e-05],\n",
       "       [-3.34797582e-03, -2.93654155e-03,  1.17299558e-04, -2.72145718e-02, -2.84730437e-02,  1.32106576e-02, -1.54345211e-03, -2.96379504e-04, -5.58171339e-05, -5.41175173e-04, -6.59766890e-04,  2.66933970e-04, -6.00199136e-04, -7.16938285e-04, -2.62829941e-04,  5.72435222e-02, -3.10015850e-02,  4.77071121e-03, -1.76138012e-02,  3.72570531e-02,  4.08781275e-02, -5.81335643e-03,  2.69549569e-02, -5.90004994e-02, -5.68990584e-04, -1.27755096e-04,  7.54165830e-05],\n",
       "       [ 1.01556901e-02, -3.41680547e-03, -2.89182476e-03,  1.96590993e-03,  1.45181713e-04, -3.12806818e-04,  1.20541097e-01,  4.41825201e-02, -9.09121129e-02,  4.11984789e-03, -3.02722690e-03,  7.31329073e-04,  2.59076811e-03, -1.77046630e-03, -1.98392382e-03,  9.45187336e-04, -5.12325633e-05, -1.08098628e-04,  1.71367639e-03,  6.34989839e-04,  1.57787975e-04,  1.19313010e-03,  2.81039343e-04, -5.68990584e-04, -1.43225307e-01, -3.69779998e-02,  9.58886404e-02],\n",
       "       [-3.41655412e-03,  1.14936591e-03,  9.72866676e-04,  1.43331984e-04,  1.09019404e-05, -2.27002560e-05,  4.41827122e-02,  1.61945216e-02, -3.33226067e-02, -2.94507186e-03,  2.16406703e-03, -5.22879358e-04, -1.85235610e-03,  1.26554162e-03,  1.41842812e-03,  2.12462680e-04, -1.15627169e-05, -2.43440352e-05,  3.85328766e-04,  1.42843937e-04,  3.54878520e-05,  2.68146202e-04,  6.30483158e-05, -1.27755096e-04, -3.69779998e-02, -2.09787277e-02,  3.15935028e-02],\n",
       "       [-2.89173850e-03,  9.72694075e-04,  8.23464528e-04, -3.16007746e-04, -2.16758413e-05,  5.19346940e-05, -9.09122670e-02, -3.33227660e-02,  6.85655725e-02, -7.68361017e-04,  5.64823489e-04, -1.36590743e-04, -4.84397938e-04,  3.30387834e-04,  3.70775481e-04, -1.26638273e-04,  6.34004841e-06,  1.51850213e-05, -2.28739956e-04, -8.66721642e-05, -2.24032857e-05, -1.60490013e-04, -3.66342412e-05,  7.54165830e-05,  9.58886404e-02,  3.15935028e-02, -6.97433548e-02]])"
      ]
     },
     "execution_count": 211,
     "metadata": {},
     "output_type": "execute_result"
    }
   ],
   "source": [
    "np.set_printoptions(threshold=np.inf, linewidth=999)\n",
    "sigma_matern = 10.0\n",
    "n_train = 200\n",
    "K = assemble_training_kernel_matern52_packed(X[:n_train], dX[:n_train], pairs, tril_perms, sigma_matern)\n",
    "K[:27, :27]"
   ]
  },
  {
   "cell_type": "code",
   "execution_count": 212,
   "id": "4f8cf39c-1445-4540-858d-5baff62553dc",
   "metadata": {
    "scrolled": true
   },
   "outputs": [
    {
     "name": "stdout",
     "output_type": "stream",
     "text": [
      "DID CHOLESKY\n"
     ]
    },
    {
     "data": {
      "text/plain": [
       "array([  887053.66149203,  -982645.19878232,   334491.04663856, -1154620.68151868,  -163856.50787808, -1236998.90471502,   -84749.93232213,  -886110.26699082,  -344871.40553062, -3894863.55869422,   981146.41878548,  1657742.88325783,  3760994.52302893,  1589822.72381512, -1109501.45963568, -1579124.03909631, -1805304.4539768 ,  -234989.10308907,  -958377.01750715,   -93855.48362923, -1144014.20556498,  1011794.50805131,  1821558.77216695,  -222872.76290968,  2011832.87866461,  -460761.05474008,  2301039.81267467,   373185.06547342, -1827319.10698421,  -573847.54180635,  2359598.48943182,  1354535.17051761,  -664572.30280439, -4247471.88530705,  6446787.35383825,  7813131.32777728,   875671.8397279 , -5019075.49156165, -5028220.58482769, -3040589.91013316,   -35296.20643036, -1421466.29216323,  5344861.36654864, -1415394.56876582,  4858209.98850622,  1126707.1014065 ,  5390908.93213011, -6425815.99976636, -4067375.38259386, -2207774.14467773,  -663294.4398243 ,  1275522.72289712,\n",
       "       -2687500.66219079,  2105941.2011871 ])"
      ]
     },
     "execution_count": 212,
     "metadata": {},
     "output_type": "execute_result"
    }
   ],
   "source": [
    "K_solve = -K.copy()\n",
    "yf = -train[\"F\"][:n_train].flatten()\n",
    "y_std = np.std(yf)\n",
    "yf /= y_std\n",
    "# print(yf)\n",
    "K_solve[np.diag_indices_from(K_solve)] += 1e-10\n",
    "# Cholesky (do not overwrite K in case we need to retry)\n",
    "L, lower = scipy.linalg.cho_factor(\n",
    "    K_solve, overwrite_a=False, check_finite=False\n",
    ")\n",
    "alphas = -scipy.linalg.cho_solve(\n",
    "    (L, lower), yf, overwrite_b=False, check_finite=False\n",
    ")\n",
    "print(\"DID CHOLESKY\")\n",
    "# alpha = np.linalg.solve(K_solve, yf)\n",
    "alpha = solve_cholesky(K_solve, yf)\n",
    "alpha[:54]"
   ]
  },
  {
   "cell_type": "code",
   "execution_count": 213,
   "id": "d825f3a5-a803-4cfc-b27e-e99bfd30552a",
   "metadata": {},
   "outputs": [
    {
     "data": {
      "text/plain": [
       "array([  -19524.29065305,    13149.88994697,    -5382.02003472,    12287.05846269,    -6159.44892852,   -15975.02101245,    11360.32217523,   104518.88544569,   403969.53097432,    78721.00313549,  -314639.45589901,  -286865.23648502,  -113013.7119749 ,   363140.34606438,  -273979.55471953,   -47158.80614188,  -130566.6859009 ,   671048.43996149,  -239353.16131145,   456743.34096978,  -623433.98460095,   278444.62463401,  -296194.48102424,  -164323.32230787,    38185.5537149 ,  -189992.59631467,   294889.71972673,   -32945.36838359,   -82579.58238883,  -285363.3672297 ,   -68758.10669098,  -114304.625843  ,  -182516.23881731,   -89421.03663112,   -60414.23268011,   906072.75977986,  -287445.26030395,  -600091.41523378,  -645252.88074846,   239328.59918895,   528236.83054351,  -785498.2556763 ,   412629.85886538,   444600.00779671,  1683417.86571699,   738901.19676972,   863211.37828253, -1609875.08160458, -1190153.47926019, -1380267.18127386,  -245384.80056353,   277967.43574084,\n",
       "         401556.39909182,  1164400.58226325])"
      ]
     },
     "execution_count": 213,
     "metadata": {},
     "output_type": "execute_result"
    }
   ],
   "source": [
    "np.asarray([-19524.290653052165, 13149.88994697071, -5382.020034720166, 12287.058462689194, -6159.448928517929, -15975.021012450356, 11360.322175228057, 104518.88544569373, 403969.5309743163, 78721.00313549452, -314639.45589901006, -286865.23648502136, -113013.71197489995, 363140.3460643816, -273979.55471952975, -47158.8061418849, -130566.685900902, 671048.4399614931, -239353.16131145362, 456743.3409697777, -623433.984600948, 278444.6246340134, -296194.48102423904, -164323.3223078711, 38185.5537149039, -189992.59631467413, 294889.71972672996, -32945.36838358819, -82579.58238882862, -285363.3672296998, -68758.1066909802, -114304.62584299693, -182516.238817309, -89421.03663112372, -60414.23268010538, 906072.7597798583, -287445.2603039505, -600091.4152337778, -645252.8807484577, 239328.59918895294, 528236.8305435141, -785498.2556763021, 412629.8588653789, 444600.0077967052, 1683417.865716988, 738901.1967697173, 863211.3782825317, -1609875.0816045767, -1190153.4792601939, -1380267.1812738567, -245384.80056353196, 277967.4357408354, 401556.39909181773, 1164400.582263253])\n"
   ]
  },
  {
   "cell_type": "code",
   "execution_count": 214,
   "id": "c5610f94-c513-49e7-9868-36a4bd04f8f6",
   "metadata": {},
   "outputs": [],
   "source": [
    "def pack_alphas(PHI, RD, pairs, alphas):\n",
    "    \"\"\"\n",
    "    Contract alphas (Cartesian) into descriptor space.\n",
    "    \n",
    "    Parameters\n",
    "    ----------\n",
    "    PHI    : (M,D) descriptor array (not used, just to get sizes)\n",
    "    RD     : (M,D,3) packed Jacobians for each sample\n",
    "    pairs  : (D,2) atom index pairs\n",
    "    alphas : (M*3N,) regression weights in Cartesian space\n",
    "    \n",
    "    Returns\n",
    "    -------\n",
    "    RD_ALPHA : (M,D) each row is J_m @ alpha_m\n",
    "    \"\"\"\n",
    "    M, D, _ = RD.shape\n",
    "    N = int(np.max(pairs) + 1)\n",
    "    dim = 3 * N\n",
    "    alphas = alphas.reshape(M, dim)\n",
    "\n",
    "    RD_ALPHA = np.zeros((M, D))\n",
    "    for m in range(M):\n",
    "        v = np.zeros(D)\n",
    "        for k, (i, j) in enumerate(pairs):\n",
    "            g = RD[m, k]        # (3,)\n",
    "            # contribution from atoms i,j\n",
    "            v[k] = (-g @ alphas[m, 3*i:3*i+3]) + (g @ alphas[m, 3*j:3*j+3])\n",
    "        RD_ALPHA[m] = v\n",
    "    return RD_ALPHA"
   ]
  },
  {
   "cell_type": "code",
   "execution_count": 215,
   "id": "14a8e383-def5-46b6-b73e-afa762e74178",
   "metadata": {},
   "outputs": [],
   "source": [
    "import numpy as np\n",
    "\n",
    "# --- packed projection: J^T @ v (v in descriptor space) ---\n",
    "def JT_v_packed(r_d_desc, pairs, v, N):\n",
    "    out = np.zeros(3*N, dtype=float)\n",
    "    for k,(i,j) in enumerate(pairs):\n",
    "        g = r_d_desc[k]  # (3,)\n",
    "        w = v[k]\n",
    "        out[3*i:3*i+3] -= w * g\n",
    "        out[3*j:3*j+3] += w * g\n",
    "    return out\n",
    "\n",
    "def predict_matern52_packed_simple(\n",
    "    phi_q, rd_q, pairs,              # query: (D,), (D,3), (D,2)\n",
    "    PHI, RD_ALPHA,                   # training banks: (M,D), (M,D) with RD_ALPHA[m] = J_m @ alpha_m\n",
    "    tril_perms,                      # (P,D) descriptor row permutations (from atom perms)\n",
    "    sigma, std=1.0, c=0.0,           # model scale & energy offset\n",
    "    return_energy=True\n",
    "):\n",
    "    \"\"\"\n",
    "    Returns (E, F) or (F,) for the query geometry.\n",
    "    Mirrors sGDML _predict_wkr algebra (Matérn-5/2), but in a small function.\n",
    "    \"\"\"\n",
    "    phi_q   = np.asarray(phi_q,   float)   # (D,)\n",
    "    rd_q    = np.asarray(rd_q,    float)   # (D,3)\n",
    "    PHI     = np.asarray(PHI,     float)   # (M,D)\n",
    "    RD_ALPHA= np.asarray(RD_ALPHA,float)   # (M,D)\n",
    "    tril    = np.asarray(tril_perms, int)  # (P,D)\n",
    "\n",
    "    D = phi_q.size\n",
    "    N = int(np.max(pairs) + 1)\n",
    "    sqrt5 = np.sqrt(5.0)\n",
    "\n",
    "    # descriptor-space accumulator and energy (pre-scale, like _predict_wkr)\n",
    "    F_desc = np.zeros(D, dtype=float)\n",
    "    E_pred = 0.0\n",
    "\n",
    "    sig_inv = 1.0 / sigma\n",
    "    mat52_base_fact = 5.0 / (3.0 * sigma**3)   # exactly as in the official code\n",
    "    diag_scale_fact = 5.0 / sigma\n",
    "\n",
    "    for j in range(PHI.shape[0]):\n",
    "        # Permute training sample j across all P perms (vectorized)\n",
    "        phi_j_perm  = PHI[j][tril]        # (P,D)\n",
    "        rda_j_perm  = RD_ALPHA[j][tril]   # (P,D) == (J_j^(p) @ alpha_j)\n",
    "\n",
    "        # Differences and norms\n",
    "        diff = phi_q[None, :] - phi_j_perm                # (P,D)\n",
    "        norm_ab = sqrt5 * np.linalg.norm(diff, axis=1)    # (P,)  == σ * ρ\n",
    "\n",
    "        # mat52_base starts as exp(-ρ) * 5/(3σ^3)\n",
    "        mat52_base = np.exp(-norm_ab * sig_inv) * mat52_base_fact  # (P,)\n",
    "\n",
    "        # a_x2 = (d · (J_j^(p) α_j)) per perm\n",
    "        a_x2 = np.einsum('pd,pd->p', diff, rda_j_perm)             # (P,)\n",
    "\n",
    "        # First term: F_desc += (a_x2 * mat52_base).dot(diff) * diag_scale_fact\n",
    "        F_desc += (a_x2 * mat52_base).dot(diff) * diag_scale_fact  # (D,)\n",
    "\n",
    "        # Scale base for second term: mat52_base *= (norm_ab + sigma)\n",
    "        mat52_base *= (norm_ab + sigma)                            # now = b(ρ)\n",
    "\n",
    "        # Second term: F_desc -= mat52_base.dot(rda_j_perm)\n",
    "        F_desc -= mat52_base.dot(rda_j_perm)                       # (D,)\n",
    "\n",
    "        # Energy accumulates with the same (scaled) base:\n",
    "        E_pred += a_x2.dot(mat52_base)\n",
    "\n",
    "    # Project to Cartesian: F = J_q^T @ F_desc  (packed)\n",
    "    F = JT_v_packed(rd_q, pairs, F_desc, N)\n",
    "\n",
    "    # Final scaling & energy offset, exactly like sGDML\n",
    "    F *= std\n",
    "    E = E_pred * std + c\n",
    "    return E, F"
   ]
  },
  {
   "cell_type": "code",
   "execution_count": null,
   "id": "04f1be71-488f-4aae-838b-e4ad57d4996c",
   "metadata": {},
   "outputs": [],
   "source": []
  },
  {
   "cell_type": "code",
   "execution_count": 231,
   "id": "0bf24043-1468-4864-a460-4db1b74a413a",
   "metadata": {},
   "outputs": [
    {
     "data": {
      "text/plain": [
       "array([ 46.70084102,  -4.71427145,  -7.35009637,   1.48889283,  70.87743229, -12.88632947,   9.02280103,  32.49164526,  74.86983422, -34.54393258,  10.79639648, -20.76663651,  -5.03187566, -24.35643806,  -6.49755499, -31.65767316, -28.64729116,  31.63133282,  -2.68878095, -22.06481959,   8.45487893,   5.34283925,  -2.01953351, -11.7828874 ,  11.36688823, -32.36312027, -55.67254122])"
      ]
     },
     "execution_count": 231,
     "metadata": {},
     "output_type": "execute_result"
    }
   ],
   "source": [
    "pd_alphas = pack_alphas(X[:n_train], dX[:n_train], pairs, alphas)\n",
    "idx_test = 1\n",
    "fp = predict_matern52_packed_simple(\n",
    "    Xp[idx_test], dXp[idx_test], pairs,            # query: (D,), (D,3), (D,2)\n",
    "    X[:n_train], pd_alphas,                 # training: (M,D), (M,D) where RD_ALPHA[m] = (J_m @ alpha_m)\n",
    "    tril_perms,                    # (P,D) descriptor row permutations\n",
    "    sigma_matern,                         # scalar\n",
    "    return_energy=False\n",
    ")[1] * y_std\n",
    "fp"
   ]
  },
  {
   "cell_type": "code",
   "execution_count": 232,
   "id": "13ce0b03-122b-4fc3-9eef-3a72ab9898d3",
   "metadata": {},
   "outputs": [
    {
     "data": {
      "text/plain": [
       "(27,)"
      ]
     },
     "execution_count": 232,
     "metadata": {},
     "output_type": "execute_result"
    }
   ],
   "source": [
    "fp.shape"
   ]
  },
  {
   "cell_type": "code",
   "execution_count": 233,
   "id": "58017fe8-511d-4780-9f2f-51889230dcad",
   "metadata": {},
   "outputs": [
    {
     "data": {
      "text/plain": [
       "array([ 46.91837923,  -3.73109559,  -5.94115822,   0.61561766,  72.42908142, -11.67441359,   9.22106886,  32.09283234,  75.64856807, -34.57462118,  10.50739625, -21.64424784,  -4.18701497, -26.3018366 ,  -7.9454866 , -30.84474   , -29.022508  ,  31.95702315,  -2.79564777, -22.39369865,   7.6387786 ,   5.07544835,  -2.40971674, -12.61999033,  10.57150982, -31.17045454, -55.41907336])"
      ]
     },
     "execution_count": 233,
     "metadata": {},
     "output_type": "execute_result"
    }
   ],
   "source": [
    "ft = -test[\"F\"][idx_test].flatten()\n",
    "ft"
   ]
  },
  {
   "cell_type": "code",
   "execution_count": 234,
   "id": "84c4c96b-f031-4c67-aeb8-8f44081681b1",
   "metadata": {},
   "outputs": [
    {
     "name": "stdout",
     "output_type": "stream",
     "text": [
      "RMSE = 0.87 kcal/mol/Å\n",
      "PearsonRResult(statistic=np.float64(0.9996010841109978), pvalue=np.float64(2.962084469601087e-40))\n"
     ]
    },
    {
     "data": {
      "text/plain": [
       "Text(0, 0.5, 'Predicted Force [kcal/mol/Å]')"
      ]
     },
     "execution_count": 234,
     "metadata": {},
     "output_type": "execute_result"
    },
    {
     "data": {
      "image/png": "[encoded data removed]",
      "text/plain": [
       "<Figure size 600x600 with 1 Axes>"
      ]
     },
     "metadata": {},
     "output_type": "display_data"
    }
   ],
   "source": [
    "res = pearsonr(ft, fp)\n",
    "rmse = np.sqrt(np.mean(np.square(ft - fp)))\n",
    "print(f\"RMSE = {rmse:.2f} kcal/mol/Å\")\n",
    "print(res)\n",
    "fig = plt.figure(figsize=(6,6))\n",
    "plt.scatter(ft, fp, s=1)\n",
    "plt.xlabel(\"CCSD(T) Force [kcal/mol/Å]\")\n",
    "plt.ylabel(\"Predicted Force [kcal/mol/Å]\")"
   ]
  },
  {
   "cell_type": "code",
   "execution_count": null,
   "id": "d1c53e8e-becd-4aa0-aa8f-5701ba845196",
   "metadata": {},
   "outputs": [],
   "source": [
    "Xp[:1]"
   ]
  },
  {
   "cell_type": "code",
   "execution_count": null,
   "id": "69950bcf-0ec8-47f5-9d89-0836bb59fd9d",
   "metadata": {},
   "outputs": [],
   "source": []
  }
 ],
 "metadata": {
  "kernelspec": {
   "display_name": "Python 3 (ipykernel)",
   "language": "python",
   "name": "python3"
  },
  "language_info": {
   "codemirror_mode": {
    "name": "ipython",
    "version": 3
   },
   "file_extension": ".py",
   "mimetype": "text/x-python",
   "name": "python",
   "nbconvert_exporter": "python",
   "pygments_lexer": "ipython3",
   "version": "3.13.5"
  }
 },
 "nbformat": 4,
 "nbformat_minor": 5
}
