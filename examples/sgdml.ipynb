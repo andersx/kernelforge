{
 "cells": [
  {
   "cell_type": "code",
   "execution_count": 17,
   "id": "fc2fa7c9-302f-427d-b708-35bf30822861",
   "metadata": {},
   "outputs": [],
   "source": [
    "import numpy as np\n",
    "import kernelforge\n",
    "from kernelforge import inverse_distance_upper, kernel_symm, kernel_asymm, inverse_distance_upper_and_jacobian\n",
    "import matplotlib.pyplot as plt\n",
    "from scipy.stats import pearsonr\n",
    "import rdkit\n",
    "from rdkit import Chem\n",
    "from rdkit.Chem import rdFMCS\n",
    "from tqdm.notebook import tqdm\n",
    "import numpy as np\n",
    "import kernelforge\n",
    "from kernelforge import inverse_distance_upper, kernel_symm, kernel_asymm, inverse_distance_upper_and_jacobian\n",
    "import matplotlib.pyplot as plt\n",
    "import gc\n",
    "from time import time\n",
    "from scipy.stats import pearsonr\n",
    "from kernelforge._kernels import rbf_hessian_full_tiled_gemm\n",
    "import sys\n",
    "from kernelforge import _kernels\n",
    "from time import time\n",
    "from kernelforge import _kernels\n",
    "from time import time\n",
    "from kernelforge._kernels import solve_cholesky\n",
    "from kernelforge._kernels import solve_cholesky\n",
    "from rdkit.Chem import rdmolops"
   ]
  },
  {
   "cell_type": "code",
   "execution_count": 18,
   "id": "93854757-21e8-489a-be56-abab725c4954",
   "metadata": {},
   "outputs": [],
   "source": [
    "import numpy as np\n",
    "from rdkit import Chem\n",
    "from rdkit.Chem import rdDetermineBonds\n",
    "from rdkit.Geometry import Point3D\n",
    "\n",
    "def mol_from_arrays(Z: np.ndarray,\n",
    "                    xyz: np.ndarray,\n",
    "                    charge: int = 0,\n",
    "                    sanitize: bool = True,\n",
    "                    use_hueckel: bool = True,\n",
    "                    allow_charged_fragments: bool = False,\n",
    "                    use_vdw_fallback: bool = True) -> Chem.Mol:\n",
    "    Z = np.asarray(Z).astype(int)\n",
    "    xyz = np.asarray(xyz, dtype=float)\n",
    "    assert xyz.shape == (len(Z), 3), \"xyz must be shape (N,3) matching Z\"\n",
    "\n",
    "    # Start with an empty editable mol and add atoms\n",
    "    em = Chem.EditableMol(Chem.Mol())\n",
    "    for z in Z:\n",
    "        a = Chem.Atom(int(z))\n",
    "        em.AddAtom(a)\n",
    "    mol = em.GetMol()\n",
    "\n",
    "    # Add coordinates as a conformer\n",
    "    conf = Chem.Conformer(len(Z))\n",
    "    for i, (x, y, zc) in enumerate(xyz):\n",
    "        conf.SetAtomPosition(i, Point3D(float(x), float(y), float(zc)))\n",
    "    mol.AddConformer(conf, assignId=True)\n",
    "\n",
    "    # Perceive bonds\n",
    "    try:\n",
    "        rdDetermineBonds.DetermineBonds(\n",
    "            mol,\n",
    "            charge=charge,\n",
    "            useHueckel=bool(use_hueckel),\n",
    "            allowChargedFragments=bool(allow_charged_fragments),\n",
    "            useVdw=False\n",
    "        )\n",
    "    except Exception:\n",
    "        if use_vdw_fallback:\n",
    "            rdDetermineBonds.DetermineBonds(\n",
    "                mol,\n",
    "                charge=charge,\n",
    "                useHueckel=False,\n",
    "                allowChargedFragments=bool(allow_charged_fragments),\n",
    "                useVdw=True\n",
    "            )\n",
    "        else:\n",
    "            raise\n",
    "\n",
    "    if sanitize:\n",
    "        Chem.SanitizeMol(mol)\n",
    "\n",
    "    return mol\n"
   ]
  },
  {
   "cell_type": "code",
   "execution_count": 19,
   "id": "163b1392-9f34-4315-8a7f-2e2376ce7f34",
   "metadata": {},
   "outputs": [
    {
     "name": "stdout",
     "output_type": "stream",
     "text": [
      "-0.5 1.0\n"
     ]
    }
   ],
   "source": [
    "n_train = 1000\n",
    "n_test = 1000\n",
    "sigma = 1.0\n",
    "alpha_kernel = -1/(2*sigma**2)\n",
    "diago = 1e-8\n",
    "print(alpha_kernel, sigma)"
   ]
  },
  {
   "cell_type": "code",
   "execution_count": 20,
   "id": "5b3c049b-f888-4346-88ba-7ce8c677e8e6",
   "metadata": {},
   "outputs": [],
   "source": [
    "train = np.load(\"/home/andersx/dev/laptop-qml/kitchen-sink-qml/data/ethanol_ccsd_t-train.npz\")\n",
    "y = train[\"E\"][:n_train].flatten()\n",
    "offset = y.mean()\n",
    "y -= offset"
   ]
  },
  {
   "cell_type": "code",
   "execution_count": 21,
   "id": "550e456a-35e9-4d6f-b440-2795a343af57",
   "metadata": {},
   "outputs": [],
   "source": [
    "test = np.load(\"/home/andersx/dev/laptop-qml/kitchen-sink-qml/data/ethanol_ccsd_t-test.npz\")\n",
    "Yt = test[\"E\"][:n_test].flatten() - offset"
   ]
  },
  {
   "cell_type": "code",
   "execution_count": 22,
   "id": "231ee53f-bd89-4776-af9c-ece0b0b90f6e",
   "metadata": {},
   "outputs": [
    {
     "name": "stderr",
     "output_type": "stream",
     "text": [
      "!!! Warning !!! Distance between atoms 9 and 3 (0.993103 A) is suspicious.\n"
     ]
    },
    {
     "data": {
      "image/png": "[encoded data removed]",
      "text/plain": [
       "<rdkit.Chem.rdchem.Mol at 0x75e738170c80>"
      ]
     },
     "metadata": {},
     "output_type": "display_data"
    },
    {
     "name": "stdout",
     "output_type": "stream",
     "text": [
      "12\n",
      "0 [0 1 2 3 4 5 6 7 8]\n",
      "1 [0 1 2 3 4 5 7 6 8]\n",
      "2 [0 1 2 3 4 6 5 7 8]\n",
      "3 [0 1 2 3 4 6 7 5 8]\n",
      "4 [0 1 2 3 4 7 5 6 8]\n",
      "5 [0 1 2 3 4 7 6 5 8]\n",
      "6 [0 1 2 4 3 5 6 7 8]\n",
      "7 [0 1 2 4 3 5 7 6 8]\n",
      "8 [0 1 2 4 3 6 5 7 8]\n",
      "9 [0 1 2 4 3 6 7 5 8]\n",
      "10 [0 1 2 4 3 7 5 6 8]\n",
      "11 [0 1 2 4 3 7 6 5 8]\n"
     ]
    }
   ],
   "source": [
    "mol = mol_from_arrays(Z=train[\"z\"], xyz=train[\"R\"][0])\n",
    "Chem.MolToMolFile(mol, \"ethanol.sdf\")\n",
    "display(mol)\n",
    "matches = mol.GetSubstructMatches(mol, uniquify=False)\n",
    "print(len(matches))\n",
    "#for match in matches: print(match)\n",
    "matches = [\n",
    "(0, 1, 2, 3, 4, 5, 6, 7, 8),\n",
    "(0, 1, 2, 3, 4, 5, 7, 6, 8),\n",
    "(0, 1, 2, 3, 4, 6, 5, 7, 8),\n",
    "(0, 1, 2, 3, 4, 6, 7, 5, 8),\n",
    "(0, 1, 2, 3, 4, 7, 5, 6, 8),\n",
    "(0, 1, 2, 3, 4, 7, 6, 5, 8),\n",
    "(0, 1, 2, 4, 3, 5, 6, 7, 8),\n",
    "(0, 1, 2, 4, 3, 5, 7, 6, 8),\n",
    "(0, 1, 2, 4, 3, 6, 5, 7, 8),\n",
    "(0, 1, 2, 4, 3, 6, 7, 5, 8),\n",
    "(0, 1, 2, 4, 3, 7, 5, 6, 8),\n",
    "(0, 1, 2, 4, 3, 7, 6, 5, 8),\n",
    "]\n",
    "matches = np.asarray(matches)\n",
    "# matches = matches[:1]\n",
    "for i, match in enumerate(matches):\n",
    "    print(i, match)"
   ]
  },
  {
   "cell_type": "code",
   "execution_count": 23,
   "id": "c40983b7-b8f0-42b9-ad27-43a75ce87fe2",
   "metadata": {},
   "outputs": [
    {
     "data": {
      "text/plain": [
       "array([[0, 1, 2, 3, 4, 5, 6, 7, 8],\n",
       "       [0, 1, 2, 3, 4, 6, 7, 5, 8],\n",
       "       [0, 1, 2, 4, 3, 5, 7, 6, 8],\n",
       "       [0, 1, 2, 4, 3, 6, 5, 7, 8],\n",
       "       [0, 1, 2, 4, 3, 7, 6, 5, 8],\n",
       "       [0, 1, 2, 3, 4, 7, 5, 6, 8]])"
      ]
     },
     "execution_count": 23,
     "metadata": {},
     "output_type": "execute_result"
    }
   ],
   "source": [
    "matches2 = np.asarray([[0, 1, 2, 3, 4, 5, 6, 7, 8],\n",
    " [0, 1, 2, 3, 4, 6, 7, 5, 8],\n",
    " [0, 1, 2, 4, 3, 5, 7, 6, 8],\n",
    " [0, 1, 2, 4, 3, 6, 5, 7, 8],\n",
    " [0, 1, 2, 4, 3, 7, 6, 5, 8],\n",
    " [0, 1, 2, 3, 4, 7, 5, 6, 8],\n",
    "])\n",
    "matches2"
   ]
  },
  {
   "cell_type": "code",
   "execution_count": null,
   "id": "5cda6e87-c55a-4a16-a6d6-84f8ce533de8",
   "metadata": {
    "scrolled": true
   },
   "outputs": [],
   "source": []
  },
  {
   "cell_type": "code",
   "execution_count": 24,
   "id": "df30ae68-0f62-48a2-8c1d-119d6a9faa93",
   "metadata": {},
   "outputs": [
    {
     "data": {
      "application/vnd.jupyter.widget-view+json": {
       "model_id": "f4ee3b693cb9451eaa230ae4ab6f980f",
       "version_major": 2,
       "version_minor": 0
      },
      "text/plain": [
       "  0%|          | 0/12 [00:00<?, ?it/s]"
      ]
     },
     "metadata": {},
     "output_type": "display_data"
    }
   ],
   "source": [
    "X_perms = []\n",
    "dX_perms = []\n",
    "for match in tqdm(matches):\n",
    "    X = np.asarray([inverse_distance_upper(r[match]) for r in train[\"R\"][:n_train]])\n",
    "    dX = np.asarray([inverse_distance_upper_and_jacobian(r[match])[1] for r in train[\"R\"][:n_train]])\n",
    "    X_perms.append(X)\n",
    "    dX_perms.append(dX)"
   ]
  },
  {
   "cell_type": "code",
   "execution_count": 25,
   "id": "4053e083-66f5-4a79-b36c-9828c932251a",
   "metadata": {
    "scrolled": true
   },
   "outputs": [
    {
     "name": "stdout",
     "output_type": "stream",
     "text": [
      "(1000, 36)\n",
      "(1000, 36, 27)\n"
     ]
    }
   ],
   "source": [
    "Xt = np.asarray([inverse_distance_upper(r) for r in test[\"R\"][:n_test]])\n",
    "dXt = np.asarray([inverse_distance_upper_and_jacobian(r)[1] for r in test[\"R\"][:n_test]])\n",
    "print(Xt.shape)\n",
    "print(dXt.shape)"
   ]
  },
  {
   "cell_type": "code",
   "execution_count": 26,
   "id": "6e9b1156-6d70-4123-8951-236519d20d2f",
   "metadata": {},
   "outputs": [
    {
     "data": {
      "application/vnd.jupyter.widget-view+json": {
       "model_id": "31812980597b4c18bd36098f779c9a4b",
       "version_major": 2,
       "version_minor": 0
      },
      "text/plain": [
       "  0%|          | 0/12 [00:00<?, ?it/s]"
      ]
     },
     "metadata": {},
     "output_type": "display_data"
    }
   ],
   "source": [
    "K = None \n",
    "for X_perm in tqdm(X_perms):\n",
    "    if K is None:\n",
    "        K = kernel_asymm(X, X_perm, alpha_kernel)\n",
    "    else:\n",
    "        K += kernel_asymm(X, X_perm, alpha_kernel)\n",
    "K /= len(X_perms)"
   ]
  },
  {
   "cell_type": "code",
   "execution_count": 27,
   "id": "0933bd25-087b-4626-a8fd-943c3b7f847f",
   "metadata": {},
   "outputs": [
    {
     "name": "stdout",
     "output_type": "stream",
     "text": [
      "[[0.96895423 0.95440051 0.96537193 0.95291627 0.95941448 0.94127076]\n",
      " [0.95440051 0.97345964 0.95915216 0.9572434  0.96145874 0.9499875 ]\n",
      " [0.96537193 0.95915216 0.97565126 0.95093517 0.9539492  0.93879623]\n",
      " [0.95291627 0.9572434  0.95093517 0.96582037 0.96455501 0.95098923]\n",
      " [0.95941448 0.96145874 0.9539492  0.96455501 0.97689391 0.95891068]]\n"
     ]
    }
   ],
   "source": [
    "print(K[:5, :6])"
   ]
  },
  {
   "cell_type": "code",
   "execution_count": 28,
   "id": "f1024d23-6ccc-444e-8010-a5f832e0dbda",
   "metadata": {},
   "outputs": [
    {
     "data": {
      "text/plain": [
       "array([ -7138462.99421792,  14933566.94353981,  -2926763.56679886,\n",
       "        -6780010.19091781,  -8331373.88438931,  -2413937.05019819,\n",
       "         2524952.93342258, -36322956.08887412,   2620433.33346538,\n",
       "         1955242.18694877])"
      ]
     },
     "execution_count": 28,
     "metadata": {},
     "output_type": "execute_result"
    }
   ],
   "source": [
    "for i in range(K.shape[0]):\n",
    "    K[i,i] += 1e-9\n",
    "reg = np.linalg.solve(K, y)\n",
    "reg[:10]"
   ]
  },
  {
   "cell_type": "code",
   "execution_count": 29,
   "id": "59e9ad38-efa5-42b9-ba5a-bae3373f271e",
   "metadata": {
    "scrolled": true
   },
   "outputs": [
    {
     "data": {
      "application/vnd.jupyter.widget-view+json": {
       "model_id": "bb48fcda600e44d585c48e197b75d3d2",
       "version_major": 2,
       "version_minor": 0
      },
      "text/plain": [
       "  0%|          | 0/12 [00:00<?, ?it/s]"
      ]
     },
     "metadata": {},
     "output_type": "display_data"
    }
   ],
   "source": [
    "Kt = None \n",
    "for X_perm in tqdm(X_perms):\n",
    "    if Kt is None:\n",
    "        Kt = kernel_asymm(Xt, X_perm, alpha_kernel)\n",
    "    else:\n",
    "        Kt += kernel_asymm(Xt, X_perm, alpha_kernel)\n",
    "Kt /= len(X_perms)"
   ]
  },
  {
   "cell_type": "code",
   "execution_count": 30,
   "id": "a485b94e-c698-430a-9959-f9eb2d5a9f2a",
   "metadata": {},
   "outputs": [],
   "source": [
    "Ytt = (Kt @ reg).flatten()"
   ]
  },
  {
   "cell_type": "code",
   "execution_count": 31,
   "id": "7c1bc485-76f3-4456-9be9-66c434fba3be",
   "metadata": {},
   "outputs": [
    {
     "name": "stdout",
     "output_type": "stream",
     "text": [
      "RMSE = 0.45 kcal/mol\n",
      "PearsonRResult(statistic=np.float64(0.9954628374268055), pvalue=np.float64(0.0))\n"
     ]
    },
    {
     "data": {
      "text/plain": [
       "<matplotlib.collections.PathCollection at 0x75e71e2db4d0>"
      ]
     },
     "execution_count": 31,
     "metadata": {},
     "output_type": "execute_result"
    },
    {
     "data": {
      "image/png": "[encoded data removed]",
      "text/plain": [
       "<Figure size 600x600 with 1 Axes>"
      ]
     },
     "metadata": {},
     "output_type": "display_data"
    }
   ],
   "source": [
    "rmse = np.sqrt(np.mean(np.square(Yt - Ytt)))\n",
    "res = pearsonr(Yt, Ytt)\n",
    "print(f\"RMSE = {rmse:.2} kcal/mol\")\n",
    "print(res)\n",
    "fig = plt.figure(figsize=(6,6))\n",
    "plt.xlabel(\"CCSD(T) Energy [kcal/mol]\")\n",
    "plt.ylabel(\"Predicted Energy [kcal/mol]\")\n",
    "plt.scatter(Yt, Ytt, s=1)"
   ]
  },
  {
   "cell_type": "code",
   "execution_count": 32,
   "id": "c19b8c12-9b3e-4120-8f2b-4080bec18d28",
   "metadata": {},
   "outputs": [
    {
     "data": {
      "application/vnd.jupyter.widget-view+json": {
       "model_id": "152255b2f8994fd2a322dc50d3114ca5",
       "version_major": 2,
       "version_minor": 0
      },
      "text/plain": [
       "  0%|          | 0/12 [00:00<?, ?it/s]"
      ]
     },
     "metadata": {},
     "output_type": "display_data"
    }
   ],
   "source": [
    "Kjac = None \n",
    "for X_perm in tqdm(X_perms):\n",
    "    if Kjac is None:\n",
    "        Kjac = _kernels.gaussian_jacobian_batch(Xt, dXt, X_perm, sigma)\n",
    "    else:\n",
    "        Kjac += _kernels.gaussian_jacobian_batch(Xt, dXt, X_perm, sigma)\n",
    "        \n",
    "# Kjac /= len(X_perms)\n",
    "\n",
    "Fp = Kjac @ reg "
   ]
  },
  {
   "cell_type": "code",
   "execution_count": 33,
   "id": "bf042511-a3f8-42c4-902a-620a8d41ad8f",
   "metadata": {},
   "outputs": [
    {
     "name": "stdout",
     "output_type": "stream",
     "text": [
      "RMSE = 301.65 kcal/mol/Å\n",
      "PearsonRResult(statistic=np.float64(0.9945302784201498), pvalue=np.float64(0.0))\n"
     ]
    },
    {
     "data": {
      "text/plain": [
       "Text(0, 0.5, 'Predicted Force [kcal/mol/Å]')"
      ]
     },
     "execution_count": 33,
     "metadata": {},
     "output_type": "execute_result"
    },
    {
     "data": {
      "image/png": "[encoded data removed]",
      "text/plain": [
       "<Figure size 600x600 with 1 Axes>"
      ]
     },
     "metadata": {},
     "output_type": "display_data"
    }
   ],
   "source": [
    "fig = plt.figure(figsize=(6,6))\n",
    "plt.scatter(\n",
    "    test[\"F\"][:n_test].flatten(),\n",
    "    -Fp.flatten(),\n",
    "    s=1\n",
    ")\n",
    "res = pearsonr(test[\"F\"][:n_test].flatten(), -Fp.flatten())\n",
    "rmse = np.sqrt(np.mean(np.square(test[\"F\"][:n_test].flatten() + Fp.flatten())))\n",
    "print(f\"RMSE = {rmse:.2f} kcal/mol/Å\")\n",
    "print(res)\n",
    "plt.xlabel(\"CCSD(T) Force [kcal/mol/Å]\")\n",
    "plt.ylabel(\"Predicted Force [kcal/mol/Å]\")"
   ]
  },
  {
   "cell_type": "code",
   "execution_count": 34,
   "id": "3233c6f3-46e0-485b-a3c1-6aa0afce2029",
   "metadata": {},
   "outputs": [],
   "source": [
    "import numpy as np\n",
    "\n",
    "def inverse_perm(p):\n",
    "    p = np.asarray(p)\n",
    "    inv = np.empty_like(p)\n",
    "    inv[p] = np.arange(p.size)\n",
    "    return inv\n",
    "\n",
    "def expand_cartesian_perm(atom_perm, nm):\n",
    "    \"\"\"\n",
    "    Repeat a 3N cartesian permutation block-diagonally for nm molecules.\n",
    "    atom_perm: (N,) over atoms (0..N-1). Returns (nm*3N,) integer permutation.\n",
    "    \"\"\"\n",
    "    atom_perm = np.asarray(atom_perm)\n",
    "    N = atom_perm.size\n",
    "    block = 3 * N\n",
    "    cart = np.repeat(atom_perm * 3, 3) + np.tile(np.arange(3), N)   # (3N,)\n",
    "    full = (cart[None, :] + block * np.arange(nm)[:, None]).ravel()\n",
    "    return full\n",
    "\n",
    "def permute_cols_inplace(H, col_perm):\n",
    "    \"\"\"\n",
    "    In-place: H[:] = H[:, col_perm].\n",
    "    Uses cycle decomposition; only one temporary column copied at a time.\n",
    "    \"\"\"\n",
    "    m = H.shape[1]\n",
    "    seen = np.zeros(m, dtype=bool)\n",
    "    for s in range(m):\n",
    "        if seen[s]:\n",
    "            continue\n",
    "        cyc = []\n",
    "        j = s\n",
    "        while not seen[j]:\n",
    "            seen[j] = True\n",
    "            cyc.append(j)\n",
    "            j = col_perm[j]\n",
    "        if len(cyc) > 1:\n",
    "            tmp = H[:, cyc[0]].copy()\n",
    "            for t in range(len(cyc) - 1):\n",
    "                H[:, cyc[t]] = H[:, cyc[t+1]]\n",
    "            H[:, cyc[-1]] = tmp\n",
    "\n",
    "def permute_rows_inplace(H, row_perm):\n",
    "    \"\"\"\n",
    "    In-place: H[:] = H[row_perm, :].\n",
    "    Uses cycle decomposition; only one temporary row copied at a time.\n",
    "    \"\"\"\n",
    "    n = H.shape[0]\n",
    "    seen = np.zeros(n, dtype=bool)\n",
    "    for s in range(n):\n",
    "        if seen[s]:\n",
    "            continue\n",
    "        cyc = []\n",
    "        j = s\n",
    "        while not seen[j]:\n",
    "            seen[j] = True\n",
    "            cyc.append(j)\n",
    "            j = row_perm[j]\n",
    "        if len(cyc) > 1:\n",
    "            tmp = H[cyc[0], :].copy()\n",
    "            for t in range(len(cyc) - 1):\n",
    "                H[cyc[t], :] = H[cyc[t+1], :]\n",
    "            H[cyc[-1], :] = tmp\n"
   ]
  },
  {
   "cell_type": "code",
   "execution_count": 35,
   "id": "e2337b85-d41a-4741-8eda-1a03c46ce8de",
   "metadata": {},
   "outputs": [
    {
     "data": {
      "application/vnd.jupyter.widget-view+json": {
       "model_id": "c058ac0adf274e9aae9955e2f146946d",
       "version_major": 2,
       "version_minor": 0
      },
      "text/plain": [
       "  0%|          | 0/12 [00:00<?, ?it/s]"
      ]
     },
     "metadata": {},
     "output_type": "display_data"
    },
    {
     "data": {
      "application/vnd.jupyter.widget-view+json": {
       "model_id": "b14a4cde5a824eb298e5f48f5cdca09f",
       "version_major": 2,
       "version_minor": 0
      },
      "text/plain": [
       "  0%|          | 0/12 [00:00<?, ?it/s]"
      ]
     },
     "metadata": {},
     "output_type": "display_data"
    },
    {
     "ename": "KeyboardInterrupt",
     "evalue": "",
     "output_type": "error",
     "traceback": [
      "\u001b[31m---------------------------------------------------------------------------\u001b[39m",
      "\u001b[31mKeyboardInterrupt\u001b[39m                         Traceback (most recent call last)",
      "\u001b[36mCell\u001b[39m\u001b[36m \u001b[39m\u001b[32mIn[35]\u001b[39m\u001b[32m, line 14\u001b[39m\n\u001b[32m     11\u001b[39m \u001b[38;5;28;01mfor\u001b[39;00m (Xp2, dXp2, p2) \u001b[38;5;129;01min\u001b[39;00m tqdm(\u001b[38;5;28mzip\u001b[39m(X_perms, dX_perms, matches), total=\u001b[38;5;28mlen\u001b[39m(matches)):\n\u001b[32m     12\u001b[39m     col_full = expand_cartesian_perm(inverse_perm(p2), nm)  \u001b[38;5;66;03m# Ph^{-1} for cols\u001b[39;00m\n\u001b[32m---> \u001b[39m\u001b[32m14\u001b[39m     H_term = \u001b[43mrbf_hessian_full_tiled_gemm\u001b[49m\u001b[43m(\u001b[49m\u001b[43mXp1\u001b[49m\u001b[43m,\u001b[49m\u001b[43m \u001b[49m\u001b[43mdXp1\u001b[49m\u001b[43m,\u001b[49m\u001b[43m \u001b[49m\u001b[43mXp2\u001b[49m\u001b[43m,\u001b[49m\u001b[43m \u001b[49m\u001b[43mdXp2\u001b[49m\u001b[43m,\u001b[49m\u001b[43m \u001b[49m\u001b[43msigma\u001b[49m\u001b[43m)\u001b[49m   \u001b[38;5;66;03m# rows=first, cols=second\u001b[39;00m\n\u001b[32m     15\u001b[39m     \u001b[38;5;66;03m# Map indices back to canonical order: inverse perms on matching axes\u001b[39;00m\n\u001b[32m     16\u001b[39m     permute_rows_inplace(H_term, row_full)   \u001b[38;5;66;03m# apply Pg^{-1} to rows\u001b[39;00m\n",
      "\u001b[31mKeyboardInterrupt\u001b[39m: "
     ]
    }
   ],
   "source": [
    "sigma=1.0\n",
    "#nm = len(X)\n",
    "nm = len(X_perms[0])\n",
    "num_perms = len(matches)\n",
    "H = None\n",
    "\n",
    "n_perms = 0\n",
    "for (Xp1, dXp1, p1) in tqdm(zip(X_perms, dX_perms, matches), total=len(matches)):\n",
    "    row_full = expand_cartesian_perm(inverse_perm(p1), nm)  # Pg^{-1} for rows\n",
    "    \n",
    "    for (Xp2, dXp2, p2) in tqdm(zip(X_perms, dX_perms, matches), total=len(matches)):\n",
    "        col_full = expand_cartesian_perm(inverse_perm(p2), nm)  # Ph^{-1} for cols\n",
    "\n",
    "        H_term = rbf_hessian_full_tiled_gemm(Xp1, dXp1, Xp2, dXp2, sigma)   # rows=first, cols=second\n",
    "        # Map indices back to canonical order: inverse perms on matching axes\n",
    "        permute_rows_inplace(H_term, row_full)   # apply Pg^{-1} to rows\n",
    "        permute_cols_inplace(H_term, col_full)   # apply Ph^{-1} to cols\n",
    "        \n",
    "        H = H_term if H is None else (H + H_term)\n",
    "        n_perms += 1\n",
    "        \n",
    "# H /= float(n_perms)"
   ]
  },
  {
   "cell_type": "code",
   "execution_count": null,
   "id": "964f83de-65ad-4ab8-beed-dccbae583d8c",
   "metadata": {},
   "outputs": [],
   "source": [
    "np.set_printoptions(threshold=8, linewidth=999)\n",
    "-H[:5,:5]"
   ]
  },
  {
   "cell_type": "code",
   "execution_count": null,
   "id": "31e3d730-52c4-4274-a95a-3eea2ad86342",
   "metadata": {},
   "outputs": [],
   "source": [
    "np.set_printoptions(threshold=np.inf, linewidth=999)\n",
    "print(H[:27,:27][0])\n",
    "np.set_printoptions(threshold=8, linewidth=999)\n",
    "np.set_printoptions(threshold=np.inf, linewidth=999)\n",
    "\n",
    "-H[:27,:12]"
   ]
  },
  {
   "cell_type": "code",
   "execution_count": null,
   "id": "f4ef4d52-5690-4301-8f4b-3be1840b53ac",
   "metadata": {},
   "outputs": [],
   "source": [
    "#K_ref = np.load(\"K_gdml.npy\")\n",
    "#np.amax(K_ref + H)"
   ]
  },
  {
   "cell_type": "code",
   "execution_count": null,
   "id": "4319820f-a0aa-4574-970f-5098ba97a940",
   "metadata": {},
   "outputs": [],
   "source": [
    "n = 4\n",
    "W = H[:n, :n].copy() \n",
    "W\n",
    "np.max(H - H.T)"
   ]
  },
  {
   "cell_type": "code",
   "execution_count": null,
   "id": "6007cc01-13cb-4019-9913-0a6800560d19",
   "metadata": {},
   "outputs": [],
   "source": [
    "import scipy"
   ]
  },
  {
   "cell_type": "code",
   "execution_count": null,
   "id": "019ab1cd-6c54-48f5-bf11-bd7e93875e3f",
   "metadata": {
    "scrolled": true
   },
   "outputs": [],
   "source": [
    "K_solve = H.copy()\n",
    "yf = -train[\"F\"][:n_train].flatten()\n",
    "y_std = np.std(yf)\n",
    "yf /= y_std\n",
    "\n",
    "K_solve[np.diag_indices_from(K_solve)] += 1e-10\n",
    "# Cholesky (do not overwrite K in case we need to retry)\n",
    "L, lower = scipy.linalg.cho_factor(\n",
    "    K_solve, overwrite_a=False, check_finite=False\n",
    ")\n",
    "alphas = -scipy.linalg.cho_solve(\n",
    "    (L, lower), yf, overwrite_b=False, check_finite=False\n",
    ")\n",
    "print(\"DID CHOLESKY\")\n",
    "# alpha = np.linalg.solve(K_solve, yf)\n",
    "reg = solve_cholesky(K_solve, yf)\n",
    "print(alphas[:54])\n",
    "# print(reg[:54])"
   ]
  },
  {
   "cell_type": "code",
   "execution_count": null,
   "id": "d2d01dd3-7032-4544-844d-0db7f0a264fc",
   "metadata": {},
   "outputs": [],
   "source": [
    "print(-reg[:54] / alphas[:54])\n",
    "len(reg)"
   ]
  },
  {
   "cell_type": "code",
   "execution_count": null,
   "id": "f60f3a05-ff4e-40be-aa9d-b18d9c78b322",
   "metadata": {},
   "outputs": [],
   "source": [
    "print(sys.getrefcount(H))   # includes the temporary ref from getrefcount\n",
    "for obj in gc.get_referrers(H):\n",
    "    print(type(obj))\n",
    "#if sys.getrefcount(H) == 2:\n",
    "#    del H"
   ]
  },
  {
   "cell_type": "code",
   "execution_count": null,
   "id": "09bf9449-a0bb-4a18-a2cc-83b27a36bc24",
   "metadata": {},
   "outputs": [],
   "source": [
    "print(np.asarray(X_perms).shape)\n",
    "print(np.asarray(dX_perms).shape)\n",
    "print(matches.shape)\n",
    "print(matches)\n",
    "print(sigma)"
   ]
  },
  {
   "cell_type": "code",
   "execution_count": null,
   "id": "3f853dd7-ae6a-42be-8ed8-355b70c60be7",
   "metadata": {},
   "outputs": [],
   "source": [
    "yf.std()"
   ]
  },
  {
   "cell_type": "code",
   "execution_count": null,
   "id": "3581e349-a123-4321-a335-4c0dfcabe425",
   "metadata": {},
   "outputs": [],
   "source": [
    "Ht = None\n",
    "nm = len(X_perms[0])\n",
    "for (Xp, dXp, p) in tqdm(zip(X_perms, dX_perms, matches), total=len(matches)):\n",
    "    H_term = rbf_hessian_full_tiled_gemm(Xt[:n_test], dXt[:n_test], Xp, dXp, 1.0)   # rows=first, cols=second\n",
    "    full_col_perm = expand_cartesian_perm(inverse_perm(p), n_train)    # MUST be inverse\n",
    "    permute_cols_inplace(H_term, full_col_perm)                   # columns only\n",
    "\n",
    "    Ht = H_term if Ht is None else (Ht + H_term)\n",
    "\n",
    "# H /= float(len(matches))\n",
    "Ht *= 12 # *= yf.std()\n",
    "print(Ht.shape)\n",
    "(Ht)[:27, :12]"
   ]
  },
  {
   "cell_type": "code",
   "execution_count": null,
   "id": "5525d402-93eb-4df6-853e-7827296caaa7",
   "metadata": {},
   "outputs": [],
   "source": [
    "Ht_ref[:27, :12] / Ht[:27, :12]"
   ]
  },
  {
   "cell_type": "code",
   "execution_count": null,
   "id": "381a4808-4b43-432d-bb43-ae48a188b4e9",
   "metadata": {},
   "outputs": [],
   "source": [
    "-Ht_ref[:27, :12]"
   ]
  },
  {
   "cell_type": "code",
   "execution_count": null,
   "id": "8f61eb0b-394b-46c7-ad0e-2615eb9a1196",
   "metadata": {},
   "outputs": [],
   "source": [
    "alphas.shape"
   ]
  },
  {
   "cell_type": "code",
   "execution_count": null,
   "id": "6776793c-7488-431f-80f3-10b6e9d98a0d",
   "metadata": {},
   "outputs": [],
   "source": [
    "Ht.shape"
   ]
  },
  {
   "cell_type": "code",
   "execution_count": null,
   "id": "9a53e986-74d4-48bc-9db1-9597e30bc07b",
   "metadata": {
    "scrolled": true
   },
   "outputs": [],
   "source": [
    "# Fp = Ht @ alphas * y_std\n",
    "Fp = -Ht @ reg * y_std\n",
    "Fp.shape"
   ]
  },
  {
   "cell_type": "code",
   "execution_count": null,
   "id": "a1fdfcd8-6502-449a-9d73-12b7753c5cb7",
   "metadata": {},
   "outputs": [],
   "source": [
    "print(sys.getrefcount(Ht))   # includes the temporary ref from getrefcount\n",
    "for obj in gc.get_referrers(Ht):\n",
    "    print(type(obj))\n",
    "#if sys.getrefcount(Ht) == 2:\n",
    "#    del Ht"
   ]
  },
  {
   "cell_type": "code",
   "execution_count": null,
   "id": "e1dad5d8-ae62-4266-8902-79310e7b75e6",
   "metadata": {
    "scrolled": true
   },
   "outputs": [],
   "source": [
    "# Fp.flatten()"
   ]
  },
  {
   "cell_type": "code",
   "execution_count": null,
   "id": "b20f2358-544d-4d5c-8d2b-8f01f50c9ffd",
   "metadata": {},
   "outputs": [],
   "source": [
    "fig = plt.figure(figsize=(6,6))\n",
    "Yft = test[\"F\"][:n_test].flatten()#[:1000],\n",
    "\n",
    "plt.scatter(Yft,  Fp, s=1)\n",
    "res = pearsonr(Yft, Fp)\n",
    "\n",
    "rmse = np.sqrt(np.mean(np.square(Yft - Fp)))\n",
    "\n",
    "print(f\"RMSE = {rmse:.2f} kcal/mol/Å\")\n",
    "print(res)\n",
    "plt.xlim(-120,120)\n",
    "plt.ylim(-120,120)\n",
    "plt.xlabel(\"CCSD(T) Force [kcal/mol/Å]\")\n",
    "plt.ylabel(\"Predicted Force [kcal/mol/Å]\")"
   ]
  },
  {
   "cell_type": "code",
   "execution_count": null,
   "id": "bbec3dd1-6be4-4e63-ae15-afe18bf0deca",
   "metadata": {},
   "outputs": [],
   "source": []
  }
 ],
 "metadata": {
  "kernelspec": {
   "display_name": "Python 3 (ipykernel)",
   "language": "python",
   "name": "python3"
  },
  "language_info": {
   "codemirror_mode": {
    "name": "ipython",
    "version": 3
   },
   "file_extension": ".py",
   "mimetype": "text/x-python",
   "name": "python",
   "nbconvert_exporter": "python",
   "pygments_lexer": "ipython3",
   "version": "3.13.5"
  }
 },
 "nbformat": 4,
 "nbformat_minor": 5
}
