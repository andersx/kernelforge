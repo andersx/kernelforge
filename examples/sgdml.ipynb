{
 "cells": [
  {
   "cell_type": "code",
   "execution_count": 1,
   "id": "fc2fa7c9-302f-427d-b708-35bf30822861",
   "metadata": {},
   "outputs": [],
   "source": [
    "import numpy as np\n",
    "import kernelforge\n",
    "from kernelforge import inverse_distance_upper, kernel_symm, kernel_asymm, inverse_distance_upper_and_jacobian\n",
    "import matplotlib.pyplot as plt\n",
    "from scipy.stats import pearsonr\n",
    "import rdkit\n",
    "from rdkit import Chem\n",
    "from rdkit.Chem import rdFMCS\n",
    "from tqdm.notebook import tqdm\n",
    "import numpy as np\n",
    "import kernelforge\n",
    "from kernelforge import inverse_distance_upper, kernel_symm, kernel_asymm, inverse_distance_upper_and_jacobian\n",
    "import matplotlib.pyplot as plt\n",
    "import gc\n",
    "from time import time\n",
    "from scipy.stats import pearsonr\n",
    "from kernelforge._kernels import rbf_hessian_full_tiled_gemm\n",
    "import sys\n",
    "from kernelforge import _kernels\n",
    "from time import time\n",
    "from kernelforge import _kernels\n",
    "from time import time\n",
    "from kernelforge._kernels import solve_cholesky\n",
    "from kernelforge._kernels import solve_cholesky\n",
    "from rdkit.Chem import rdmolops"
   ]
  },
  {
   "cell_type": "code",
   "execution_count": 2,
   "id": "93854757-21e8-489a-be56-abab725c4954",
   "metadata": {},
   "outputs": [],
   "source": [
    "import numpy as np\n",
    "from rdkit import Chem\n",
    "from rdkit.Chem import rdDetermineBonds\n",
    "from rdkit.Geometry import Point3D\n",
    "\n",
    "def mol_from_arrays(Z: np.ndarray,\n",
    "                    xyz: np.ndarray,\n",
    "                    charge: int = 0,\n",
    "                    sanitize: bool = True,\n",
    "                    use_hueckel: bool = True,\n",
    "                    allow_charged_fragments: bool = False,\n",
    "                    use_vdw_fallback: bool = True) -> Chem.Mol:\n",
    "    Z = np.asarray(Z).astype(int)\n",
    "    xyz = np.asarray(xyz, dtype=float)\n",
    "    assert xyz.shape == (len(Z), 3), \"xyz must be shape (N,3) matching Z\"\n",
    "\n",
    "    # Start with an empty editable mol and add atoms\n",
    "    em = Chem.EditableMol(Chem.Mol())\n",
    "    for z in Z:\n",
    "        a = Chem.Atom(int(z))\n",
    "        em.AddAtom(a)\n",
    "    mol = em.GetMol()\n",
    "\n",
    "    # Add coordinates as a conformer\n",
    "    conf = Chem.Conformer(len(Z))\n",
    "    for i, (x, y, zc) in enumerate(xyz):\n",
    "        conf.SetAtomPosition(i, Point3D(float(x), float(y), float(zc)))\n",
    "    mol.AddConformer(conf, assignId=True)\n",
    "\n",
    "    # Perceive bonds\n",
    "    try:\n",
    "        rdDetermineBonds.DetermineBonds(\n",
    "            mol,\n",
    "            charge=charge,\n",
    "            useHueckel=bool(use_hueckel),\n",
    "            allowChargedFragments=bool(allow_charged_fragments),\n",
    "            useVdw=False\n",
    "        )\n",
    "    except Exception:\n",
    "        if use_vdw_fallback:\n",
    "            rdDetermineBonds.DetermineBonds(\n",
    "                mol,\n",
    "                charge=charge,\n",
    "                useHueckel=False,\n",
    "                allowChargedFragments=bool(allow_charged_fragments),\n",
    "                useVdw=True\n",
    "            )\n",
    "        else:\n",
    "            raise\n",
    "\n",
    "    if sanitize:\n",
    "        Chem.SanitizeMol(mol)\n",
    "\n",
    "    return mol\n"
   ]
  },
  {
   "cell_type": "code",
   "execution_count": 3,
   "id": "163b1392-9f34-4315-8a7f-2e2376ce7f34",
   "metadata": {},
   "outputs": [
    {
     "name": "stdout",
     "output_type": "stream",
     "text": [
      "-0.125 2\n"
     ]
    }
   ],
   "source": [
    "n_train = 200\n",
    "n_test = 999\n",
    "sigma = 2\n",
    "alpha = -1/(2*sigma**2)\n",
    "diago = 1e-8\n",
    "print(alpha, sigma)"
   ]
  },
  {
   "cell_type": "code",
   "execution_count": 4,
   "id": "5b3c049b-f888-4346-88ba-7ce8c677e8e6",
   "metadata": {},
   "outputs": [],
   "source": [
    "train = np.load(\"/home/andersx/dev/laptop-qml/kitchen-sink-qml/data/ethanol_ccsd_t-train.npz\")\n",
    "y = train[\"E\"][:n_train].flatten()\n",
    "offset = y.mean()\n",
    "y -= offset"
   ]
  },
  {
   "cell_type": "code",
   "execution_count": 5,
   "id": "550e456a-35e9-4d6f-b440-2795a343af57",
   "metadata": {},
   "outputs": [],
   "source": [
    "test = np.load(\"/home/andersx/dev/laptop-qml/kitchen-sink-qml/data/ethanol_ccsd_t-test.npz\")\n",
    "Yt = test[\"E\"][:n_test].flatten() - offset"
   ]
  },
  {
   "cell_type": "code",
   "execution_count": 6,
   "id": "231ee53f-bd89-4776-af9c-ece0b0b90f6e",
   "metadata": {},
   "outputs": [
    {
     "name": "stderr",
     "output_type": "stream",
     "text": [
      "!!! Warning !!! Distance between atoms 9 and 3 (0.993103 A) is suspicious.\n"
     ]
    },
    {
     "data": {
      "image/png": "[encoded data removed]",
      "text/plain": [
       "<rdkit.Chem.rdchem.Mol at 0x754c28d57df0>"
      ]
     },
     "metadata": {},
     "output_type": "display_data"
    },
    {
     "name": "stdout",
     "output_type": "stream",
     "text": [
      "12\n",
      "0 [0 1 2 3 4 5 6 7 8]\n",
      "1 [0 1 2 3 4 5 7 6 8]\n",
      "2 [0 1 2 3 4 6 5 7 8]\n",
      "3 [0 1 2 3 4 6 7 5 8]\n",
      "4 [0 1 2 3 4 7 5 6 8]\n",
      "5 [0 1 2 3 4 7 6 5 8]\n",
      "6 [0 1 2 4 3 5 6 7 8]\n",
      "7 [0 1 2 4 3 5 7 6 8]\n",
      "8 [0 1 2 4 3 6 5 7 8]\n",
      "9 [0 1 2 4 3 6 7 5 8]\n",
      "10 [0 1 2 4 3 7 5 6 8]\n",
      "11 [0 1 2 4 3 7 6 5 8]\n"
     ]
    }
   ],
   "source": [
    "mol = mol_from_arrays(Z=train[\"z\"], xyz=train[\"R\"][0])\n",
    "Chem.MolToMolFile(mol, \"ethanol.sdf\")\n",
    "display(mol)\n",
    "matches = mol.GetSubstructMatches(mol, uniquify=False)\n",
    "print(len(matches))\n",
    "#for match in matches: print(match)\n",
    "matches = [\n",
    "(0, 1, 2, 3, 4, 5, 6, 7, 8),\n",
    "(0, 1, 2, 3, 4, 5, 7, 6, 8),\n",
    "(0, 1, 2, 3, 4, 6, 5, 7, 8),\n",
    "(0, 1, 2, 3, 4, 6, 7, 5, 8),\n",
    "(0, 1, 2, 3, 4, 7, 5, 6, 8),\n",
    "(0, 1, 2, 3, 4, 7, 6, 5, 8),\n",
    "(0, 1, 2, 4, 3, 5, 6, 7, 8),\n",
    "(0, 1, 2, 4, 3, 5, 7, 6, 8),\n",
    "(0, 1, 2, 4, 3, 6, 5, 7, 8),\n",
    "(0, 1, 2, 4, 3, 6, 7, 5, 8),\n",
    "(0, 1, 2, 4, 3, 7, 5, 6, 8),\n",
    "(0, 1, 2, 4, 3, 7, 6, 5, 8),\n",
    "]\n",
    "matches = np.asarray(matches)\n",
    "\n",
    "for i, match in enumerate(matches):\n",
    "    print(i, match)"
   ]
  },
  {
   "cell_type": "code",
   "execution_count": 7,
   "id": "df30ae68-0f62-48a2-8c1d-119d6a9faa93",
   "metadata": {},
   "outputs": [
    {
     "data": {
      "application/vnd.jupyter.widget-view+json": {
       "model_id": "2a9262f35bb94b43939f47e0c0454288",
       "version_major": 2,
       "version_minor": 0
      },
      "text/plain": [
       "  0%|          | 0/12 [00:00<?, ?it/s]"
      ]
     },
     "metadata": {},
     "output_type": "display_data"
    }
   ],
   "source": [
    "X_perms = []\n",
    "dX_perms = []\n",
    "for match in tqdm(matches):\n",
    "    X = np.asarray([inverse_distance_upper(r[match]) for r in train[\"R\"][:n_train]])\n",
    "    dX = np.asarray([inverse_distance_upper_and_jacobian(r[match])[1] for r in train[\"R\"][:n_train]])\n",
    "    X_perms.append(X)\n",
    "    dX_perms.append(dX)"
   ]
  },
  {
   "cell_type": "code",
   "execution_count": 8,
   "id": "4053e083-66f5-4a79-b36c-9828c932251a",
   "metadata": {
    "scrolled": true
   },
   "outputs": [
    {
     "name": "stdout",
     "output_type": "stream",
     "text": [
      "(999, 36)\n",
      "(999, 36, 27)\n"
     ]
    }
   ],
   "source": [
    "Xt = np.asarray([inverse_distance_upper(r) for r in test[\"R\"][:n_test]])\n",
    "dXt = np.asarray([inverse_distance_upper_and_jacobian(r)[1] for r in test[\"R\"][:n_test]])\n",
    "print(Xt.shape)\n",
    "print(dXt.shape)"
   ]
  },
  {
   "cell_type": "code",
   "execution_count": 9,
   "id": "6e9b1156-6d70-4123-8951-236519d20d2f",
   "metadata": {},
   "outputs": [
    {
     "data": {
      "application/vnd.jupyter.widget-view+json": {
       "model_id": "fc7b8a9982e94db4b8176fc116665989",
       "version_major": 2,
       "version_minor": 0
      },
      "text/plain": [
       "  0%|          | 0/12 [00:00<?, ?it/s]"
      ]
     },
     "metadata": {},
     "output_type": "display_data"
    }
   ],
   "source": [
    "K = None \n",
    "for X_perm in tqdm(X_perms):\n",
    "    if K is None:\n",
    "        K = kernel_asymm(X, X_perm, alpha)\n",
    "    else:\n",
    "        K += kernel_asymm(X, X_perm, alpha)\n",
    "K /= len(X_perms)"
   ]
  },
  {
   "cell_type": "code",
   "execution_count": 10,
   "id": "f1024d23-6ccc-444e-8010-a5f832e0dbda",
   "metadata": {},
   "outputs": [
    {
     "data": {
      "text/plain": [
       "array([ -3436319.0345561 ,  -8866602.79226076, -39075843.52282562,\n",
       "        -7569561.75389159,  15594956.18387522,  17697636.03907747,\n",
       "       -64190120.81724682,   5960858.07142099,  -5008581.84401458,\n",
       "         6468990.54371077])"
      ]
     },
     "execution_count": 10,
     "metadata": {},
     "output_type": "execute_result"
    }
   ],
   "source": [
    "for i in range(K.shape[0]):\n",
    "    K[i,i] += 1e-9\n",
    "reg = np.linalg.solve(K, y)\n",
    "reg[:10]"
   ]
  },
  {
   "cell_type": "code",
   "execution_count": 11,
   "id": "59e9ad38-efa5-42b9-ba5a-bae3373f271e",
   "metadata": {
    "scrolled": true
   },
   "outputs": [
    {
     "data": {
      "application/vnd.jupyter.widget-view+json": {
       "model_id": "51661d8e45244d319c2f97d816e5fcb5",
       "version_major": 2,
       "version_minor": 0
      },
      "text/plain": [
       "  0%|          | 0/12 [00:00<?, ?it/s]"
      ]
     },
     "metadata": {},
     "output_type": "display_data"
    }
   ],
   "source": [
    "Kt = None \n",
    "for X_perm in tqdm(X_perms):\n",
    "    if Kt is None:\n",
    "        Kt = kernel_asymm(Xt, X_perm, alpha)\n",
    "    else:\n",
    "        Kt += kernel_asymm(Xt, X_perm, alpha)\n",
    "Kt /= len(X_perms)"
   ]
  },
  {
   "cell_type": "code",
   "execution_count": 12,
   "id": "a485b94e-c698-430a-9959-f9eb2d5a9f2a",
   "metadata": {},
   "outputs": [],
   "source": [
    "Ytt = (Kt @ reg).flatten()"
   ]
  },
  {
   "cell_type": "code",
   "execution_count": 13,
   "id": "7c1bc485-76f3-4456-9be9-66c434fba3be",
   "metadata": {},
   "outputs": [
    {
     "name": "stdout",
     "output_type": "stream",
     "text": [
      "RMSE = 1.3 kcal/mol\n",
      "PearsonRResult(statistic=np.float64(0.9654487282125682), pvalue=np.float64(0.0))\n"
     ]
    },
    {
     "data": {
      "text/plain": [
       "<matplotlib.collections.PathCollection at 0x754c28c1b020>"
      ]
     },
     "execution_count": 13,
     "metadata": {},
     "output_type": "execute_result"
    },
    {
     "data": {
      "image/png": "[encoded data removed]",
      "text/plain": [
       "<Figure size 600x600 with 1 Axes>"
      ]
     },
     "metadata": {},
     "output_type": "display_data"
    }
   ],
   "source": [
    "rmse = np.sqrt(np.mean(np.square(Yt - Ytt)))\n",
    "res = pearsonr(Yt, Ytt)\n",
    "print(f\"RMSE = {rmse:.2} kcal/mol\")\n",
    "print(res)\n",
    "fig = plt.figure(figsize=(6,6))\n",
    "plt.xlabel(\"CCSD(T) Energy [kcal/mol]\")\n",
    "plt.ylabel(\"Predicted Energy [kcal/mol]\")\n",
    "plt.scatter(Yt, Ytt, s=1)"
   ]
  },
  {
   "cell_type": "code",
   "execution_count": 14,
   "id": "c19b8c12-9b3e-4120-8f2b-4080bec18d28",
   "metadata": {},
   "outputs": [
    {
     "data": {
      "application/vnd.jupyter.widget-view+json": {
       "model_id": "96ace1f83e9141f5a32b106f61a91d4a",
       "version_major": 2,
       "version_minor": 0
      },
      "text/plain": [
       "  0%|          | 0/12 [00:00<?, ?it/s]"
      ]
     },
     "metadata": {},
     "output_type": "display_data"
    }
   ],
   "source": [
    "Kjac = None \n",
    "for X_perm in tqdm(X_perms):\n",
    "    if Kjac is None:\n",
    "        Kjac = _kernels.gaussian_jacobian_batch(Xt, dXt, X_perm, sigma)\n",
    "    else:\n",
    "        Kjac += _kernels.gaussian_jacobian_batch(Xt, dXt, X_perm, sigma)\n",
    "        \n",
    "Kjac /= len(X_perms)\n",
    "\n",
    "Fp = Kjac @ reg "
   ]
  },
  {
   "cell_type": "code",
   "execution_count": 15,
   "id": "bf042511-a3f8-42c4-902a-620a8d41ad8f",
   "metadata": {},
   "outputs": [
    {
     "name": "stdout",
     "output_type": "stream",
     "text": [
      "RMSE = 7.38 kcal/mol/Å\n",
      "PearsonRResult(statistic=np.float64(0.9639164623946029), pvalue=np.float64(0.0))\n"
     ]
    },
    {
     "data": {
      "text/plain": [
       "Text(0, 0.5, 'Predicted Force [kcal/mol/Å]')"
      ]
     },
     "execution_count": 15,
     "metadata": {},
     "output_type": "execute_result"
    },
    {
     "data": {
      "image/png": "[encoded data removed]",
      "text/plain": [
       "<Figure size 600x600 with 1 Axes>"
      ]
     },
     "metadata": {},
     "output_type": "display_data"
    }
   ],
   "source": [
    "fig = plt.figure(figsize=(6,6))\n",
    "plt.scatter(\n",
    "    test[\"F\"][:n_test].flatten(),\n",
    "    -Fp.flatten(),\n",
    "    s=1\n",
    ")\n",
    "res = pearsonr(test[\"F\"][:n_test].flatten(), -Fp.flatten())\n",
    "rmse = np.sqrt(np.mean(np.square(test[\"F\"][:n_test].flatten() + Fp.flatten())))\n",
    "print(f\"RMSE = {rmse:.2f} kcal/mol/Å\")\n",
    "print(res)\n",
    "plt.xlabel(\"CCSD(T) Force [kcal/mol/Å]\")\n",
    "plt.ylabel(\"Predicted Force [kcal/mol/Å]\")"
   ]
  },
  {
   "cell_type": "code",
   "execution_count": 16,
   "id": "3233c6f3-46e0-485b-a3c1-6aa0afce2029",
   "metadata": {},
   "outputs": [],
   "source": [
    "import numpy as np\n",
    "\n",
    "def inverse_perm(p):\n",
    "    p = np.asarray(p)\n",
    "    inv = np.empty_like(p)\n",
    "    inv[p] = np.arange(p.size)\n",
    "    return inv\n",
    "\n",
    "def expand_cartesian_perm(atom_perm, nm):\n",
    "    \"\"\"\n",
    "    Repeat a 3N cartesian permutation block-diagonally for nm molecules.\n",
    "    atom_perm: (N,) over atoms (0..N-1). Returns (nm*3N,) integer permutation.\n",
    "    \"\"\"\n",
    "    atom_perm = np.asarray(atom_perm)\n",
    "    N = atom_perm.size\n",
    "    block = 3 * N\n",
    "    cart = np.repeat(atom_perm * 3, 3) + np.tile(np.arange(3), N)   # (3N,)\n",
    "    full = (cart[None, :] + block * np.arange(nm)[:, None]).ravel()\n",
    "    return full\n",
    "\n",
    "def permute_cols_inplace(H, col_perm):\n",
    "    \"\"\"\n",
    "    In-place: H[:] = H[:, col_perm].\n",
    "    Uses cycle decomposition; only one temporary column copied at a time.\n",
    "    \"\"\"\n",
    "    m = H.shape[1]\n",
    "    seen = np.zeros(m, dtype=bool)\n",
    "    for s in range(m):\n",
    "        if seen[s]:\n",
    "            continue\n",
    "        cyc = []\n",
    "        j = s\n",
    "        while not seen[j]:\n",
    "            seen[j] = True\n",
    "            cyc.append(j)\n",
    "            j = col_perm[j]\n",
    "        if len(cyc) > 1:\n",
    "            tmp = H[:, cyc[0]].copy()\n",
    "            for t in range(len(cyc) - 1):\n",
    "                H[:, cyc[t]] = H[:, cyc[t+1]]\n",
    "            H[:, cyc[-1]] = tmp\n",
    "\n",
    "def permute_rows_inplace(H, row_perm):\n",
    "    \"\"\"\n",
    "    In-place: H[:] = H[row_perm, :].\n",
    "    Uses cycle decomposition; only one temporary row copied at a time.\n",
    "    \"\"\"\n",
    "    n = H.shape[0]\n",
    "    seen = np.zeros(n, dtype=bool)\n",
    "    for s in range(n):\n",
    "        if seen[s]:\n",
    "            continue\n",
    "        cyc = []\n",
    "        j = s\n",
    "        while not seen[j]:\n",
    "            seen[j] = True\n",
    "            cyc.append(j)\n",
    "            j = row_perm[j]\n",
    "        if len(cyc) > 1:\n",
    "            tmp = H[cyc[0], :].copy()\n",
    "            for t in range(len(cyc) - 1):\n",
    "                H[cyc[t], :] = H[cyc[t+1], :]\n",
    "            H[cyc[-1], :] = tmp\n"
   ]
  },
  {
   "cell_type": "code",
   "execution_count": 17,
   "id": "e2337b85-d41a-4741-8eda-1a03c46ce8de",
   "metadata": {},
   "outputs": [
    {
     "data": {
      "application/vnd.jupyter.widget-view+json": {
       "model_id": "6ef4386f42db42f1bcaa5dfe75d0fee1",
       "version_major": 2,
       "version_minor": 0
      },
      "text/plain": [
       "  0%|          | 0/12 [00:00<?, ?it/s]"
      ]
     },
     "metadata": {},
     "output_type": "display_data"
    },
    {
     "data": {
      "application/vnd.jupyter.widget-view+json": {
       "model_id": "5df8a1dd29af41d7b74c1328a2b7284a",
       "version_major": 2,
       "version_minor": 0
      },
      "text/plain": [
       "  0%|          | 0/12 [00:00<?, ?it/s]"
      ]
     },
     "metadata": {},
     "output_type": "display_data"
    },
    {
     "data": {
      "application/vnd.jupyter.widget-view+json": {
       "model_id": "2d5bffe5f1c042afa45bbf04039c7e94",
       "version_major": 2,
       "version_minor": 0
      },
      "text/plain": [
       "  0%|          | 0/12 [00:00<?, ?it/s]"
      ]
     },
     "metadata": {},
     "output_type": "display_data"
    },
    {
     "data": {
      "application/vnd.jupyter.widget-view+json": {
       "model_id": "3016ab1d7d6d42fb84afaf2f50255f4d",
       "version_major": 2,
       "version_minor": 0
      },
      "text/plain": [
       "  0%|          | 0/12 [00:00<?, ?it/s]"
      ]
     },
     "metadata": {},
     "output_type": "display_data"
    },
    {
     "data": {
      "application/vnd.jupyter.widget-view+json": {
       "model_id": "e84aabaae1224799a1bf92bb65d061a0",
       "version_major": 2,
       "version_minor": 0
      },
      "text/plain": [
       "  0%|          | 0/12 [00:00<?, ?it/s]"
      ]
     },
     "metadata": {},
     "output_type": "display_data"
    },
    {
     "data": {
      "application/vnd.jupyter.widget-view+json": {
       "model_id": "372d55833fa74b3c9f5e3288f5fa6955",
       "version_major": 2,
       "version_minor": 0
      },
      "text/plain": [
       "  0%|          | 0/12 [00:00<?, ?it/s]"
      ]
     },
     "metadata": {},
     "output_type": "display_data"
    },
    {
     "data": {
      "application/vnd.jupyter.widget-view+json": {
       "model_id": "1dd94bb242564d17843398a05815036d",
       "version_major": 2,
       "version_minor": 0
      },
      "text/plain": [
       "  0%|          | 0/12 [00:00<?, ?it/s]"
      ]
     },
     "metadata": {},
     "output_type": "display_data"
    },
    {
     "data": {
      "application/vnd.jupyter.widget-view+json": {
       "model_id": "0965e31e32cb45db81e9f2f635330245",
       "version_major": 2,
       "version_minor": 0
      },
      "text/plain": [
       "  0%|          | 0/12 [00:00<?, ?it/s]"
      ]
     },
     "metadata": {},
     "output_type": "display_data"
    },
    {
     "data": {
      "application/vnd.jupyter.widget-view+json": {
       "model_id": "fed8944edf144a9d86ec0781a64df0e9",
       "version_major": 2,
       "version_minor": 0
      },
      "text/plain": [
       "  0%|          | 0/12 [00:00<?, ?it/s]"
      ]
     },
     "metadata": {},
     "output_type": "display_data"
    },
    {
     "data": {
      "application/vnd.jupyter.widget-view+json": {
       "model_id": "ea4857420c0349c68010ede129f432b6",
       "version_major": 2,
       "version_minor": 0
      },
      "text/plain": [
       "  0%|          | 0/12 [00:00<?, ?it/s]"
      ]
     },
     "metadata": {},
     "output_type": "display_data"
    },
    {
     "data": {
      "application/vnd.jupyter.widget-view+json": {
       "model_id": "d9c22a0dfbb44b9b81fccb1d95143c1d",
       "version_major": 2,
       "version_minor": 0
      },
      "text/plain": [
       "  0%|          | 0/12 [00:00<?, ?it/s]"
      ]
     },
     "metadata": {},
     "output_type": "display_data"
    },
    {
     "data": {
      "application/vnd.jupyter.widget-view+json": {
       "model_id": "fa3823c271b344d8b234c474b681e55c",
       "version_major": 2,
       "version_minor": 0
      },
      "text/plain": [
       "  0%|          | 0/12 [00:00<?, ?it/s]"
      ]
     },
     "metadata": {},
     "output_type": "display_data"
    },
    {
     "data": {
      "application/vnd.jupyter.widget-view+json": {
       "model_id": "acca76de0b6e4e51ae07e5364e10b574",
       "version_major": 2,
       "version_minor": 0
      },
      "text/plain": [
       "  0%|          | 0/12 [00:00<?, ?it/s]"
      ]
     },
     "metadata": {},
     "output_type": "display_data"
    }
   ],
   "source": [
    "sigma=1\n",
    "#nm = len(X)\n",
    "nm = len(X_perms[0])\n",
    "num_perms = len(matches)\n",
    "H = None\n",
    "\n",
    "n_perms = 0\n",
    "for (Xp1, dXp1, p1) in tqdm(zip(X_perms, dX_perms, matches), total=len(matches)):\n",
    "    row_full = expand_cartesian_perm(inverse_perm(p1), nm)  # Pg^{-1} for rows\n",
    "    \n",
    "    for (Xp2, dXp2, p2) in tqdm(zip(X_perms, dX_perms, matches), total=len(matches)):\n",
    "        col_full = expand_cartesian_perm(inverse_perm(p2), nm)  # Ph^{-1} for cols\n",
    "    \n",
    "        H_term = rbf_hessian_full_tiled_gemm(Xp1, dXp1, Xp2, dXp2, sigma)   # rows=first, cols=second\n",
    "        # Map indices back to canonical order: inverse perms on matching axes\n",
    "        permute_rows_inplace(H_term, row_full)   # apply Pg^{-1} to rows\n",
    "        permute_cols_inplace(H_term, col_full)   # apply Ph^{-1} to cols\n",
    "        \n",
    "        H = -H_term if H is None else (H - H_term)\n",
    "        n_perms += 1\n",
    "H /= float(n_perms)"
   ]
  },
  {
   "cell_type": "code",
   "execution_count": 18,
   "id": "4319820f-a0aa-4574-970f-5098ba97a940",
   "metadata": {},
   "outputs": [
    {
     "data": {
      "text/plain": [
       "np.float64(1.7763568394002505e-15)"
      ]
     },
     "execution_count": 18,
     "metadata": {},
     "output_type": "execute_result"
    }
   ],
   "source": [
    "n = 4\n",
    "W = H[:n, :n].copy() \n",
    "W\n",
    "np.max(H - H.T)"
   ]
  },
  {
   "cell_type": "code",
   "execution_count": 19,
   "id": "a11a105f-dcf6-4a11-a08c-7b5b44da4e9c",
   "metadata": {},
   "outputs": [
    {
     "name": "stdout",
     "output_type": "stream",
     "text": [
      "2.7655038833618164\n"
     ]
    },
    {
     "data": {
      "text/plain": [
       "array([ 3.70471924, -5.1614551 ,  0.44739175, -9.39735103,  5.17347806,\n",
       "       -0.50452796, -4.47409552,  2.79097019,  1.47511262, -0.95556925])"
      ]
     },
     "execution_count": 19,
     "metadata": {},
     "output_type": "execute_result"
    }
   ],
   "source": [
    "#np.fill_diagonal(H, H.diagonal() + diago)\n",
    "yf = train[\"F\"][:n_train].flatten()\n",
    "\n",
    "for i in range(H.shape[0]):\n",
    "    H[i,i] += 1-6\n",
    "t_start = time()\n",
    "# reg = solve_cholesky(H, yf)\n",
    "reg = np.linalg.solve(H, yf)\n",
    "t_end = time()\n",
    "print(t_end - t_start)\n",
    "reg[:10]"
   ]
  },
  {
   "cell_type": "code",
   "execution_count": 20,
   "id": "f60f3a05-ff4e-40be-aa9d-b18d9c78b322",
   "metadata": {},
   "outputs": [
    {
     "name": "stdout",
     "output_type": "stream",
     "text": [
      "2\n",
      "<class 'dict'>\n"
     ]
    }
   ],
   "source": [
    "print(sys.getrefcount(H))   # includes the temporary ref from getrefcount\n",
    "for obj in gc.get_referrers(H):\n",
    "    print(type(obj))\n",
    "if sys.getrefcount(H) == 2:\n",
    "    del H"
   ]
  },
  {
   "cell_type": "code",
   "execution_count": 21,
   "id": "3581e349-a123-4321-a335-4c0dfcabe425",
   "metadata": {},
   "outputs": [
    {
     "data": {
      "application/vnd.jupyter.widget-view+json": {
       "model_id": "9903eda5b85d4011bf66e05751e7bf2a",
       "version_major": 2,
       "version_minor": 0
      },
      "text/plain": [
       "  0%|          | 0/12 [00:00<?, ?it/s]"
      ]
     },
     "metadata": {},
     "output_type": "display_data"
    }
   ],
   "source": [
    "Ht = None\n",
    "nm = len(X_perms[0])\n",
    "for (Xp, dXp, p) in tqdm(zip(X_perms, dX_perms, matches), total=len(matches)):\n",
    "    H_term = rbf_hessian_full_tiled_gemm(Xt, dXt, Xp, dXp, sigma)   # rows=first, cols=second\n",
    "    full_col_perm = expand_cartesian_perm(inverse_perm(p), nm)    # MUST be inverse\n",
    "    permute_cols_inplace(H_term, full_col_perm)                   # columns only\n",
    "\n",
    "    Ht = -H_term if Ht is None else (Ht - H_term)\n",
    "\n",
    "Ht /= float(len(matches))"
   ]
  },
  {
   "cell_type": "code",
   "execution_count": 22,
   "id": "9a53e986-74d4-48bc-9db1-9597e30bc07b",
   "metadata": {},
   "outputs": [],
   "source": [
    "Fp = Ht @ reg"
   ]
  },
  {
   "cell_type": "code",
   "execution_count": 23,
   "id": "a1fdfcd8-6502-449a-9d73-12b7753c5cb7",
   "metadata": {},
   "outputs": [
    {
     "name": "stdout",
     "output_type": "stream",
     "text": [
      "2\n",
      "<class 'dict'>\n"
     ]
    }
   ],
   "source": [
    "print(sys.getrefcount(Ht))   # includes the temporary ref from getrefcount\n",
    "for obj in gc.get_referrers(Ht):\n",
    "    print(type(obj))\n",
    "if sys.getrefcount(Ht) == 2:\n",
    "    del Ht"
   ]
  },
  {
   "cell_type": "code",
   "execution_count": 24,
   "id": "e1dad5d8-ae62-4266-8902-79310e7b75e6",
   "metadata": {},
   "outputs": [
    {
     "data": {
      "text/plain": [
       "array([10.9877495 , -2.43215944, -2.9406885 , ...,  6.82777654,\n",
       "       -4.0935254 , 17.06361271], shape=(26973,))"
      ]
     },
     "execution_count": 24,
     "metadata": {},
     "output_type": "execute_result"
    }
   ],
   "source": [
    "Fp.flatten()"
   ]
  },
  {
   "cell_type": "code",
   "execution_count": 25,
   "id": "b20f2358-544d-4d5c-8d2b-8f01f50c9ffd",
   "metadata": {},
   "outputs": [
    {
     "name": "stdout",
     "output_type": "stream",
     "text": [
      "RMSE = 18.74 kcal/mol/Å\n",
      "PearsonRResult(statistic=np.float64(0.8522925335034806), pvalue=np.float64(0.0))\n"
     ]
    },
    {
     "data": {
      "text/plain": [
       "Text(0, 0.5, 'Predicted Force [kcal/mol/Å]')"
      ]
     },
     "execution_count": 25,
     "metadata": {},
     "output_type": "execute_result"
    },
    {
     "data": {
      "image/png": "[encoded data removed]",
      "text/plain": [
       "<Figure size 600x600 with 1 Axes>"
      ]
     },
     "metadata": {},
     "output_type": "display_data"
    }
   ],
   "source": [
    "fig = plt.figure(figsize=(6,6))\n",
    "Yft = test[\"F\"][:n_test].flatten()#[:1000],\n",
    "\n",
    "plt.scatter(Yft, - Fp.flatten(), s=1)\n",
    "res = pearsonr(Yft, Fp.flatten())\n",
    "rmse = np.sqrt(np.mean(np.square(Yft - Fp.flatten())))\n",
    "print(f\"RMSE = {rmse:.2f} kcal/mol/Å\")\n",
    "print(res)\n",
    "#plt.xlim(-100,100)\n",
    "#plt.ylim(-100,100)\n",
    "plt.xlabel(\"CCSD(T) Force [kcal/mol/Å]\")\n",
    "plt.ylabel(\"Predicted Force [kcal/mol/Å]\")"
   ]
  }
 ],
 "metadata": {
  "kernelspec": {
   "display_name": "Python 3 (ipykernel)",
   "language": "python",
   "name": "python3"
  },
  "language_info": {
   "codemirror_mode": {
    "name": "ipython",
    "version": 3
   },
   "file_extension": ".py",
   "mimetype": "text/x-python",
   "name": "python",
   "nbconvert_exporter": "python",
   "pygments_lexer": "ipython3",
   "version": "3.12.11"
  }
 },
 "nbformat": 4,
 "nbformat_minor": 5
}
