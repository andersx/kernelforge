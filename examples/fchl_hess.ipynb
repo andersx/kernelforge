{
 "cells": [
  {
   "cell_type": "code",
   "execution_count": 1,
   "id": "cee7de35-ad59-47d5-8222-0af1468ffcfe",
   "metadata": {},
   "outputs": [],
   "source": [
    "import time\n",
    "\n",
    "import matplotlib.pyplot as plt\n",
    "\n",
    "# import kernelforge\n",
    "# help(kernelforge._fchl19)\n",
    "import numpy as np\n",
    "from scipy.stats import pearsonr\n",
    "from tqdm.notebook import tqdm\n",
    "\n",
    "from kernelforge._fchl19 import (\n",
    "    fatomic_local_gradient_kernel,\n",
    "    fgdml_kernel,\n",
    "    fgdml_kernel_symm,\n",
    "    flocal_kernel,\n",
    "    flocal_kernel_symm,\n",
    "    generate_fchl_acsf,\n",
    "    generate_fchl_acsf_and_gradients,\n",
    ")\n",
    "from kernelforge._kernels import solve_cholesky"
   ]
  },
  {
   "cell_type": "code",
   "execution_count": 2,
   "id": "4071b673-60cb-43f3-9df8-fe1eb3ace36c",
   "metadata": {},
   "outputs": [],
   "source": [
    "train = np.load(\"/home/andersx/dev/laptop-qml/kitchen-sink-qml/data/ethanol_ccsd_t-train.npz\")\n",
    "test = np.load(\"/home/andersx/dev/laptop-qml/kitchen-sink-qml/data/ethanol_ccsd_t-test.npz\")\n",
    "elements=[1, 6, 8]\n",
    "n_train = 1000\n",
    "n_test = 999"
   ]
  },
  {
   "cell_type": "code",
   "execution_count": 3,
   "id": "c435d809-7b7b-4bba-8e1b-832fb65e3a5d",
   "metadata": {},
   "outputs": [
    {
     "data": {
      "application/vnd.jupyter.widget-view+json": {
       "model_id": "b0b7193998a5474eb10270c5c59676d1",
       "version_major": 2,
       "version_minor": 0
      },
      "text/plain": [
       "  0%|          | 0/1000 [00:00<?, ?it/s]"
      ]
     },
     "metadata": {},
     "output_type": "display_data"
    },
    {
     "data": {
      "application/vnd.jupyter.widget-view+json": {
       "model_id": "e6d35904c719430baecdde1f102cadf8",
       "version_major": 2,
       "version_minor": 0
      },
      "text/plain": [
       "  0%|          | 0/1000 [00:00<?, ?it/s]"
      ]
     },
     "metadata": {},
     "output_type": "display_data"
    }
   ],
   "source": [
    "X = np.asarray([generate_fchl_acsf(r, train[\"z\"], elements=elements) for r in tqdm(train[\"R\"][:n_train])])\n",
    "dX = np.asarray([generate_fchl_acsf_and_gradients(r, train[\"z\"], elements=elements)[1] for r in tqdm(train[\"R\"][:n_train])])\n",
    "Q = np.asarray([train[\"z\"] for r in train[\"R\"][:n_train]])\n",
    "N = np.asarray([len(train[\"z\"]) for r in train[\"R\"][:n_train]])\n",
    "\n",
    "Yf = train[\"F\"][:n_train].flatten()\n",
    "Yscal = np.std(Yf)\n",
    "Yf /= Yscal\n",
    "# Yf = -Yf\n",
    "Y = train[\"E\"][:n_train].flatten()\n",
    "offset = np.mean(train[\"E\"])\n",
    "Y -= offset"
   ]
  },
  {
   "cell_type": "code",
   "execution_count": 4,
   "id": "157c9ce6-38a0-4e2f-9325-d2b4c65afdc6",
   "metadata": {},
   "outputs": [
    {
     "data": {
      "application/vnd.jupyter.widget-view+json": {
       "model_id": "2e33d1432db14427bc15d30dabf261cf",
       "version_major": 2,
       "version_minor": 0
      },
      "text/plain": [
       "  0%|          | 0/999 [00:00<?, ?it/s]"
      ]
     },
     "metadata": {},
     "output_type": "display_data"
    },
    {
     "data": {
      "application/vnd.jupyter.widget-view+json": {
       "model_id": "759e0b6384d343f1bb9121f8fda4e718",
       "version_major": 2,
       "version_minor": 0
      },
      "text/plain": [
       "  0%|          | 0/999 [00:00<?, ?it/s]"
      ]
     },
     "metadata": {},
     "output_type": "display_data"
    }
   ],
   "source": [
    "Xt = np.asarray([generate_fchl_acsf(r, test[\"z\"], elements=elements) for r in tqdm(test[\"R\"][:n_test])])\n",
    "dXt = np.asarray([generate_fchl_acsf_and_gradients(r, test[\"z\"], elements=elements)[1] for r in tqdm(test[\"R\"][:n_test])])\n",
    "Qt = np.asarray([test[\"z\"] for r in test[\"R\"][:n_test]])\n",
    "Nt = np.asarray([len(test[\"z\"]) for r in test[\"R\"][:n_test]])\n",
    "\n",
    "Yft = test[\"F\"][:n_test].flatten()\n",
    "# Yft /= Yscal\n",
    "\n",
    "Yt = test[\"E\"].flatten()[:n_test] - offset"
   ]
  },
  {
   "cell_type": "code",
   "execution_count": 5,
   "id": "0eaae6f1-772c-4950-9377-363829a81d66",
   "metadata": {},
   "outputs": [
    {
     "name": "stdout",
     "output_type": "stream",
     "text": [
      "(27000, 27000)\n",
      "33.48766856401926\n"
     ]
    }
   ],
   "source": [
    "sigma = 2\n",
    "t0 = time.perf_counter()\n",
    "H = fgdml_kernel_symm(X, dX, Q, N, sigma)\n",
    "t1 = time.perf_counter()\n",
    "print(H.shape)\n",
    "print(t1-t0)"
   ]
  },
  {
   "cell_type": "code",
   "execution_count": 6,
   "id": "444ccb6c-3fa8-4873-bb57-0fcd7f55b6b7",
   "metadata": {
    "scrolled": true
   },
   "outputs": [
    {
     "name": "stdout",
     "output_type": "stream",
     "text": [
      "259574.725077111\n",
      "[-193988.96642823 -403887.80598284 -207717.59182991 ... -485458.13651257\n",
      " -120044.08228104   76367.18568668]\n"
     ]
    }
   ],
   "source": [
    "K_solve = H.copy()\n",
    "for i in range(K_solve.shape[0]):\n",
    "    K_solve[i,i] += 1e-8\n",
    "t0 = time.perf_counter()\n",
    "alphas = solve_cholesky(K_solve, Yf)\n",
    "t1 = time.perf_counter()\n",
    "print(t1)\n",
    "print(alphas)"
   ]
  },
  {
   "cell_type": "code",
   "execution_count": 7,
   "id": "b0d86883-9e3c-4d84-8f5e-117f22849196",
   "metadata": {
    "scrolled": true
   },
   "outputs": [
    {
     "name": "stdout",
     "output_type": "stream",
     "text": [
      "(999, 27000)\n",
      "14.496513087011408\n"
     ]
    }
   ],
   "source": [
    "t0 = time.perf_counter()\n",
    "Kp = fatomic_local_gradient_kernel(Xt, X, dX, Qt, Q, Nt, N, sigma)\n",
    "print(Kp.shape)\n",
    "t1 = time.perf_counter()\n",
    "print(t1-t0)"
   ]
  },
  {
   "cell_type": "code",
   "execution_count": 8,
   "id": "80fcda47-f9a8-4f0f-9077-46f834cf8110",
   "metadata": {},
   "outputs": [],
   "source": [
    "Yp = Kp @ alphas * Yscal\n",
    "Yp -= np.mean(Yp)"
   ]
  },
  {
   "cell_type": "code",
   "execution_count": 13,
   "id": "293f5599-9472-4848-9e77-e15618fde80d",
   "metadata": {},
   "outputs": [
    {
     "name": "stdout",
     "output_type": "stream",
     "text": [
      "RMSE = 0.1725954689268866\n",
      "PearsonRResult(statistic=np.float64(0.9999614614112914), pvalue=np.float64(0.0))\n"
     ]
    },
    {
     "data": {
      "text/plain": [
       "<matplotlib.collections.PathCollection at 0x7ab0ec5f7750>"
      ]
     },
     "execution_count": 13,
     "metadata": {},
     "output_type": "execute_result"
    },
    {
     "data": {
      "image/png": "[encoded data removed]",
      "text/plain": [
       "<Figure size 600x600 with 1 Axes>"
      ]
     },
     "metadata": {},
     "output_type": "display_data"
    }
   ],
   "source": [
    "rmse = np.sqrt(np.mean(np.square(Yt - Yp)))\n",
    "res = pearsonr(Yp, Yt)\n",
    "print(f\"RMSE = {rmse}\")\n",
    "print(res)\n",
    "fig = plt.figure(figsize=(6,6))\n",
    "plt.xlabel(\"CCSD(T) Energy [kcal/mol]\")\n",
    "plt.ylabel(\"Predicted Energy [kcal/mol]\")\n",
    "plt.title(\"kernelforge cpp FHCL19 Energy learning from Force\")\n",
    "plt.scatter(Yt, Yp, s=1)"
   ]
  },
  {
   "cell_type": "code",
   "execution_count": 10,
   "id": "18418bdf-1abf-414f-9860-b6fadfe4ffd1",
   "metadata": {},
   "outputs": [
    {
     "name": "stdout",
     "output_type": "stream",
     "text": [
      "(26973, 27000)\n",
      "47.55051377299242\n"
     ]
    }
   ],
   "source": [
    "t0 = time.perf_counter()\n",
    "Ht = fgdml_kernel(Xt, X, dXt, dX, Qt, Q, Nt, N, sigma).T\n",
    "t1 = time.perf_counter()\n",
    "print(Ht.shape)\n",
    "print(t1-t0)"
   ]
  },
  {
   "cell_type": "code",
   "execution_count": 11,
   "id": "e2eae55d-7d96-4490-ad2b-ad1d3711c186",
   "metadata": {
    "scrolled": true
   },
   "outputs": [
    {
     "data": {
      "text/plain": [
       "(26973,)"
      ]
     },
     "execution_count": 11,
     "metadata": {},
     "output_type": "execute_result"
    }
   ],
   "source": [
    "Yfp = Ht @ alphas * Yscal\n",
    "Yfp.shape"
   ]
  },
  {
   "cell_type": "code",
   "execution_count": 14,
   "id": "7f1c5d68-a95a-41a4-b602-91df6054016f",
   "metadata": {},
   "outputs": [
    {
     "name": "stdout",
     "output_type": "stream",
     "text": [
      "RMSE = 0.23369065306625653\n",
      "PearsonRResult(statistic=np.float64(0.9999638113839161), pvalue=np.float64(0.0))\n"
     ]
    },
    {
     "data": {
      "text/plain": [
       "<matplotlib.collections.PathCollection at 0x7ab0e43720d0>"
      ]
     },
     "execution_count": 14,
     "metadata": {},
     "output_type": "execute_result"
    },
    {
     "data": {
      "image/png": "[encoded data removed]",
      "text/plain": [
       "<Figure size 600x600 with 1 Axes>"
      ]
     },
     "metadata": {},
     "output_type": "display_data"
    }
   ],
   "source": [
    "rmse = np.sqrt(np.mean(np.square(Yft - Yfp)))\n",
    "res = pearsonr(Yfp, Yft)\n",
    "print(f\"RMSE = {rmse}\")\n",
    "print(res)\n",
    "fig = plt.figure(figsize=(6,6))\n",
    "plt.xlabel(\"CCSD(T) Force [kcal/mol/Å]\")\n",
    "plt.ylabel(\"Predicted Force [kcal/mol/Å]\")\n",
    "plt.title(\"kernelforge cpp FHCL19 Force learning from Force\")\n",
    "plt.scatter(Yft, Yfp, s=1)"
   ]
  },
  {
   "cell_type": "code",
   "execution_count": null,
   "id": "ddb8d71e-a0f5-433c-b765-dbf0be76776b",
   "metadata": {},
   "outputs": [],
   "source": []
  },
  {
   "cell_type": "code",
   "execution_count": null,
   "id": "6bd20c9e-6dca-4f84-85e4-d7e857478aa3",
   "metadata": {},
   "outputs": [],
   "source": []
  },
  {
   "cell_type": "code",
   "execution_count": null,
   "id": "4c7352d5-44e1-4bc3-8e6c-1cc0e6cd2f23",
   "metadata": {},
   "outputs": [],
   "source": []
  }
 ],
 "metadata": {
  "kernelspec": {
   "display_name": "Python 3 (ipykernel)",
   "language": "python",
   "name": "python3"
  },
  "language_info": {
   "codemirror_mode": {
    "name": "ipython",
    "version": 3
   },
   "file_extension": ".py",
   "mimetype": "text/x-python",
   "name": "python",
   "nbconvert_exporter": "python",
   "pygments_lexer": "ipython3",
   "version": "3.13.5"
  }
 },
 "nbformat": 4,
 "nbformat_minor": 5
}
