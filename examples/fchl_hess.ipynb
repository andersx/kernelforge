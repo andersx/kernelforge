{
 "cells": [
  {
   "cell_type": "code",
   "execution_count": 1,
   "id": "cee7de35-ad59-47d5-8222-0af1468ffcfe",
   "metadata": {},
   "outputs": [],
   "source": [
    "from kernelforge._fchl19 import flocal_kernel, generate_fchl_acsf, generate_fchl_acsf_and_gradients, flocal_kernel_symm, fatomic_local_gradient_kernel, fgdml_kernel\n",
    "from kernelforge._kernels import solve_cholesky\n",
    "# import kernelforge\n",
    "# help(kernelforge._fchl19)\n",
    "import numpy as np\n",
    "from scipy.stats import pearsonr\n",
    "import matplotlib.pyplot as plt\n",
    "import time\n",
    "from tqdm.notebook import tqdm"
   ]
  },
  {
   "cell_type": "code",
   "execution_count": 2,
   "id": "e3d9d273-68f1-46af-88c8-31c0b5a2297e",
   "metadata": {},
   "outputs": [
    {
     "name": "stdout",
     "output_type": "stream",
     "text": [
      "/home/andersx/dev/laptop-qml/libfakeintel.so\n"
     ]
    }
   ],
   "source": [
    "import os\n",
    "print(os.environ[\"LD_PRELOAD\"])"
   ]
  },
  {
   "cell_type": "code",
   "execution_count": 31,
   "id": "4071b673-60cb-43f3-9df8-fe1eb3ace36c",
   "metadata": {},
   "outputs": [],
   "source": [
    "train = np.load(\"/home/andersx/dev/laptop-qml/kitchen-sink-qml/data/ethanol_ccsd_t-train.npz\")\n",
    "test = np.load(\"/home/andersx/dev/laptop-qml/kitchen-sink-qml/data/ethanol_ccsd_t-test.npz\")\n",
    "elements=[1, 6, 8]\n",
    "n_train = 200\n",
    "n_test = 999"
   ]
  },
  {
   "cell_type": "code",
   "execution_count": 32,
   "id": "c435d809-7b7b-4bba-8e1b-832fb65e3a5d",
   "metadata": {},
   "outputs": [
    {
     "data": {
      "application/vnd.jupyter.widget-view+json": {
       "model_id": "a32bce1bf0524fa185aa4ca6c76da4ba",
       "version_major": 2,
       "version_minor": 0
      },
      "text/plain": [
       "  0%|          | 0/200 [00:00<?, ?it/s]"
      ]
     },
     "metadata": {},
     "output_type": "display_data"
    },
    {
     "data": {
      "application/vnd.jupyter.widget-view+json": {
       "model_id": "b708e429374c4f129604805332ed0371",
       "version_major": 2,
       "version_minor": 0
      },
      "text/plain": [
       "  0%|          | 0/200 [00:00<?, ?it/s]"
      ]
     },
     "metadata": {},
     "output_type": "display_data"
    },
    {
     "name": "stdout",
     "output_type": "stream",
     "text": [
      "[-10.20301055  33.65634891  -1.91316347 ...   1.70609665  22.80192018\n",
      "  26.694466  ]\n"
     ]
    }
   ],
   "source": [
    "X = np.asarray([generate_fchl_acsf(r, train[\"z\"], elements=elements) for r in tqdm(train[\"R\"][:n_train])])\n",
    "dX = np.asarray([generate_fchl_acsf_and_gradients(r, train[\"z\"], elements=elements)[1] for r in tqdm(train[\"R\"][:n_train])])\n",
    "Q = np.asarray([train[\"z\"] for r in train[\"R\"][:n_train]])\n",
    "N = np.asarray([len(train[\"z\"]) for r in train[\"R\"][:n_train]])\n",
    "\n",
    "Yf = train[\"F\"][:n_train].flatten()\n",
    "print(Yf)\n",
    "Yscal = np.std(Yf)\n",
    "Yf /= Yscal\n",
    "# Yf = -Yf\n",
    "Y = train[\"E\"][:n_train].flatten()\n",
    "offset = np.mean(train[\"E\"])\n",
    "Y -= offset"
   ]
  },
  {
   "cell_type": "code",
   "execution_count": 25,
   "id": "f2556ac2-efc6-4c59-a187-b7beb3923226",
   "metadata": {},
   "outputs": [
    {
     "name": "stdout",
     "output_type": "stream",
     "text": [
      "-97084.70075622278\n"
     ]
    }
   ],
   "source": [
    "print(offset)"
   ]
  },
  {
   "cell_type": "code",
   "execution_count": 26,
   "id": "157c9ce6-38a0-4e2f-9325-d2b4c65afdc6",
   "metadata": {},
   "outputs": [
    {
     "data": {
      "application/vnd.jupyter.widget-view+json": {
       "model_id": "2bc4b0ce3a584111bc73d10b6cef799b",
       "version_major": 2,
       "version_minor": 0
      },
      "text/plain": [
       "  0%|          | 0/999 [00:00<?, ?it/s]"
      ]
     },
     "metadata": {},
     "output_type": "display_data"
    },
    {
     "data": {
      "application/vnd.jupyter.widget-view+json": {
       "model_id": "b8b0a858d30944a3aa4d523c9c1a7ba6",
       "version_major": 2,
       "version_minor": 0
      },
      "text/plain": [
       "  0%|          | 0/999 [00:00<?, ?it/s]"
      ]
     },
     "metadata": {},
     "output_type": "display_data"
    }
   ],
   "source": [
    "Xt = np.asarray([generate_fchl_acsf(r, test[\"z\"], elements=elements) for r in tqdm(test[\"R\"][:n_test])])\n",
    "dXt = np.asarray([generate_fchl_acsf_and_gradients(r, test[\"z\"], elements=elements)[1] for r in tqdm(test[\"R\"][:n_test])])\n",
    "Qt = np.asarray([test[\"z\"] for r in test[\"R\"][:n_test]])\n",
    "Nt = np.asarray([len(test[\"z\"]) for r in test[\"R\"][:n_test]])\n",
    "\n",
    "Yft = test[\"F\"][:n_test].flatten()\n",
    "# Yft /= Yscal\n",
    "\n",
    "Yt = test[\"E\"].flatten()[:n_test] - offset"
   ]
  },
  {
   "cell_type": "code",
   "execution_count": 38,
   "id": "77534003-0ce2-4154-8fa0-879a2782c02d",
   "metadata": {},
   "outputs": [
    {
     "name": "stdout",
     "output_type": "stream",
     "text": [
      "(5400, 5400)\n",
      "2.0464500969974324\n"
     ]
    }
   ],
   "source": [
    "sigma = 2\n",
    "t0 = time.perf_counter()\n",
    "# K = flocal_kernel_symm(X, Q, N, sigma)\n",
    "H = fgdml_kernel(X, X, dX, dX, Q, Q, N, N, sigma)\n",
    "t1 = time.perf_counter()\n",
    "print(H.shape)\n",
    "print(t1-t0)"
   ]
  },
  {
   "cell_type": "code",
   "execution_count": 39,
   "id": "79bcfa4e-7dad-43dc-84ae-1b5e8e099e0d",
   "metadata": {},
   "outputs": [
    {
     "data": {
      "text/plain": [
       "array([[ 5.05645196,  1.95662023,  1.2175009 ,  0.81780798, -5.76539616],\n",
       "       [ 1.95662023,  0.90815627,  0.37595755,  0.11880575, -2.34438498],\n",
       "       [ 1.2175009 ,  0.37595755,  0.52482626,  0.34141588, -1.2905715 ],\n",
       "       [ 0.81780798,  0.11880575,  0.34141588,  0.42101143, -0.82812367],\n",
       "       [-5.76539616, -2.34438498, -1.2905715 , -0.82812367,  6.92341681]])"
      ]
     },
     "execution_count": 39,
     "metadata": {},
     "output_type": "execute_result"
    }
   ],
   "source": [
    "H[100:105, 100:105]"
   ]
  },
  {
   "cell_type": "code",
   "execution_count": 40,
   "id": "81baf977-13fe-47c6-abc0-3eb3aaf2ad0d",
   "metadata": {},
   "outputs": [
    {
     "data": {
      "text/plain": [
       "array([[ 5.05645196,  1.95662023,  1.2175009 ,  0.81780798, -5.76539616],\n",
       "       [ 1.95662023,  0.90815627,  0.37595755,  0.11880575, -2.34438498],\n",
       "       [ 1.2175009 ,  0.37595755,  0.52482626,  0.34141588, -1.2905715 ],\n",
       "       [ 0.81780798,  0.11880575,  0.34141588,  0.42101143, -0.82812367],\n",
       "       [-5.76539616, -2.34438498, -1.2905715 , -0.82812367,  6.92341681]])"
      ]
     },
     "execution_count": 40,
     "metadata": {},
     "output_type": "execute_result"
    }
   ],
   "source": [
    "H[100:105, 100:105]"
   ]
  },
  {
   "cell_type": "code",
   "execution_count": 41,
   "id": "74360e4d-4022-4fd4-a18d-fd5e9d2fb419",
   "metadata": {},
   "outputs": [
    {
     "data": {
      "text/plain": [
       "array([[ 2.3618658 ,  0.73907773,  0.09922488, -1.58487104, -1.12328016],\n",
       "       [ 0.73907773,  8.85184232,  0.25368039, -4.30059223, -3.93191058],\n",
       "       [ 0.09922488,  0.25368039,  0.05012864, -0.19495232, -0.178615  ],\n",
       "       [-1.58487104, -4.30059223, -0.19495232,  4.06736096,  3.02705644],\n",
       "       [-1.12328016, -3.93191058, -0.178615  ,  3.02705644,  3.03767997]])"
      ]
     },
     "execution_count": 41,
     "metadata": {},
     "output_type": "execute_result"
    }
   ],
   "source": [
    "H[:5, :5]"
   ]
  },
  {
   "cell_type": "code",
   "execution_count": 42,
   "id": "444ccb6c-3fa8-4873-bb57-0fcd7f55b6b7",
   "metadata": {
    "scrolled": true
   },
   "outputs": [
    {
     "data": {
      "text/plain": [
       "array([ -7011.65863807, -17897.34369297, -16113.76786514, ...,\n",
       "           68.33478781,  33669.5677037 ,   2509.54160245], shape=(5400,))"
      ]
     },
     "execution_count": 42,
     "metadata": {},
     "output_type": "execute_result"
    }
   ],
   "source": [
    "K_solve = H.copy()\n",
    "for i in range(K_solve.shape[0]):\n",
    "    K_solve[i,i] += 1e-10\n",
    "alphas = solve_cholesky(K_solve, Yf)\n",
    "alphas"
   ]
  },
  {
   "cell_type": "code",
   "execution_count": 43,
   "id": "b0d86883-9e3c-4d84-8f5e-117f22849196",
   "metadata": {
    "scrolled": true
   },
   "outputs": [
    {
     "name": "stdout",
     "output_type": "stream",
     "text": [
      "(999, 5400)\n",
      "3.069288682017941\n"
     ]
    }
   ],
   "source": [
    "t0 = time.perf_counter()\n",
    "Kp = fatomic_local_gradient_kernel(Xt, X, dX, Qt, Q, Nt, N, sigma)\n",
    "print(Kp.shape)\n",
    "t1 = time.perf_counter()\n",
    "print(t1-t0)"
   ]
  },
  {
   "cell_type": "code",
   "execution_count": 44,
   "id": "80fcda47-f9a8-4f0f-9077-46f834cf8110",
   "metadata": {},
   "outputs": [],
   "source": [
    "Yp = Kp @ alphas * Yscal\n",
    "Yp -= np.mean(Yp)"
   ]
  },
  {
   "cell_type": "code",
   "execution_count": 45,
   "id": "293f5599-9472-4848-9e77-e15618fde80d",
   "metadata": {},
   "outputs": [
    {
     "name": "stdout",
     "output_type": "stream",
     "text": [
      "RMSE = 0.199126300609521\n",
      "PearsonRResult(statistic=np.float64(0.999743078735741), pvalue=np.float64(0.0))\n"
     ]
    },
    {
     "data": {
      "text/plain": [
       "<matplotlib.collections.PathCollection at 0x7cbae4534910>"
      ]
     },
     "execution_count": 45,
     "metadata": {},
     "output_type": "execute_result"
    },
    {
     "data": {
      "image/png": "[encoded data removed]",
      "text/plain": [
       "<Figure size 600x600 with 1 Axes>"
      ]
     },
     "metadata": {},
     "output_type": "display_data"
    }
   ],
   "source": [
    "rmse = np.sqrt(np.mean(np.square(Yt - Yp)))\n",
    "res = pearsonr(Yp, Yt)\n",
    "print(f\"RMSE = {rmse}\")\n",
    "print(res)\n",
    "fig = plt.figure(figsize=(6,6))\n",
    "plt.xlabel(\"CCSD(T) Energy [kcal/mol]\")\n",
    "plt.ylabel(\"Predicted Energy [kcal/mol]\")\n",
    "plt.title(\"kernelforge cpp FHCL19 Energy learning from Enery\")\n",
    "plt.scatter(Yt, Yp, s=1)"
   ]
  },
  {
   "cell_type": "code",
   "execution_count": 46,
   "id": "18418bdf-1abf-414f-9860-b6fadfe4ffd1",
   "metadata": {},
   "outputs": [
    {
     "name": "stdout",
     "output_type": "stream",
     "text": [
      "(26973, 5400)\n",
      "10.142247198004043\n"
     ]
    }
   ],
   "source": [
    "t0 = time.perf_counter()\n",
    "Ht = fgdml_kernel(Xt, X, dXt, dX, Qt, Q, Nt, N, sigma).T\n",
    "t1 = time.perf_counter()\n",
    "print(Ht.shape)\n",
    "print(t1-t0)"
   ]
  },
  {
   "cell_type": "code",
   "execution_count": 47,
   "id": "e2eae55d-7d96-4490-ad2b-ad1d3711c186",
   "metadata": {
    "scrolled": true
   },
   "outputs": [
    {
     "data": {
      "text/plain": [
       "(26973,)"
      ]
     },
     "execution_count": 47,
     "metadata": {},
     "output_type": "execute_result"
    }
   ],
   "source": [
    "Yfp = Ht @ alphas * Yscal\n",
    "Yfp.shape"
   ]
  },
  {
   "cell_type": "code",
   "execution_count": 48,
   "id": "7f1c5d68-a95a-41a4-b602-91df6054016f",
   "metadata": {},
   "outputs": [
    {
     "name": "stdout",
     "output_type": "stream",
     "text": [
      "RMSE = 0.6900930465703387\n",
      "PearsonRResult(statistic=np.float64(0.9996843756612648), pvalue=np.float64(0.0))\n"
     ]
    },
    {
     "data": {
      "text/plain": [
       "<matplotlib.collections.PathCollection at 0x7cbae4524550>"
      ]
     },
     "execution_count": 48,
     "metadata": {},
     "output_type": "execute_result"
    },
    {
     "data": {
      "image/png": "[encoded data removed]",
      "text/plain": [
       "<Figure size 600x600 with 1 Axes>"
      ]
     },
     "metadata": {},
     "output_type": "display_data"
    }
   ],
   "source": [
    "rmse = np.sqrt(np.mean(np.square(Yft - Yfp)))\n",
    "res = pearsonr(Yfp, Yft)\n",
    "print(f\"RMSE = {rmse}\")\n",
    "print(res)\n",
    "fig = plt.figure(figsize=(6,6))\n",
    "plt.xlabel(\"CCSD(T) Force [kcal/mol/Å]\")\n",
    "plt.ylabel(\"Predicted Force [kcal/mol/Å]\")\n",
    "plt.title(\"kernelforge cpp FHCL19 Force learning from Enery\")\n",
    "plt.scatter(Yft, Yfp, s=1)"
   ]
  },
  {
   "cell_type": "code",
   "execution_count": null,
   "id": "ddb8d71e-a0f5-433c-b765-dbf0be76776b",
   "metadata": {},
   "outputs": [],
   "source": []
  },
  {
   "cell_type": "code",
   "execution_count": null,
   "id": "6bd20c9e-6dca-4f84-85e4-d7e857478aa3",
   "metadata": {},
   "outputs": [],
   "source": []
  },
  {
   "cell_type": "code",
   "execution_count": null,
   "id": "4c7352d5-44e1-4bc3-8e6c-1cc0e6cd2f23",
   "metadata": {},
   "outputs": [],
   "source": []
  }
 ],
 "metadata": {
  "kernelspec": {
   "display_name": "Python 3 (ipykernel)",
   "language": "python",
   "name": "python3"
  },
  "language_info": {
   "codemirror_mode": {
    "name": "ipython",
    "version": 3
   },
   "file_extension": ".py",
   "mimetype": "text/x-python",
   "name": "python",
   "nbconvert_exporter": "python",
   "pygments_lexer": "ipython3",
   "version": "3.13.5"
  }
 },
 "nbformat": 4,
 "nbformat_minor": 5
}
